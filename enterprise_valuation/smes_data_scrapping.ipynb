{
 "cells": [
  {
   "cell_type": "code",
   "execution_count": 11,
   "id": "270484c9",
   "metadata": {},
   "outputs": [
    {
     "name": "stdout",
     "output_type": "stream",
     "text": [
      "Requirement already satisfied: webdriver-manager in /Applications/miniconda3/lib/python3.9/site-packages (3.8.6)\n",
      "Requirement already satisfied: requests in /Applications/miniconda3/lib/python3.9/site-packages (from webdriver-manager) (2.27.1)\n",
      "Requirement already satisfied: python-dotenv in /Applications/miniconda3/lib/python3.9/site-packages (from webdriver-manager) (1.0.0)\n",
      "Requirement already satisfied: tqdm in /Applications/miniconda3/lib/python3.9/site-packages (from webdriver-manager) (4.64.0)\n",
      "Requirement already satisfied: packaging in /Applications/miniconda3/lib/python3.9/site-packages (from webdriver-manager) (22.0)\n",
      "Requirement already satisfied: urllib3<1.27,>=1.21.1 in /Applications/miniconda3/lib/python3.9/site-packages (from requests->webdriver-manager) (1.26.9)\n",
      "Requirement already satisfied: certifi>=2017.4.17 in /Applications/miniconda3/lib/python3.9/site-packages (from requests->webdriver-manager) (2022.12.7)\n",
      "Requirement already satisfied: charset-normalizer~=2.0.0 in /Applications/miniconda3/lib/python3.9/site-packages (from requests->webdriver-manager) (2.0.4)\n",
      "Requirement already satisfied: idna<4,>=2.5 in /Applications/miniconda3/lib/python3.9/site-packages (from requests->webdriver-manager) (3.3)\n"
     ]
    }
   ],
   "source": [
    "!pip install webdriver-manager\n",
    "!pip install pathos"
   ]
  },
  {
   "cell_type": "code",
   "execution_count": 12,
   "id": "4468d66c",
   "metadata": {},
   "outputs": [
    {
     "name": "stderr",
     "output_type": "stream",
     "text": [
      "[WDM] - Downloading: 100%|██████████| 7.40M/7.40M [00:00<00:00, 9.40MB/s]\n"
     ]
    },
    {
     "ename": "WebDriverException",
     "evalue": "Message: Service /Users/soyoung/.wdm/drivers/chromedriver/mac_arm64/114.0.5735.16/chromedriver unexpectedly exited. Status code was: -9\n",
     "output_type": "error",
     "traceback": [
      "\u001b[0;31m---------------------------------------------------------------------------\u001b[0m",
      "\u001b[0;31mWebDriverException\u001b[0m                        Traceback (most recent call last)",
      "Cell \u001b[0;32mIn[12], line 9\u001b[0m\n\u001b[1;32m      7\u001b[0m options \u001b[39m=\u001b[39m webdriver\u001b[39m.\u001b[39mChromeOptions()\n\u001b[1;32m      8\u001b[0m options\u001b[39m.\u001b[39madd_argument(\u001b[39m'\u001b[39m\u001b[39mheadless\u001b[39m\u001b[39m'\u001b[39m)\n\u001b[0;32m----> 9\u001b[0m driver \u001b[39m=\u001b[39m webdriver\u001b[39m.\u001b[39;49mChrome(service\u001b[39m=\u001b[39;49mChromeService(ChromeDriverManager(\u001b[39m\"\u001b[39;49m\u001b[39m114.0.5735.16\u001b[39;49m\u001b[39m\"\u001b[39;49m)\u001b[39m.\u001b[39;49minstall()), options\u001b[39m=\u001b[39;49moptions)\n\u001b[1;32m     10\u001b[0m driver\u001b[39m.\u001b[39mget(url\u001b[39m=\u001b[39m\u001b[39m'\u001b[39m\u001b[39mhttps://www.smes.go.kr/venturein/pbntc/searchVntrCmp\u001b[39m\u001b[39m'\u001b[39m)\n",
      "File \u001b[0;32m/Applications/miniconda3/lib/python3.9/site-packages/selenium/webdriver/chrome/webdriver.py:49\u001b[0m, in \u001b[0;36mWebDriver.__init__\u001b[0;34m(self, options, service, keep_alive)\u001b[0m\n\u001b[1;32m     45\u001b[0m \u001b[39mself\u001b[39m\u001b[39m.\u001b[39mkeep_alive \u001b[39m=\u001b[39m keep_alive\n\u001b[1;32m     47\u001b[0m \u001b[39mself\u001b[39m\u001b[39m.\u001b[39mservice\u001b[39m.\u001b[39mpath \u001b[39m=\u001b[39m DriverFinder\u001b[39m.\u001b[39mget_path(\u001b[39mself\u001b[39m\u001b[39m.\u001b[39mservice, \u001b[39mself\u001b[39m\u001b[39m.\u001b[39moptions)\n\u001b[0;32m---> 49\u001b[0m \u001b[39msuper\u001b[39;49m()\u001b[39m.\u001b[39;49m\u001b[39m__init__\u001b[39;49m(\n\u001b[1;32m     50\u001b[0m     DesiredCapabilities\u001b[39m.\u001b[39;49mCHROME[\u001b[39m\"\u001b[39;49m\u001b[39mbrowserName\u001b[39;49m\u001b[39m\"\u001b[39;49m],\n\u001b[1;32m     51\u001b[0m     \u001b[39m\"\u001b[39;49m\u001b[39mgoog\u001b[39;49m\u001b[39m\"\u001b[39;49m,\n\u001b[1;32m     52\u001b[0m     \u001b[39mself\u001b[39;49m\u001b[39m.\u001b[39;49moptions,\n\u001b[1;32m     53\u001b[0m     \u001b[39mself\u001b[39;49m\u001b[39m.\u001b[39;49mservice,\n\u001b[1;32m     54\u001b[0m     \u001b[39mself\u001b[39;49m\u001b[39m.\u001b[39;49mkeep_alive,\n\u001b[1;32m     55\u001b[0m )\n",
      "File \u001b[0;32m/Applications/miniconda3/lib/python3.9/site-packages/selenium/webdriver/chromium/webdriver.py:51\u001b[0m, in \u001b[0;36mChromiumDriver.__init__\u001b[0;34m(self, browser_name, vendor_prefix, options, service, keep_alive)\u001b[0m\n\u001b[1;32m     48\u001b[0m \u001b[39mself\u001b[39m\u001b[39m.\u001b[39mservice \u001b[39m=\u001b[39m service\n\u001b[1;32m     49\u001b[0m \u001b[39mself\u001b[39m\u001b[39m.\u001b[39moptions \u001b[39m=\u001b[39m options\n\u001b[0;32m---> 51\u001b[0m \u001b[39mself\u001b[39;49m\u001b[39m.\u001b[39;49mservice\u001b[39m.\u001b[39;49mstart()\n\u001b[1;32m     53\u001b[0m \u001b[39mtry\u001b[39;00m:\n\u001b[1;32m     54\u001b[0m     \u001b[39msuper\u001b[39m()\u001b[39m.\u001b[39m\u001b[39m__init__\u001b[39m(\n\u001b[1;32m     55\u001b[0m         command_executor\u001b[39m=\u001b[39mChromiumRemoteConnection(\n\u001b[1;32m     56\u001b[0m             remote_server_addr\u001b[39m=\u001b[39m\u001b[39mself\u001b[39m\u001b[39m.\u001b[39mservice\u001b[39m.\u001b[39mservice_url,\n\u001b[0;32m   (...)\u001b[0m\n\u001b[1;32m     62\u001b[0m         options\u001b[39m=\u001b[39m\u001b[39mself\u001b[39m\u001b[39m.\u001b[39moptions,\n\u001b[1;32m     63\u001b[0m     )\n",
      "File \u001b[0;32m/Applications/miniconda3/lib/python3.9/site-packages/selenium/webdriver/common/service.py:97\u001b[0m, in \u001b[0;36mService.start\u001b[0;34m(self)\u001b[0m\n\u001b[1;32m     95\u001b[0m count \u001b[39m=\u001b[39m \u001b[39m0\u001b[39m\n\u001b[1;32m     96\u001b[0m \u001b[39mwhile\u001b[39;00m \u001b[39mTrue\u001b[39;00m:\n\u001b[0;32m---> 97\u001b[0m     \u001b[39mself\u001b[39;49m\u001b[39m.\u001b[39;49massert_process_still_running()\n\u001b[1;32m     98\u001b[0m     \u001b[39mif\u001b[39;00m \u001b[39mself\u001b[39m\u001b[39m.\u001b[39mis_connectable():\n\u001b[1;32m     99\u001b[0m         \u001b[39mbreak\u001b[39;00m\n",
      "File \u001b[0;32m/Applications/miniconda3/lib/python3.9/site-packages/selenium/webdriver/common/service.py:110\u001b[0m, in \u001b[0;36mService.assert_process_still_running\u001b[0;34m(self)\u001b[0m\n\u001b[1;32m    108\u001b[0m return_code \u001b[39m=\u001b[39m \u001b[39mself\u001b[39m\u001b[39m.\u001b[39mprocess\u001b[39m.\u001b[39mpoll()\n\u001b[1;32m    109\u001b[0m \u001b[39mif\u001b[39;00m return_code:\n\u001b[0;32m--> 110\u001b[0m     \u001b[39mraise\u001b[39;00m WebDriverException(\u001b[39mf\u001b[39m\u001b[39m\"\u001b[39m\u001b[39mService \u001b[39m\u001b[39m{\u001b[39;00m\u001b[39mself\u001b[39m\u001b[39m.\u001b[39m_path\u001b[39m}\u001b[39;00m\u001b[39m unexpectedly exited. Status code was: \u001b[39m\u001b[39m{\u001b[39;00mreturn_code\u001b[39m}\u001b[39;00m\u001b[39m\"\u001b[39m)\n",
      "\u001b[0;31mWebDriverException\u001b[0m: Message: Service /Users/soyoung/.wdm/drivers/chromedriver/mac_arm64/114.0.5735.16/chromedriver unexpectedly exited. Status code was: -9\n"
     ]
    }
   ],
   "source": [
    "# selenium 4\n",
    "from selenium import webdriver\n",
    "from selenium.webdriver.chrome.service import Service as ChromeService\n",
    "from webdriver_manager.chrome import ChromeDriverManager\n",
    "from selenium.webdriver.common.by import By\n",
    "\n",
    "options = webdriver.ChromeOptions()\n",
    "options.add_argument('headless')\n",
    "driver = webdriver.Chrome(service=ChromeService(ChromeDriverManager(\"114.0.5735.16\").install()), options=options)\n",
    "# url 은 삭제하였습니다.\n",
    "driver.get(url='')"
   ]
  },
  {
   "cell_type": "code",
   "execution_count": null,
   "id": "33f1e342",
   "metadata": {},
   "outputs": [
    {
     "name": "stderr",
     "output_type": "stream",
     "text": [
      "  0%|          | 0/2524 [00:00<?, ?it/s]"
     ]
    },
    {
     "name": "stderr",
     "output_type": "stream",
     "text": [
      "100%|██████████| 2524/2524 [35:42<00:00,  1.18it/s]  \n"
     ]
    }
   ],
   "source": [
    "import json\n",
    "import time\n",
    "from collections import defaultdict\n",
    "from tqdm import tqdm\n",
    "import re\n",
    "\n",
    "pagination = driver.find_element(By.CLASS_NAME, 'page_arrow.r2')\n",
    "final_page = int(re.findall(r'\\d+', pagination.get_attribute('href')).pop())\n",
    "\n",
    "# parsing 후 dict 만든 뒤 json file 로 저장\n",
    "companies = defaultdict(str)\n",
    "for i in tqdm(range(1, final_page+1)):\n",
    "    while True:\n",
    "        try:\n",
    "            driver.execute_script(f'javascript:PagingHelper.gotoPage({i})')\n",
    "            time.sleep(0.5)\n",
    "            table = driver.find_element(By.ID, 'table')\n",
    "            trs = table.find_elements(By.CLASS_NAME, 'c_tit')\n",
    "        \n",
    "            if len(trs) == 0:\n",
    "                raise\n",
    "            \n",
    "            for t in trs:\n",
    "                company = t.text\n",
    "                link = t.get_attribute('href')\n",
    "                vniaSn = link.split('vniaSn=')[1].split('&')[0]\n",
    "                companies[company] = link\n",
    "            break\n",
    "        except:\n",
    "            pass\n",
    "\n",
    "with open('company.json', 'w') as f:\n",
    "    json.dump(companies, f, ensure_ascii = False)\n"
   ]
  },
  {
   "cell_type": "code",
   "execution_count": 27,
   "id": "485edc6d",
   "metadata": {},
   "outputs": [
    {
     "name": "stderr",
     "output_type": "stream",
     "text": [
      "100%|██████████| 35317/35317 [23:53:20<00:00,  2.44s/it]   \n"
     ]
    }
   ],
   "source": [
    "from selenium.common.exceptions import NoSuchElementException\n",
    "\n",
    "companies_js = defaultdict(dict)\n",
    "for company, link in tqdm(companies.items()):\n",
    "    try:\n",
    "        driver.get(url=link)\n",
    "        time.sleep(0.3)\n",
    "        ## 일반정보 페이지\n",
    "        # 업종, 주생산품\n",
    "        sector = driver.find_element(By.XPATH, '//*[@id=\"real_contents\"]/div/div[1]/div[1]/table/tbody/tr[3]/td[1]').text\n",
    "        companies_js[company]['sector'] = sector\n",
    "        product = driver.find_element(By.XPATH, '//*[@id=\"real_contents\"]/div/div[1]/div[1]/table/tbody/tr[3]/td[2]').text\n",
    "        companies_js[company]['product'] = product\n",
    "\n",
    "        ## 재무정보 > 대차대조표 페이지 이동\n",
    "        driver.find_element(By.XPATH, '//*[@id=\"real_contents\"]/div/ul/li[2]/a').click()\n",
    "        time.sleep(0.3)\n",
    "        # 마지막 연도 \n",
    "        latest_year = driver.find_element(By.XPATH, '//*[@id=\"real_contents\"]/div/div[1]/div[2]/div/div[1]/div[2]/div[2]/div[1]/table/thead/tr/th[2]').text\n",
    "        companies_js[company]['latest_year'] = latest_year\n",
    "\n",
    "        # 대차대조표 - 부채총계, 현금 및 현금성자산, 자본총계\n",
    "        liab = []\n",
    "        cash = []\n",
    "        equi = []\n",
    "\n",
    "        for i in range(3):\n",
    "            liab.append(driver.find_element(By.XPATH, f'//*[@id=\"real_contents\"]/div/div[1]/div[2]/div/div[1]/div[2]/div[2]/div[2]/table/tbody/tr[23]/td[{i+1}]').text)\n",
    "            cash.append(driver.find_element(By.XPATH, f'//*[@id=\"real_contents\"]/div/div[1]/div[2]/div/div[1]/div[2]/div[2]/div[1]/table/tbody/tr[3]/td[{i+1}]').text)\n",
    "            equi.append(driver.find_element(By.XPATH, f'//*[@id=\"real_contents\"]/div/div[1]/div[2]/div/div[1]/div[2]/div[2]/div[2]/table/tbody/tr[26]/td[{i+1}]').text)\n",
    "        companies_js[company]['liab'] = liab\n",
    "        companies_js[company]['cash'] = cash\n",
    "        companies_js[company]['equi'] = equi\n",
    "\n",
    "        ## 재무정보 > 손익계산서 페이지 이동\n",
    "        driver.find_element(By.XPATH, '//*[@id=\"real_contents\"]/div/div[1]/div[2]/ul/li[2]/a').click()\n",
    "        time.sleep(0.3)\n",
    "        # 손익계산서 - 매출액, 영업손익, 감가상각비, 당기순손익\n",
    "        reve = []\n",
    "        oper = []\n",
    "        depr = []\n",
    "        neti = []\n",
    "        for i in range(3):\n",
    "            reve.append(driver.find_element(By.XPATH, f'//*[@id=\"real_contents\"]/div/div[1]/div[2]/div/div[2]/div[2]/table/tbody/tr[1]/td[{i+1}]').text)\n",
    "            oper.append(driver.find_element(By.XPATH, f'//*[@id=\"real_contents\"]/div/div[1]/div[2]/div/div[2]/div[2]/table/tbody/tr[51]/td[{i+1}]').text)\n",
    "            depr.append(driver.find_element(By.XPATH, f'//*[@id=\"real_contents\"]/div/div[1]/div[2]/div/div[2]/div[2]/table/tbody/tr[33]/td[{i+1}]').text)\n",
    "            neti.append(driver.find_element(By.XPATH, f'//*[@id=\"real_contents\"]/div/div[1]/div[2]/div/div[2]/div[2]/table/tbody/tr[78]/td[{i+1}]').text)\n",
    "\n",
    "        companies_js[company]['reve'] = reve\n",
    "        companies_js[company]['oper'] = oper\n",
    "        companies_js[company]['depr'] = depr\n",
    "        companies_js[company]['neti'] = neti\n",
    "    except NoSuchElementException:\n",
    "        pass\n",
    "with open('companies_info.json', 'w') as f:\n",
    "    json.dump(companies_js, f, ensure_ascii=False)\n"
   ]
  },
  {
   "cell_type": "code",
   "execution_count": 29,
   "id": "a1246a9d",
   "metadata": {},
   "outputs": [],
   "source": []
  },
  {
   "cell_type": "code",
   "execution_count": null,
   "id": "7696bff1",
   "metadata": {},
   "outputs": [],
   "source": []
  }
 ],
 "metadata": {
  "kernelspec": {
   "display_name": "Python 3 (ipykernel)",
   "language": "python",
   "name": "python3"
  },
  "language_info": {
   "codemirror_mode": {
    "name": "ipython",
    "version": 3
   },
   "file_extension": ".py",
   "mimetype": "text/x-python",
   "name": "python",
   "nbconvert_exporter": "python",
   "pygments_lexer": "ipython3",
   "version": "3.9.12"
  }
 },
 "nbformat": 4,
 "nbformat_minor": 5
}
