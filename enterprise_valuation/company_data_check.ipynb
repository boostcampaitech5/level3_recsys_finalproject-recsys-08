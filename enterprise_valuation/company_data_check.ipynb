{
 "cells": [
  {
   "cell_type": "code",
   "execution_count": 339,
   "id": "9d687b56-8b18-412f-8878-5ef762626ee8",
   "metadata": {},
   "outputs": [],
   "source": [
    "import pandas as pd\n",
    "import json\n",
    "import numpy as np\n",
    "import tqdm"
   ]
  },
  {
   "cell_type": "markdown",
   "id": "10fe89a3-8397-4720-9504-b092cb506728",
   "metadata": {
    "tags": []
   },
   "source": [
    "### smes data"
   ]
  },
  {
   "cell_type": "code",
   "execution_count": 85,
   "id": "f3c2b2fe-4d90-46d1-b86e-a6220720802e",
   "metadata": {},
   "outputs": [],
   "source": [
    "with open('./data/companies_info.json') as f:\n",
    "    js = json.loads(f.read())"
   ]
  },
  {
   "cell_type": "code",
   "execution_count": 111,
   "id": "00238147-963d-4eef-a29d-1c6a34bac7dc",
   "metadata": {},
   "outputs": [],
   "source": [
    "smes_company = pd.DataFrame(js).transpose()\n",
    "smes_company = smes_company.reset_index().rename(columns={'index':'회사명'})"
   ]
  },
  {
   "cell_type": "code",
   "execution_count": 134,
   "id": "a664e4be-ed0c-4094-928d-77dc2105ccc6",
   "metadata": {},
   "outputs": [],
   "source": [
    "smes_company_22 = smes_company[smes_company['latest_year'] == '2022']\n",
    "smes_company_22.columns = ['회사명', '업종명', '주생산품', 'year', '부채총액', '현금', '자본총계', '매출액', '영업이익(EBIT)', '감가상각비', '당기순이익']\n",
    "smes_company_22 = smes_company_22.reset_index()\n",
    "smes_company_22 = smes_company_22.drop(['index'], axis=1)"
   ]
  },
  {
   "cell_type": "code",
   "execution_count": 160,
   "id": "51196964-659b-4479-b8b1-bf4cce32e000",
   "metadata": {},
   "outputs": [],
   "source": [
    "idx_after = ['부채총액', '현금', '자본총계', '매출액', '영업이익(EBIT)', '감가상각비', '당기순이익']\n",
    "\n",
    "for j, idx in enumerate(smes_company_22.columns[4:11]):\n",
    "    temp = smes_company_22[idx].apply(pd.Series)\n",
    "    smes_company_22[idx_after[j]] = temp[0].str.replace(',', '').apply(lambda x: int(x))\n",
    "\n",
    "del_idx_set = set()\n",
    "for j in idx_after:\n",
    "    if j == '감가상각비': continue\n",
    "    del_idx_set.update(smes_company_22[smes_company_22[j]==0]['회사명'].index)"
   ]
  },
  {
   "cell_type": "code",
   "execution_count": null,
   "id": "273c3aab-39c8-42b0-9455-33733f67de70",
   "metadata": {},
   "outputs": [],
   "source": [
    "smes_company_22 = smes_company_22.drop(del_idx_set).reset_index(drop=True)\n",
    "\n",
    "smes_company_22['순부채'] = smes_company_22['부채총액'] - smes_company_22['현금']\n",
    "smes_company_22['상각전영업이익(EBITDA)'] = smes_company_22['영업이익(EBIT)'] + smes_company_22['감가상각비']\n",
    "smes_company_22 = smes_company_22.drop(['liab', 'cash', 'equi', 'reve', 'oper', 'depr', 'neti'], axis=1)\n",
    "smes_company_22['상장분류'] = False"
   ]
  },
  {
   "cell_type": "markdown",
   "id": "553793b0-cf71-4525-a479-13329ec49bdf",
   "metadata": {},
   "source": [
    "### dart data"
   ]
  },
  {
   "cell_type": "code",
   "execution_count": null,
   "id": "1279c2ff-c8eb-4f7f-9e20-0d00deb67cdc",
   "metadata": {},
   "outputs": [],
   "source": [
    "dart_company = pd.read_csv('./data/final_df.csv')\n",
    "cols = ['부채총계', '현금및현금성자산', '자본총계', '매출액', '영업이익', '감가상각비', '당기순이익']"
   ]
  },
  {
   "cell_type": "markdown",
   "id": "912ff65e-7053-42c1-825b-da3f50b0a092",
   "metadata": {},
   "source": [
    "Null 값 & 중복 값 제거"
   ]
  },
  {
   "cell_type": "code",
   "execution_count": 408,
   "id": "12609fd9-6c2b-479d-9772-26f820c4b047",
   "metadata": {},
   "outputs": [],
   "source": [
    "del_idx_set = set()\n",
    "for j in cols:\n",
    "    if j == '감가상각비': continue\n",
    "    del_idx_set.update(dart_company[dart_company[j].isna() == True].index)\n",
    "    \n",
    "dart_company = dart_company.drop(del_idx_set).reset_index(drop=True)\n",
    "dart_company = dart_company.drop_duplicates()"
   ]
  },
  {
   "cell_type": "markdown",
   "id": "586b04f1-592a-471d-8f0b-f3e5938b9b3c",
   "metadata": {},
   "source": [
    "2022년 사업보고서만 추출"
   ]
  },
  {
   "cell_type": "code",
   "execution_count": 444,
   "id": "5c54cad8-c7b7-4959-832b-b547d6b810cd",
   "metadata": {},
   "outputs": [],
   "source": [
    "dart_company_22 = dart_company[(dart_company['report_code'] == 11011) & (dart_company['year'] == 2022)]"
   ]
  },
  {
   "cell_type": "markdown",
   "id": "1d0a2875-69cc-4057-af32-de081aa52342",
   "metadata": {},
   "source": [
    "column 통일을 위한 작업"
   ]
  },
  {
   "cell_type": "code",
   "execution_count": 446,
   "id": "358350b9-1a58-4847-adf3-408fc3f868ce",
   "metadata": {},
   "outputs": [],
   "source": [
    "dart_company_22 = dart_company_22.drop(['유동자산', '유동부채', '자본금', '비유동자산', '비유동부채', '이익잉여금', '법인세차감전 순이익', 'year', 'report_code', '구분', '발행할 주식의 총수', '현재까지 발행한 주식의 총수',\n",
    "       '현재까지 감소한 주식의 총수', '현재까지 감소한 주식의 총수(감자)', '현재까지 감소한 주식의 총수(이익소각)',\n",
    "       '현재까지 감소한 주식의 총수(상환주식의 상환)', '현재까지 감소한 주식의 총수(기타)', '자기주식수',\n",
    "       '유통주식수'], axis = 1)\n",
    "dart_company_22.columns = ['회사명', '자산총계', '부채총액', '자본총계', '매출액', '당기순이익', '영업이익(EBIT)', '법인유형',\n",
    "       '화폐', '결산 월', '발행주식의 총수', '업종', '업종명', '현금', '감가상각비']\n",
    "dart_company_22.loc[dart_company_22['감가상각비'].isna(), '감가상각비'] = 0\n",
    "dart_company_22['순부채'] = dart_company_22['부채총액'] - dart_company_22['현금']\n",
    "dart_company_22['상각전영업이익(EBITDA)'] = dart_company_22['영업이익(EBIT)'] + dart_company_22['감가상각비']\n",
    "dart_company_22['상장분류'] = True"
   ]
  },
  {
   "cell_type": "markdown",
   "id": "599dbbb2-974e-405d-9f8b-7b2f01edc7a6",
   "metadata": {},
   "source": [
    "KRX 크롤링으로 주가 column 채우기"
   ]
  },
  {
   "cell_type": "code",
   "execution_count": 492,
   "id": "9982e1cc-b444-42cf-b5d5-65550f8b73ba",
   "metadata": {},
   "outputs": [],
   "source": [
    "corp = pd.read_csv('./data/corp.csv')"
   ]
  },
  {
   "cell_type": "markdown",
   "id": "a84879f4-1bef-4816-9096-b4b1e390dbd9",
   "metadata": {},
   "source": [
    "- 주식코드 변경으로 인해 트래킹이 되지 않았음. 수작업처리"
   ]
  },
  {
   "cell_type": "code",
   "execution_count": null,
   "id": "0c0a5da9-6add-419c-83ca-322b5c9a27a5",
   "metadata": {},
   "outputs": [],
   "source": [
    "corp_stock = corp[corp['stock_code']!=' '][['corp_name', 'stock_code']]\n",
    "corp_stock.columns=['회사명', '종목코드']"
   ]
  },
  {
   "cell_type": "code",
   "execution_count": null,
   "id": "3e9a5740-6867-4435-b52a-e711f74f45b7",
   "metadata": {},
   "outputs": [],
   "source": [
    "dup_codes = corp_stock.groupby(['회사명']).filter(lambda x : len(x) > 1)['회사명'].unique()\n",
    "for dc in dup_codes:\n",
    "    if dc == '원텍' or dc == '원익피앤이':\n",
    "        # 위에 있는 값 사용\n",
    "        corp_stock = corp_stock.drop_duplicates(['회사명'], keep='first')\n",
    "    else:\n",
    "        # 아래에 있는 값 사용\n",
    "        corp_stock = corp_stock.drop_duplicates(['회사명'], keep='last')"
   ]
  },
  {
   "cell_type": "code",
   "execution_count": null,
   "id": "3c1c1c5b-aad0-476d-9765-1ca7aeeb2d30",
   "metadata": {},
   "outputs": [],
   "source": [
    "for dc in dup_codes:\n",
    "    if dc == '두산건설':\n",
    "        corp = corp.drop(index = corp[corp['corp_name'] == dc].index, axis=0)\n",
    "    if dc == '국민은행':\n",
    "        corp = pd.concat([corp, pd.DataFrame({'corp_code':[np.NaN], 'corp_name': [dc], 'stock_code': ['105560'], 'modify_date':['20230712']})], ignore_index=True)\n",
    "    if dc == '하나은행':\n",
    "        corp = pd.concat([corp, pd.DataFrame({'corp_code':[np.NaN], 'corp_name': [dc], 'stock_code': ['086790'], 'modify_date':['20230712']})], ignore_index=True)"
   ]
  },
  {
   "cell_type": "markdown",
   "id": "a4937e57-bb00-48e7-8e97-6b2a59764926",
   "metadata": {},
   "source": [
    "corp & dart data merge"
   ]
  },
  {
   "cell_type": "code",
   "execution_count": null,
   "id": "a330ea41-4e98-4f26-8113-318a2d30bbeb",
   "metadata": {},
   "outputs": [],
   "source": [
    "dart_company_22 = pd.merge(dart_company_22, corp_stock, on='회사명', how='left')\n",
    "dart_company_22['주가'] = np.NaN"
   ]
  },
  {
   "cell_type": "code",
   "execution_count": null,
   "id": "f4397eaf-5268-4f2f-9072-43d25dfce3dd",
   "metadata": {},
   "outputs": [],
   "source": [
    "from pykrx import stock\n",
    "error_idx = set()\n",
    "last_day = ['31', '28', '31', '30', '31', '30', '31', '31', '30', '31', '30', '31']\n",
    "\n",
    "for i, data in enumerate(dart_company_22['종목코드']):\n",
    "    try:\n",
    "        month = int(dart_company_22['결산 월'][i])\n",
    "        s_month = str(month).zfill(2)\n",
    "        stocks = stock.get_market_ohlcv(f'2022{s_month}01', f'2022{s_month}{last_day[month-1]}', data, 'm')\n",
    "        dart_company_22.loc[i, '주가'] = stocks['종가'][0]\n",
    "    except (KeyError, IndexError):\n",
    "        error_idx.add(i)\n",
    "dart_company_22 = dart_company_22.drop(index=dart_company_22[dart_company_22['주가'].isna()].index, axis = 0).reset_index(drop=True)\n",
    "dart_company_22 = dart_company_22.rename(columns={'업종':'업종코드'})\n",
    "dart_company_22.to_csv('./data/dart_comp_22.csv', index=False)"
   ]
  },
  {
   "cell_type": "markdown",
   "id": "2ca8b4e4-6522-46c5-b37b-62d5ba1fe9ed",
   "metadata": {},
   "source": [
    "### All data"
   ]
  },
  {
   "cell_type": "code",
   "execution_count": null,
   "id": "953e7657-ed57-41d2-9582-293016426f9f",
   "metadata": {},
   "outputs": [],
   "source": [
    "all_company = pd.DataFrame(columns = ['회사명', '업종명', '상장분류', '주가', '발행주식의 총수', '시가총액', '부채총액', '현금', '순부채', '기업총가치', '자본총계', '매출액', '영업이익(EBIT)', '감가상각비', '상각전영업이익(EBITDA)', '당기순이익', 'EBITDA배율', 'EBIT배율', 'PER배율', 'PBR배율', 'PSR배율', '기업 가치'])\n",
    "all_company_22 = pd.concat([all_company, smes_company_22])\n",
    "all_company_22 = pd.concat([all_company_22, dart_company_22])"
   ]
  },
  {
   "cell_type": "code",
   "execution_count": null,
   "id": "2464d51f-8173-4f5d-86f8-8174651e3df1",
   "metadata": {},
   "outputs": [],
   "source": [
    "all_company_22['시가총액'] = all_company_22['주가'] * all_company_22['발행주식의 총수']\n",
    "all_company_22['시가총액'] = all_company_22['시가총액'].replace(np.nan, 0)\n",
    "all_company_22['기업총가치'] = all_company_22['시가총액'] + all_company_22['순부채']"
   ]
  },
  {
   "cell_type": "markdown",
   "id": "2c994232-0748-4b37-b716-c84ff2dfdd97",
   "metadata": {},
   "source": [
    "- EBITDA 배율"
   ]
  },
  {
   "cell_type": "code",
   "execution_count": null,
   "id": "91be7fa7-443a-4245-a0b4-4bec0c4dbde0",
   "metadata": {},
   "outputs": [],
   "source": [
    "all_company_22 = all_company_22.drop(index = list(all_company_22[all_company_22['상각전영업이익(EBITDA)'] == 0]['영업이익(EBIT)'].index), axis=0).reset_index(drop=True)\n",
    "all_company_22['EBITDA배율'] = all_company_22['기업총가치'] / all_company_22['상각전영업이익(EBITDA)']"
   ]
  },
  {
   "cell_type": "markdown",
   "id": "b2f08c81-ad9d-48a2-ba90-10211d9f5cbc",
   "metadata": {},
   "source": [
    "- EBIT 배율"
   ]
  },
  {
   "cell_type": "code",
   "execution_count": null,
   "id": "214531b4-0842-438d-9587-9b53c362e141",
   "metadata": {},
   "outputs": [],
   "source": [
    "all_company_22 = all_company_22.drop(index = list(all_company_22[all_company_22['영업이익(EBIT)'] == 0]['영업이익(EBIT)'].index), axis=0).reset_index(drop=True)\n",
    "all_company_22['EBIT배율'] = all_company_22['기업총가치'] / all_company_22['영업이익(EBIT)']"
   ]
  },
  {
   "cell_type": "markdown",
   "id": "a37c4d59-07fc-4ed3-95aa-97a1503a67c8",
   "metadata": {},
   "source": [
    "- PER 배율"
   ]
  },
  {
   "cell_type": "code",
   "execution_count": null,
   "id": "7fb5c591-e418-4cd2-bbf6-822fce338663",
   "metadata": {},
   "outputs": [],
   "source": [
    "all_company_22 = all_company_22.drop(index = list(all_company_22[all_company_22['당기순이익'] == 0]['당기순이익'].index), axis=0).reset_index(drop=True)\n",
    "all_company_22['PER배율'] = all_company_22['시가총액'] / all_company_22['당기순이익']"
   ]
  },
  {
   "cell_type": "markdown",
   "id": "254ab3ab-b1b1-4375-bfe3-b37a5a0d0eb9",
   "metadata": {},
   "source": [
    "- PBR 배율"
   ]
  },
  {
   "cell_type": "code",
   "execution_count": null,
   "id": "f4f9604b-651d-4421-b151-c776142c134c",
   "metadata": {},
   "outputs": [],
   "source": [
    "all_company_22 = all_company_22.drop(index = list(all_company_22[all_company_22['자본총계'] == 0]['자본총계'].index), axis=0).reset_index(drop=True)\n",
    "all_company_22['PBR배율'] = all_company_22['시가총액'] / all_company_22['자본총계']"
   ]
  },
  {
   "cell_type": "markdown",
   "id": "62995aae-cdc7-4140-a33a-ce8f2f70fa4f",
   "metadata": {},
   "source": [
    "- PSR 배율"
   ]
  },
  {
   "cell_type": "code",
   "execution_count": null,
   "id": "4fc5e5c1-2fb8-46f7-bd3d-0bfdc46fdebd",
   "metadata": {},
   "outputs": [],
   "source": [
    "all_company_22 = all_company_22.drop(index = list(all_company_22[all_company_22['매출액'] == 0]['매출액'].index), axis=0).reset_index(drop=True)\n",
    "all_company_22['PSR배율'] = all_company_22['기업총가치'] / all_company_22['매출액']"
   ]
  },
  {
   "cell_type": "markdown",
   "id": "7b04225a-d492-4d40-affa-71aca8731113",
   "metadata": {},
   "source": [
    "- 필요없는 column drop"
   ]
  },
  {
   "cell_type": "code",
   "execution_count": null,
   "id": "8625c8bd-1b13-438d-b1a9-fd4d29963751",
   "metadata": {},
   "outputs": [],
   "source": [
    "all_company_22 = all_company_22.drop(['year', '결산 월', '업종코드', '법인유형', '자산총계', '기업 가치'], axis=1)\n",
    "all_company_22 = all_company_22.drop(index = all_company_22[all_company_22['화폐'] == 'USD'].index, axis=0)\n",
    "all_company_22 = all_company_22.drop(index = all_company_22[all_company_22['화폐'] == 'JPY'].index, axis=0)\n",
    "all_company_22 = all_company_22.drop(['화폐'], axis=1)\n",
    "all_company_22.to_csv('./data/all_data_2022.csv', index=False)"
   ]
  }
 ],
 "metadata": {
  "kernelspec": {
   "display_name": "Python 3 (ipykernel)",
   "language": "python",
   "name": "python3"
  },
  "language_info": {
   "codemirror_mode": {
    "name": "ipython",
    "version": 3
   },
   "file_extension": ".py",
   "mimetype": "text/x-python",
   "name": "python",
   "nbconvert_exporter": "python",
   "pygments_lexer": "ipython3",
   "version": "3.8.5"
  }
 },
 "nbformat": 4,
 "nbformat_minor": 5
}
