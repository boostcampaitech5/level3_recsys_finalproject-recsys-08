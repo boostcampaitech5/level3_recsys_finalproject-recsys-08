{
 "cells": [
  {
   "cell_type": "markdown",
   "id": "7a968796-ad7b-4f0a-8b77-471fee5883c8",
   "metadata": {
    "jp-MarkdownHeadingCollapsed": true,
    "tags": []
   },
   "source": [
    "# Settings"
   ]
  },
  {
   "cell_type": "code",
   "execution_count": 1,
   "id": "beca6134-a03a-4482-8c65-6b416af93426",
   "metadata": {},
   "outputs": [],
   "source": [
    "import numpy as np\n",
    "import pandas as pd\n",
    "import matplotlib.pyplot as plt\n",
    "import seaborn as sns\n",
    "\n",
    "import os\n",
    "import shutil\n",
    "import sys\n",
    "import json\n",
    "import requests\n",
    "from bs4 import BeautifulSoup\n",
    "from tqdm import tqdm\n",
    "tqdm.pandas()\n",
    "import math\n",
    "import random\n",
    "import torch\n",
    "\n",
    "import warnings\n",
    "warnings.filterwarnings('ignore')"
   ]
  },
  {
   "cell_type": "code",
   "execution_count": 2,
   "id": "c0af3f23-2e1e-4255-8834-15f9b15250c8",
   "metadata": {},
   "outputs": [],
   "source": [
    "class dummy_class:\n",
    "    def __init__(self):\n",
    "        pass\n",
    "    \n",
    "args = dummy_class()\n",
    "\n",
    "args.seed = 42\n",
    "\n",
    "args.summarization_input = '/train.tsv'\n",
    "args.summarization_output = '/test.tsv'\n",
    "\n",
    "args.summarization_pretrain = 'gogamza/kobart-summarization'\n",
    "# args.summarization_pretrain = 'gogamza/kobart-base-v2'\n",
    "args.version = 'backup8'\n",
    "args.summarization_model = f'kobart/{args.version}'\n",
    "args.summarization_model_b = 'kobart/backup7'\n",
    "args.isBefore = True\n",
    "\n",
    "# args.sentence_embedding_pretrain = 'BM-K/KoSimCSE-bert-multitask'\n",
    "args.sentence_embedding_pretrain = 'BM-K/KoSimCSE-roberta-multitask'\n",
    "\n",
    "args.check_percent = 0.99\n",
    "args.max_len = 1024\n",
    "args.ignore_index = -100\n",
    "\n",
    "args.num_beams=5\n",
    "args.max_length=512\n",
    "args.bos_token_id = 0\n",
    "args.eos_token_id=1\n",
    "args.pad_token_id = 3\n",
    "args.decoder_start_token_id = 0\n",
    "args.repetition_penalty = 5.0\n",
    "args.length_penalty = 1.0\n",
    "\n",
    "args.scale = 'small' # small / middle / original\n",
    "args.newSample = False\n",
    "\n",
    "def add_padding_data(inputs):\n",
    "    if len(inputs) < args.max_len:\n",
    "        pad = np.array([args.pad_token_id] *(args.max_len - len(inputs)))\n",
    "        inputs = np.concatenate([inputs, pad])\n",
    "    else:\n",
    "        inputs = inputs[:args.max_len]\n",
    "\n",
    "    return inputs\n",
    "\n",
    "def filtering_text(text):\n",
    "    try:\n",
    "        \n",
    "        length = len(text)\n",
    "        index = set(range(length))\n",
    "\n",
    "        pairs1 = list()\n",
    "        stack = list()\n",
    "        for i in range(length):\n",
    "            if text[i] == '(':\n",
    "                stack.append(i)\n",
    "            elif text[i] == ')':\n",
    "                if stack:\n",
    "                    pairs1.append((stack.pop(), i))\n",
    "        \n",
    "        for i in stack:\n",
    "            pairs1.append((i, i))\n",
    "        \n",
    "        pairs2 = list()\n",
    "        stack = list()\n",
    "        for i in range(length):\n",
    "            if text[i] == '[':\n",
    "                stack.append(i)\n",
    "            elif text[i] == ']':\n",
    "                if stack:\n",
    "                    pairs2.append((stack.pop(), i))\n",
    "                    \n",
    "        for i in stack:\n",
    "            pairs2.append((i, i))\n",
    "    \n",
    "    except:\n",
    "        print(text)\n",
    "                \n",
    "    for start, end in pairs1 + pairs2:\n",
    "        index -= set(range(start, end+1))\n",
    "\n",
    "    index = list(index)\n",
    "    index.sort()\n",
    "    text = ''.join([text[idx] for idx in index])\n",
    "            \n",
    "    return text\n",
    "\n",
    "os.environ[\"PYTHONHASHSEED\"] = str(args.seed)\n",
    "random.seed(args.seed)\n",
    "np.random.seed(args.seed)\n",
    "torch.manual_seed(args.seed)\n",
    "torch.cuda.manual_seed(args.seed)\n",
    "torch.backends.cudnn.deterministic = True"
   ]
  },
  {
   "cell_type": "code",
   "execution_count": 3,
   "id": "3cae89e4-28a4-49c9-9053-b472758e8be8",
   "metadata": {},
   "outputs": [],
   "source": [
    "def convert_size(size_bytes):\n",
    "    if size_bytes == 0:\n",
    "        return \"0B\"\n",
    "    size_name = (\"B\", \"KB\", \"MB\", \"GB\", \"TB\", \"PB\", \"EB\", \"ZB\", \"YB\")\n",
    "    i = int(math.floor(math.log(size_bytes, 1024)))\n",
    "    p = math.pow(1024, i)\n",
    "    s = round(size_bytes / p, 2)\n",
    "    return \"%s %s\" % (s, size_name[i])"
   ]
  },
  {
   "cell_type": "code",
   "execution_count": 4,
   "id": "03ed654f-7c59-449b-9f0a-03048671072a",
   "metadata": {},
   "outputs": [],
   "source": [
    "path = '.'\n",
    "kobart_data_path = path + '/kobart/data'\n",
    "data_path = path + '/data'\n",
    "patent_path = data_path + '/patent'\n",
    "patent_training_path = patent_path + '/Training/training_특허전체'\n",
    "patent_validation_path = patent_path + '/Validation/validation_특허전체'\n",
    "patent_name = '/특허전체_{}-Y-{}.json'\n",
    "patent_training_index = list(zip([9] * 33, range(33))) + list(zip([10] * 14, range(14)))\n",
    "patent_validation_index = list(zip([10] * 5, range(14,20)))\n",
    "patent_training_name = '/patent_training.tsv'\n",
    "patent_validation_name = '/patent_validation.tsv'\n",
    "file_name = '/patent.tsv'\n",
    "save_name = '/patents_10.tsv'\n",
    "\n",
    "class_name = '/class.tsv'\n",
    "\n",
    "# columns = ['순서', '출원번호', '발명의명칭', '출원인', '공개번호', '원출원번호', '발명자', '관련 출원번호', '요약', '청구항']\n",
    "# pd.DataFrame(columns = columns).to_csv(data_path + file_name, sep = '\\t', index = False)\n",
    "\n",
    "# columns = ['제목', '문서번호', '등록번호', '등록날짜', '요약(Input)', '요약(Output)']\n",
    "# pd.DataFrame(columns = columns).to_csv(patent_training_path + patent_training_name, sep = '\\t', index = False)\n",
    "# pd.DataFrame(columns = columns).to_csv(patent_validation_path + patent_validation_name, sep = '\\t', index = False)\n",
    "\n",
    "# columns = ['order', 'abstract', 'number', 'class']\n",
    "# pd.DataFrame(columns = columns).to_csv(data_path + class_name, sep = '\\t', index = False)"
   ]
  },
  {
   "cell_type": "code",
   "execution_count": null,
   "id": "e128f04f-c083-49e1-b308-8f036aacae0d",
   "metadata": {},
   "outputs": [],
   "source": []
  },
  {
   "cell_type": "markdown",
   "id": "5dd6050a-e9dd-44bd-bef5-6d04c12ffa99",
   "metadata": {
    "tags": []
   },
   "source": [
    "# Summarization Input/Output"
   ]
  },
  {
   "cell_type": "code",
   "execution_count": 15,
   "id": "5429a040-10ce-4f07-964e-ac06b1ebf932",
   "metadata": {},
   "outputs": [
    {
     "data": {
      "text/plain": [
       "((65710, 2), (13369, 2))"
      ]
     },
     "execution_count": 15,
     "metadata": {},
     "output_type": "execute_result"
    }
   ],
   "source": [
    "df_training = pd.read_csv(kobart_data_path + args.summarization_input, sep = '\\t')\n",
    "df_validation = pd.read_csv(kobart_data_path + args.summarization_output, sep = '\\t')\n",
    "df_training.shape, df_validation.shape"
   ]
  },
  {
   "cell_type": "code",
   "execution_count": 10,
   "id": "ba414dcf-0c68-4f6c-8385-93211617c03d",
   "metadata": {},
   "outputs": [],
   "source": [
    "# df_training['output'] = df_training['output'].apply(filtering_text)\n",
    "# df_validation['output'] = df_validation['output'].apply(filtering_text)"
   ]
  },
  {
   "cell_type": "code",
   "execution_count": 16,
   "id": "08ca83ee-7212-41a7-ade2-25b49e25ecb2",
   "metadata": {},
   "outputs": [
    {
     "data": {
      "text/plain": [
       "((65710, 2), (13369, 2))"
      ]
     },
     "execution_count": 16,
     "metadata": {},
     "output_type": "execute_result"
    }
   ],
   "source": [
    "df_training.dropna(inplace = True)\n",
    "df_validation.dropna(inplace = True)\n",
    "df_training.shape, df_validation.shape"
   ]
  },
  {
   "cell_type": "code",
   "execution_count": 17,
   "id": "75fa107b-fc42-4634-87ca-54f650b6369e",
   "metadata": {},
   "outputs": [],
   "source": [
    "df_training['input_length'] = df_training['input'].apply(len)\n",
    "df_validation['input_length'] = df_validation['input'].apply(len)\n",
    "\n",
    "df_training['output_length'] = df_training['output'].apply(len)\n",
    "df_validation['output_length'] = df_validation['output'].apply(len)"
   ]
  },
  {
   "cell_type": "code",
   "execution_count": 18,
   "id": "ee749446-59b5-47de-ac22-5216f3855ff0",
   "metadata": {},
   "outputs": [
    {
     "name": "stderr",
     "output_type": "stream",
     "text": [
      "The tokenizer class you load from this checkpoint is not the same type as the class this function is called from. It may result in unexpected tokenization. \n",
      "The tokenizer class you load from this checkpoint is 'BartTokenizer'. \n",
      "The class this function is called from is 'PreTrainedTokenizerFast'.\n"
     ]
    }
   ],
   "source": [
    "from transformers import BartForConditionalGeneration, PreTrainedTokenizerFast\n",
    "\n",
    "tokenizer = PreTrainedTokenizerFast.from_pretrained(args.summarization_pretrain)\n",
    "df_training['input_tokens'] = df_training['input'].apply(lambda x: len(tokenizer.tokenize(x)))\n",
    "df_validation['input_tokens'] = df_validation['input'].apply(lambda x: len(tokenizer.tokenize(x)))"
   ]
  },
  {
   "cell_type": "code",
   "execution_count": 19,
   "id": "c0487031-a0aa-4ede-8066-f5aa6c94ab36",
   "metadata": {},
   "outputs": [],
   "source": [
    "df_training['output_tokens'] = df_training['output'].apply(lambda x: len(tokenizer.tokenize(x)))\n",
    "df_validation['output_tokens'] = df_validation['output'].apply(lambda x: len(tokenizer.tokenize(x)))"
   ]
  },
  {
   "cell_type": "code",
   "execution_count": 11,
   "id": "20b99731-7881-4e63-818c-6d0321e88330",
   "metadata": {},
   "outputs": [
    {
     "data": {
      "text/plain": [
       "((123265, 6), (13302, 6))"
      ]
     },
     "execution_count": 11,
     "metadata": {},
     "output_type": "execute_result"
    }
   ],
   "source": [
    "df_training = df_training[(df_training['input_length'] > df_training['output_length'])]\n",
    "df_validation = df_validation[(df_validation['input_length'] > df_validation['output_length'])]\n",
    "df_training.shape, df_validation.shape"
   ]
  },
  {
   "cell_type": "code",
   "execution_count": 48,
   "id": "3b08b511-fcae-4a2a-8856-a750d86690c3",
   "metadata": {},
   "outputs": [
    {
     "data": {
      "text/plain": [
       "count    65710.000000\n",
       "mean       170.400487\n",
       "std         75.469496\n",
       "min         20.000000\n",
       "25%        119.000000\n",
       "50%        158.000000\n",
       "75%        207.000000\n",
       "max       1578.000000\n",
       "Name: input_tokens, dtype: float64"
      ]
     },
     "execution_count": 48,
     "metadata": {},
     "output_type": "execute_result"
    }
   ],
   "source": [
    "df_training['input_tokens'].describe()"
   ]
  },
  {
   "cell_type": "code",
   "execution_count": 49,
   "id": "d0a7b2e8-43bc-4ec7-98f4-cb43a565820b",
   "metadata": {},
   "outputs": [
    {
     "data": {
      "text/plain": [
       "419.0"
      ]
     },
     "execution_count": 49,
     "metadata": {},
     "output_type": "execute_result"
    }
   ],
   "source": [
    "df_training['input_tokens'].quantile(0.99)"
   ]
  },
  {
   "cell_type": "code",
   "execution_count": 15,
   "id": "c259674e-a6f1-49e1-9a75-1b2460788e51",
   "metadata": {},
   "outputs": [
    {
     "data": {
      "text/plain": [
       "count    13369.000000\n",
       "mean       203.804473\n",
       "std        116.523143\n",
       "min         18.000000\n",
       "25%        129.000000\n",
       "50%        178.000000\n",
       "75%        248.000000\n",
       "max       1617.000000\n",
       "Name: input_tokens, dtype: float64"
      ]
     },
     "execution_count": 15,
     "metadata": {},
     "output_type": "execute_result"
    }
   ],
   "source": [
    "df_validation['input_tokens'].describe()"
   ]
  },
  {
   "cell_type": "code",
   "execution_count": 16,
   "id": "22240e26-ef43-4b81-a0b6-9db0e8b17bde",
   "metadata": {},
   "outputs": [
    {
     "data": {
      "text/plain": [
       "628.3199999999997"
      ]
     },
     "execution_count": 16,
     "metadata": {},
     "output_type": "execute_result"
    }
   ],
   "source": [
    "df_validation['input_tokens'].quantile(0.99)"
   ]
  },
  {
   "cell_type": "code",
   "execution_count": 17,
   "id": "543da463-7f38-4cef-8b30-a6e74a47f1a1",
   "metadata": {},
   "outputs": [
    {
     "data": {
      "text/plain": [
       "count    124058.000000\n",
       "mean         53.874462\n",
       "std          36.392755\n",
       "min           1.000000\n",
       "25%          29.000000\n",
       "50%          46.000000\n",
       "75%          69.000000\n",
       "max         767.000000\n",
       "Name: output_tokens, dtype: float64"
      ]
     },
     "execution_count": 17,
     "metadata": {},
     "output_type": "execute_result"
    }
   ],
   "source": [
    "df_training['output_tokens'].describe()"
   ]
  },
  {
   "cell_type": "code",
   "execution_count": 18,
   "id": "6dc66fe9-02ea-4436-86b1-1285291bf12c",
   "metadata": {},
   "outputs": [
    {
     "data": {
      "text/plain": [
       "181.0"
      ]
     },
     "execution_count": 18,
     "metadata": {},
     "output_type": "execute_result"
    }
   ],
   "source": [
    "df_training['output_tokens'].quantile(0.99)"
   ]
  },
  {
   "cell_type": "code",
   "execution_count": 19,
   "id": "6672aab7-2a08-4b01-a70e-97beb95555f1",
   "metadata": {},
   "outputs": [
    {
     "data": {
      "text/plain": [
       "count    13369.000000\n",
       "mean        61.222829\n",
       "std         38.729763\n",
       "min          1.000000\n",
       "25%         35.000000\n",
       "50%         54.000000\n",
       "75%         78.000000\n",
       "max        574.000000\n",
       "Name: output_tokens, dtype: float64"
      ]
     },
     "execution_count": 19,
     "metadata": {},
     "output_type": "execute_result"
    }
   ],
   "source": [
    "df_validation['output_tokens'].describe()"
   ]
  },
  {
   "cell_type": "code",
   "execution_count": 20,
   "id": "04f60e3a-0f13-488c-bd19-43bbd9082899",
   "metadata": {},
   "outputs": [
    {
     "data": {
      "text/plain": [
       "193.0"
      ]
     },
     "execution_count": 20,
     "metadata": {},
     "output_type": "execute_result"
    }
   ],
   "source": [
    "df_validation['output_tokens'].quantile(0.99)"
   ]
  },
  {
   "cell_type": "code",
   "execution_count": 21,
   "id": "0f2de0f6-04b8-4cc5-8c23-b762b02a011d",
   "metadata": {},
   "outputs": [
    {
     "data": {
      "text/plain": [
       "((124058, 6), (13369, 6))"
      ]
     },
     "execution_count": 21,
     "metadata": {},
     "output_type": "execute_result"
    }
   ],
   "source": [
    "df_training.shape, df_validation.shape"
   ]
  },
  {
   "cell_type": "code",
   "execution_count": 33,
   "id": "7b215da5-3380-4887-84a7-ce040ef4dbf9",
   "metadata": {},
   "outputs": [
    {
     "data": {
      "text/html": [
       "<div>\n",
       "<style scoped>\n",
       "    .dataframe tbody tr th:only-of-type {\n",
       "        vertical-align: middle;\n",
       "    }\n",
       "\n",
       "    .dataframe tbody tr th {\n",
       "        vertical-align: top;\n",
       "    }\n",
       "\n",
       "    .dataframe thead th {\n",
       "        text-align: right;\n",
       "    }\n",
       "</style>\n",
       "<table border=\"1\" class=\"dataframe\">\n",
       "  <thead>\n",
       "    <tr style=\"text-align: right;\">\n",
       "      <th></th>\n",
       "      <th>input</th>\n",
       "      <th>output</th>\n",
       "      <th>input_length</th>\n",
       "      <th>output_length</th>\n",
       "      <th>input_tokens</th>\n",
       "      <th>output_tokens</th>\n",
       "    </tr>\n",
       "  </thead>\n",
       "  <tbody>\n",
       "  </tbody>\n",
       "</table>\n",
       "</div>"
      ],
      "text/plain": [
       "Empty DataFrame\n",
       "Columns: [input, output, input_length, output_length, input_tokens, output_tokens]\n",
       "Index: []"
      ]
     },
     "execution_count": 33,
     "metadata": {},
     "output_type": "execute_result"
    }
   ],
   "source": [
    "df_training[df_training['output_tokens'] == 1]"
   ]
  },
  {
   "cell_type": "code",
   "execution_count": 34,
   "id": "1e8d7bd2-8b4c-4b51-8447-bce6eab01bdd",
   "metadata": {},
   "outputs": [
    {
     "data": {
      "text/html": [
       "<div>\n",
       "<style scoped>\n",
       "    .dataframe tbody tr th:only-of-type {\n",
       "        vertical-align: middle;\n",
       "    }\n",
       "\n",
       "    .dataframe tbody tr th {\n",
       "        vertical-align: top;\n",
       "    }\n",
       "\n",
       "    .dataframe thead th {\n",
       "        text-align: right;\n",
       "    }\n",
       "</style>\n",
       "<table border=\"1\" class=\"dataframe\">\n",
       "  <thead>\n",
       "    <tr style=\"text-align: right;\">\n",
       "      <th></th>\n",
       "      <th>input</th>\n",
       "      <th>output</th>\n",
       "      <th>input_length</th>\n",
       "      <th>output_length</th>\n",
       "      <th>input_tokens</th>\n",
       "      <th>output_tokens</th>\n",
       "    </tr>\n",
       "  </thead>\n",
       "  <tbody>\n",
       "    <tr>\n",
       "      <th>871</th>\n",
       "      <td>본 발명은 컷아웃스위치 또는 피뢰기 고정용 경완금의 제조방법에 관한 것으로, FRP...</td>\n",
       "      <td>.</td>\n",
       "      <td>1319</td>\n",
       "      <td>1</td>\n",
       "      <td>640</td>\n",
       "      <td>1</td>\n",
       "    </tr>\n",
       "    <tr>\n",
       "      <th>3295</th>\n",
       "      <td>본 발명은 물건 지지팔의 폭 조절이 가능한 핸드 캐리어에 관한 것이다. 본 발명은 ...</td>\n",
       "      <td>.</td>\n",
       "      <td>1140</td>\n",
       "      <td>1</td>\n",
       "      <td>590</td>\n",
       "      <td>1</td>\n",
       "    </tr>\n",
       "    <tr>\n",
       "      <th>6738</th>\n",
       "      <td>본 발명은 대형의 화분 이동용 핸드 캐리어에 관한 것이다. 본 발명은 상단에 손잡이...</td>\n",
       "      <td>.</td>\n",
       "      <td>1691</td>\n",
       "      <td>1</td>\n",
       "      <td>879</td>\n",
       "      <td>1</td>\n",
       "    </tr>\n",
       "    <tr>\n",
       "      <th>7470</th>\n",
       "      <td>기계구조물용 고정 핀 빼기 및 박음장치  내부에 사각의 구멍이 형성되며 실린더의 ...</td>\n",
       "      <td>.</td>\n",
       "      <td>1128</td>\n",
       "      <td>1</td>\n",
       "      <td>564</td>\n",
       "      <td>1</td>\n",
       "    </tr>\n",
       "    <tr>\n",
       "      <th>11720</th>\n",
       "      <td>본 발명은 엘이디모듈의 변형을 방지한 엘이디투광등에 관한 것이다. 이러한 본 발명은...</td>\n",
       "      <td>.</td>\n",
       "      <td>869</td>\n",
       "      <td>1</td>\n",
       "      <td>472</td>\n",
       "      <td>1</td>\n",
       "    </tr>\n",
       "  </tbody>\n",
       "</table>\n",
       "</div>"
      ],
      "text/plain": [
       "                                                   input output  input_length  \\\n",
       "871    본 발명은 컷아웃스위치 또는 피뢰기 고정용 경완금의 제조방법에 관한 것으로, FRP...      .          1319   \n",
       "3295   본 발명은 물건 지지팔의 폭 조절이 가능한 핸드 캐리어에 관한 것이다. 본 발명은 ...      .          1140   \n",
       "6738   본 발명은 대형의 화분 이동용 핸드 캐리어에 관한 것이다. 본 발명은 상단에 손잡이...      .          1691   \n",
       "7470    기계구조물용 고정 핀 빼기 및 박음장치  내부에 사각의 구멍이 형성되며 실린더의 ...      .          1128   \n",
       "11720  본 발명은 엘이디모듈의 변형을 방지한 엘이디투광등에 관한 것이다. 이러한 본 발명은...      .           869   \n",
       "\n",
       "       output_length  input_tokens  output_tokens  \n",
       "871                1           640              1  \n",
       "3295               1           590              1  \n",
       "6738               1           879              1  \n",
       "7470               1           564              1  \n",
       "11720              1           472              1  "
      ]
     },
     "execution_count": 34,
     "metadata": {},
     "output_type": "execute_result"
    }
   ],
   "source": [
    "df_validation[df_validation['output_tokens'] == 1]"
   ]
  },
  {
   "cell_type": "code",
   "execution_count": null,
   "id": "8e4dcad3-2266-4190-a884-e196eeeae729",
   "metadata": {},
   "outputs": [],
   "source": []
  },
  {
   "cell_type": "code",
   "execution_count": 22,
   "id": "df321e4a-9737-4d7c-8e46-5a8afdfe4c3f",
   "metadata": {},
   "outputs": [],
   "source": [
    "df_training['ratio_length'] = df_training['output_length'] / df_training['input_length']\n",
    "df_training['ratio_tokens'] = df_training['output_tokens'] / df_training['input_tokens']"
   ]
  },
  {
   "cell_type": "code",
   "execution_count": 23,
   "id": "3e0d99cd-922c-490b-80e6-4d98ac2d6c6a",
   "metadata": {},
   "outputs": [
    {
     "data": {
      "text/plain": [
       "mean        0.470328\n",
       "sum     58348.000000\n",
       "Name: ratio_tokens, dtype: float64"
      ]
     },
     "execution_count": 23,
     "metadata": {},
     "output_type": "execute_result"
    }
   ],
   "source": [
    "((df_training['ratio_tokens'] < 0.2) | (df_training['ratio_tokens'] > 0.5)).agg(['mean', 'sum'])"
   ]
  },
  {
   "cell_type": "code",
   "execution_count": 24,
   "id": "44e0a9cc-1149-42eb-b6ae-251c34e7187e",
   "metadata": {},
   "outputs": [
    {
     "data": {
      "text/plain": [
       "('본 발명의 과제는 감도, 해상성, 노광 마진이 우수할 뿐 아니라, MEEF 성능도 만족시키는 감방사선성 수지 조성물 및 이 감방사선성 수지 조성물에 바람직하게 이용되는 저분자 화합물을 제공하는 것이다. 본 발명은  특정 구조를 가지는 산해리성기 함유 질소 화합물,  산해리성기로 보호된 알칼리 불용성 또는 알칼리 난용성의 수지이며, 상기 산해리성기가 해리되었을 때에 알칼리 가용성이 되는 수지, 및  감방사선성 산 발생제를 포함하는 것을 특징으로 하는 감방사선성 수지 조성물을 제공한다.',\n",
       " '본 발명은 IC 등의 반도체 제조 공정, 액정, 서멀 헤드 등의 회로 기판의 제조, 그 밖의 포토리소그래피 공정에 사용되는 감방사선성 수지 조성물에 관한 것이다.  보다 구체적으로는, KrF 엑시머 레이저·ArF 엑시머 레이저 등의 파장 250 nm 이하의 원자외선이나 전자선을 노광 광원으로 하는 포토리소그래피 공정에 바람직하게 사용할 수 있는 화학증폭형의 감방사선성 수지 조성물에 관한 것이다.  ')"
      ]
     },
     "execution_count": 24,
     "metadata": {},
     "output_type": "execute_result"
    }
   ],
   "source": [
    "df_training.loc[1015]['input'], df_training.loc[1015]['output']"
   ]
  },
  {
   "cell_type": "code",
   "execution_count": 25,
   "id": "94148ba0-fdb6-44ef-b7c8-2a7660ef58e3",
   "metadata": {},
   "outputs": [
    {
     "data": {
      "text/plain": [
       "('본 발명은 아이씨카드에 관한 것으로, 투명 재질의 상층 코팅 매체부, 상기 상층 코팅 매체부 안쪽에 구비되는 상층 절연 매체부, 상기 상층 절연 매체부와 접합되도록 구비되는 하층 절연 매체부, 상기 상층 절연 매체부와 하층 절연 매체부의 접합부에 매입되는 IC칩을 포함하여 구성된 아이씨카드에 있어서, 상기 상층 코팅 매체부 안쪽의 상층 절연 매체부에 매입되어 2차원 좌표 영역을 표시하는 표시 모듈과 상기 2차원 좌표 영역에 표시될 2차원 좌표 표시 값으로 부호화 가능한 크기 이내의 부호화 대상 값을 동적으로 생성하는 생성 모듈과 상기 부호화 대상 값을 상기 2차원 좌표 영역에 표시 가능한 i개의 표시 영역 좌표 값과 j개의 공백 영역 좌표 값으로 부호화한 2차원 좌표 표시 값을 생성하는 부호화 모듈 및 상기 생성된 2차원 좌표 표시 값을 상기 표시 모듈의 2차원 좌표 영역에 표시되도록 제어하는 제어 모듈을 구비한다.',\n",
       " '본 발명은 투명 재질의 상층 코팅 매체부, 상기 상층 코팅 매체부 안쪽에 구비되는 상층 절연 매체부, 상기 상층 절연 매체부와 접합되도록 구비되는 하층 절연 매체부, 상기 상층 절연 매체부와 하층 절연 매체부의 접합부에 매입되는 IC칩을 포함하여 구성된 아이씨카드에 있어서, 상기 상층 코팅 매체부 안쪽의 상층 절연 매체부에 매입되어 2차원 좌표 영역을 표시하는 표시 모듈과 상기 2차원 좌표 영역에 표시될 2차원 좌표 표시 값으로 부호화 가능한 크기 이내의 부호화 대상 값을 동적으로 생성하는 생성 모듈과 상기 부호화 대상 값을 상기 2차원 좌표 영역에 표시 가능한 i개의 표시 영역 좌표 값과 j개의 공백 영역 좌표 값으로 부호화한 2차원 좌표 표시 값을 생성하는 부호화 모듈 및 상기 생성된 2차원 좌표 표시 값을 상기 표시 모듈의 2차원 좌표 영역에 표시되도록 제어하는 제어 모듈을 구비하는 아이씨카드에 관한 것이다.')"
      ]
     },
     "execution_count": 25,
     "metadata": {},
     "output_type": "execute_result"
    }
   ],
   "source": [
    "df_training.loc[1066]['input'], df_training.loc[1066]['output']"
   ]
  },
  {
   "cell_type": "code",
   "execution_count": 26,
   "id": "6bffc202-ab5b-480f-8b28-a83f2a5a2049",
   "metadata": {},
   "outputs": [
    {
     "data": {
      "text/html": [
       "<div>\n",
       "<style scoped>\n",
       "    .dataframe tbody tr th:only-of-type {\n",
       "        vertical-align: middle;\n",
       "    }\n",
       "\n",
       "    .dataframe tbody tr th {\n",
       "        vertical-align: top;\n",
       "    }\n",
       "\n",
       "    .dataframe thead th {\n",
       "        text-align: right;\n",
       "    }\n",
       "</style>\n",
       "<table border=\"1\" class=\"dataframe\">\n",
       "  <thead>\n",
       "    <tr style=\"text-align: right;\">\n",
       "      <th></th>\n",
       "      <th>input</th>\n",
       "      <th>output</th>\n",
       "      <th>ratio_length</th>\n",
       "      <th>ratio_tokens</th>\n",
       "    </tr>\n",
       "  </thead>\n",
       "  <tbody>\n",
       "    <tr>\n",
       "      <th>1060</th>\n",
       "      <td>도전성 분말, 과냉각 액체 구간을 가지는 금속 유리, 그리고 유기 비히클을 포함하는...</td>\n",
       "      <td>도전성 페이스트, 상기 도전성 페이스트를 사용하여 형성된 전극을 포함하는 전자 소자...</td>\n",
       "      <td>0.581818</td>\n",
       "      <td>0.566038</td>\n",
       "    </tr>\n",
       "    <tr>\n",
       "      <th>1061</th>\n",
       "      <td>본 발명은 백라이트 유닛과 이를 구비하는 표시 장치에 관한 것이다. 상기 백라이트 ...</td>\n",
       "      <td>본 발명은 표시 장치에 관한 것이다.</td>\n",
       "      <td>0.058140</td>\n",
       "      <td>0.047059</td>\n",
       "    </tr>\n",
       "    <tr>\n",
       "      <th>1062</th>\n",
       "      <td>본 발명은 백라이트 유닛과 이를 구비하는 표시 장치에 관한 것이다. 상기 백라이트 ...</td>\n",
       "      <td>본 발명은 표시 장치에 관한 것이다.</td>\n",
       "      <td>0.057307</td>\n",
       "      <td>0.047059</td>\n",
       "    </tr>\n",
       "    <tr>\n",
       "      <th>1063</th>\n",
       "      <td>본 발명은 블라스팅 로봇 제어기의 방열 및 방진을 위한 장치에 관한 것으로, 함체와...</td>\n",
       "      <td>본 발명은 블라스팅 로봇 제어기의 방열 및 방진을 위한 장치에 관한 것으로, 보다 ...</td>\n",
       "      <td>0.455357</td>\n",
       "      <td>0.432558</td>\n",
       "    </tr>\n",
       "    <tr>\n",
       "      <th>1064</th>\n",
       "      <td>간격조정장치를 구비하는 냉장고를 개시한다. 냉장고는 본체와, 상기 본체를 개폐하는 ...</td>\n",
       "      <td>본 발명은 냉장고에 관한 것으로, 더욱 상세하게는 냉장고 도어와 본체 사이의 간격을...</td>\n",
       "      <td>0.594406</td>\n",
       "      <td>0.545455</td>\n",
       "    </tr>\n",
       "    <tr>\n",
       "      <th>1065</th>\n",
       "      <td>휴대 단말에 구비된 적어도 하나의 센서로부터 센싱 데이터를 수집하는 센싱 데이터 수...</td>\n",
       "      <td>휴대 단말을 이용하여 사용자의 현재 행동 상태를 측정하는 기술과 관련된다.</td>\n",
       "      <td>0.127726</td>\n",
       "      <td>0.116667</td>\n",
       "    </tr>\n",
       "    <tr>\n",
       "      <th>1066</th>\n",
       "      <td>본 발명은 아이씨카드에 관한 것으로, 투명 재질의 상층 코팅 매체부, 상기 상층 코...</td>\n",
       "      <td>본 발명은 투명 재질의 상층 코팅 매체부, 상기 상층 코팅 매체부 안쪽에 구비되는 ...</td>\n",
       "      <td>0.997835</td>\n",
       "      <td>1.000000</td>\n",
       "    </tr>\n",
       "    <tr>\n",
       "      <th>1067</th>\n",
       "      <td>본 발명은 플라스틱 카드에 관한 것으로, 투명 재질의 상층 코팅 매체부, 상기 상층...</td>\n",
       "      <td>본 발명은 투명 재질의 상층 코팅 매체부, 상기 상층 코팅 매체부 안쪽에 구비되는 ...</td>\n",
       "      <td>0.997890</td>\n",
       "      <td>1.000000</td>\n",
       "    </tr>\n",
       "    <tr>\n",
       "      <th>1068</th>\n",
       "      <td>전극 연장부를 갖는 발광 다이오드가 개시된다. 이 발광 다이오드는, 제1 도전형 질...</td>\n",
       "      <td>본 발명은 발광 다이오드에 관한 것으로, 특히 전극 연장부를 갖는 발광 다이오드에 ...</td>\n",
       "      <td>0.129268</td>\n",
       "      <td>0.114428</td>\n",
       "    </tr>\n",
       "  </tbody>\n",
       "</table>\n",
       "</div>"
      ],
      "text/plain": [
       "                                                  input  \\\n",
       "1060  도전성 분말, 과냉각 액체 구간을 가지는 금속 유리, 그리고 유기 비히클을 포함하는...   \n",
       "1061  본 발명은 백라이트 유닛과 이를 구비하는 표시 장치에 관한 것이다. 상기 백라이트 ...   \n",
       "1062  본 발명은 백라이트 유닛과 이를 구비하는 표시 장치에 관한 것이다. 상기 백라이트 ...   \n",
       "1063  본 발명은 블라스팅 로봇 제어기의 방열 및 방진을 위한 장치에 관한 것으로, 함체와...   \n",
       "1064  간격조정장치를 구비하는 냉장고를 개시한다. 냉장고는 본체와, 상기 본체를 개폐하는 ...   \n",
       "1065  휴대 단말에 구비된 적어도 하나의 센서로부터 센싱 데이터를 수집하는 센싱 데이터 수...   \n",
       "1066  본 발명은 아이씨카드에 관한 것으로, 투명 재질의 상층 코팅 매체부, 상기 상층 코...   \n",
       "1067  본 발명은 플라스틱 카드에 관한 것으로, 투명 재질의 상층 코팅 매체부, 상기 상층...   \n",
       "1068  전극 연장부를 갖는 발광 다이오드가 개시된다. 이 발광 다이오드는, 제1 도전형 질...   \n",
       "\n",
       "                                                 output  ratio_length  \\\n",
       "1060  도전성 페이스트, 상기 도전성 페이스트를 사용하여 형성된 전극을 포함하는 전자 소자...      0.581818   \n",
       "1061                               본 발명은 표시 장치에 관한 것이다.      0.058140   \n",
       "1062                               본 발명은 표시 장치에 관한 것이다.      0.057307   \n",
       "1063  본 발명은 블라스팅 로봇 제어기의 방열 및 방진을 위한 장치에 관한 것으로, 보다 ...      0.455357   \n",
       "1064  본 발명은 냉장고에 관한 것으로, 더욱 상세하게는 냉장고 도어와 본체 사이의 간격을...      0.594406   \n",
       "1065          휴대 단말을 이용하여 사용자의 현재 행동 상태를 측정하는 기술과 관련된다.      0.127726   \n",
       "1066  본 발명은 투명 재질의 상층 코팅 매체부, 상기 상층 코팅 매체부 안쪽에 구비되는 ...      0.997835   \n",
       "1067  본 발명은 투명 재질의 상층 코팅 매체부, 상기 상층 코팅 매체부 안쪽에 구비되는 ...      0.997890   \n",
       "1068  본 발명은 발광 다이오드에 관한 것으로, 특히 전극 연장부를 갖는 발광 다이오드에 ...      0.129268   \n",
       "\n",
       "      ratio_tokens  \n",
       "1060      0.566038  \n",
       "1061      0.047059  \n",
       "1062      0.047059  \n",
       "1063      0.432558  \n",
       "1064      0.545455  \n",
       "1065      0.116667  \n",
       "1066      1.000000  \n",
       "1067      1.000000  \n",
       "1068      0.114428  "
      ]
     },
     "execution_count": 26,
     "metadata": {},
     "output_type": "execute_result"
    }
   ],
   "source": [
    "df_training[['input', 'output', 'ratio_length', 'ratio_tokens']].loc[1060:1068]"
   ]
  },
  {
   "cell_type": "code",
   "execution_count": 31,
   "id": "800a8770-e636-4ff5-ac4a-faecdfff6c0e",
   "metadata": {},
   "outputs": [],
   "source": [
    "df_training = df_training[(df_training['ratio_tokens'] >= 0.2) & (df_training['ratio_tokens'] <= 0.5)]"
   ]
  },
  {
   "cell_type": "code",
   "execution_count": 33,
   "id": "e609a7b3-fd55-4abf-a865-8c2e0db5eecd",
   "metadata": {},
   "outputs": [
    {
     "data": {
      "text/plain": [
       "((65710, 8), (13369, 6))"
      ]
     },
     "execution_count": 33,
     "metadata": {},
     "output_type": "execute_result"
    }
   ],
   "source": [
    "df_training.shape, df_validation.shape"
   ]
  },
  {
   "cell_type": "code",
   "execution_count": null,
   "id": "48658774-265d-484b-8b6e-e836574258c9",
   "metadata": {},
   "outputs": [],
   "source": []
  },
  {
   "cell_type": "code",
   "execution_count": null,
   "id": "4ad05b7f-36e3-49e6-b424-57bbd92ec90f",
   "metadata": {},
   "outputs": [],
   "source": []
  },
  {
   "cell_type": "code",
   "execution_count": 345,
   "id": "9f13ab0f-712c-4667-8118-2c060ed765c3",
   "metadata": {},
   "outputs": [],
   "source": [
    "df_training['filtered_input'] = df_training['input'].apply(filtering_text)\n",
    "df_validation['filtered_input'] = df_validation['input'].apply(filtering_text)"
   ]
  },
  {
   "cell_type": "code",
   "execution_count": 346,
   "id": "0717a463-31d6-4d5e-8d69-39e5976c7116",
   "metadata": {},
   "outputs": [],
   "source": [
    "df_training['filtered_input_length'] = df_training['filtered_input'].apply(len)\n",
    "df_validation['filtered_input_length'] = df_validation['filtered_input'].apply(len)"
   ]
  },
  {
   "cell_type": "code",
   "execution_count": 347,
   "id": "f86c08c6-8d8b-456f-a5f2-7458f2affab2",
   "metadata": {},
   "outputs": [],
   "source": [
    "df_training['filtered_input_tokens'] = df_training['filtered_input'].apply(lambda x: len(tokenizer.tokenize(x)))\n",
    "df_validation['filtered_input_tokens'] = df_validation['filtered_input'].apply(lambda x: len(tokenizer.tokenize(x)))"
   ]
  },
  {
   "cell_type": "code",
   "execution_count": 348,
   "id": "49607a49-c0a1-4c99-8508-0a81fa3c79c3",
   "metadata": {},
   "outputs": [
    {
     "data": {
      "text/html": [
       "<div>\n",
       "<style scoped>\n",
       "    .dataframe tbody tr th:only-of-type {\n",
       "        vertical-align: middle;\n",
       "    }\n",
       "\n",
       "    .dataframe tbody tr th {\n",
       "        vertical-align: top;\n",
       "    }\n",
       "\n",
       "    .dataframe thead th {\n",
       "        text-align: right;\n",
       "    }\n",
       "</style>\n",
       "<table border=\"1\" class=\"dataframe\">\n",
       "  <thead>\n",
       "    <tr style=\"text-align: right;\">\n",
       "      <th></th>\n",
       "      <th>input_tokens</th>\n",
       "      <th>filtered_input_tokens</th>\n",
       "    </tr>\n",
       "  </thead>\n",
       "  <tbody>\n",
       "    <tr>\n",
       "      <th>count</th>\n",
       "      <td>124653.000000</td>\n",
       "      <td>124653.000000</td>\n",
       "    </tr>\n",
       "    <tr>\n",
       "      <th>mean</th>\n",
       "      <td>183.773419</td>\n",
       "      <td>173.433965</td>\n",
       "    </tr>\n",
       "    <tr>\n",
       "      <th>std</th>\n",
       "      <td>97.856304</td>\n",
       "      <td>89.840450</td>\n",
       "    </tr>\n",
       "    <tr>\n",
       "      <th>min</th>\n",
       "      <td>16.000000</td>\n",
       "      <td>6.000000</td>\n",
       "    </tr>\n",
       "    <tr>\n",
       "      <th>25%</th>\n",
       "      <td>122.000000</td>\n",
       "      <td>116.000000</td>\n",
       "    </tr>\n",
       "    <tr>\n",
       "      <th>50%</th>\n",
       "      <td>166.000000</td>\n",
       "      <td>158.000000</td>\n",
       "    </tr>\n",
       "    <tr>\n",
       "      <th>75%</th>\n",
       "      <td>223.000000</td>\n",
       "      <td>210.000000</td>\n",
       "    </tr>\n",
       "    <tr>\n",
       "      <th>max</th>\n",
       "      <td>6275.000000</td>\n",
       "      <td>5092.000000</td>\n",
       "    </tr>\n",
       "  </tbody>\n",
       "</table>\n",
       "</div>"
      ],
      "text/plain": [
       "        input_tokens  filtered_input_tokens\n",
       "count  124653.000000          124653.000000\n",
       "mean      183.773419             173.433965\n",
       "std        97.856304              89.840450\n",
       "min        16.000000               6.000000\n",
       "25%       122.000000             116.000000\n",
       "50%       166.000000             158.000000\n",
       "75%       223.000000             210.000000\n",
       "max      6275.000000            5092.000000"
      ]
     },
     "execution_count": 348,
     "metadata": {},
     "output_type": "execute_result"
    }
   ],
   "source": [
    "df_training[['input_tokens','filtered_input_tokens']].describe()"
   ]
  },
  {
   "cell_type": "code",
   "execution_count": 349,
   "id": "93f01471-d72b-4fee-ad29-9e356c8a0cf3",
   "metadata": {},
   "outputs": [
    {
     "data": {
      "text/plain": [
       "483.0"
      ]
     },
     "execution_count": 349,
     "metadata": {},
     "output_type": "execute_result"
    }
   ],
   "source": [
    "df_training['filtered_input_tokens'].quantile(0.99)"
   ]
  },
  {
   "cell_type": "code",
   "execution_count": 350,
   "id": "0398ee9f-a983-40b9-a4ed-ce2a899c6082",
   "metadata": {},
   "outputs": [
    {
     "data": {
      "text/html": [
       "<div>\n",
       "<style scoped>\n",
       "    .dataframe tbody tr th:only-of-type {\n",
       "        vertical-align: middle;\n",
       "    }\n",
       "\n",
       "    .dataframe tbody tr th {\n",
       "        vertical-align: top;\n",
       "    }\n",
       "\n",
       "    .dataframe thead th {\n",
       "        text-align: right;\n",
       "    }\n",
       "</style>\n",
       "<table border=\"1\" class=\"dataframe\">\n",
       "  <thead>\n",
       "    <tr style=\"text-align: right;\">\n",
       "      <th></th>\n",
       "      <th>input_tokens</th>\n",
       "      <th>filtered_input_tokens</th>\n",
       "    </tr>\n",
       "  </thead>\n",
       "  <tbody>\n",
       "    <tr>\n",
       "      <th>count</th>\n",
       "      <td>13401.000000</td>\n",
       "      <td>13401.000000</td>\n",
       "    </tr>\n",
       "    <tr>\n",
       "      <th>mean</th>\n",
       "      <td>213.830162</td>\n",
       "      <td>203.585329</td>\n",
       "    </tr>\n",
       "    <tr>\n",
       "      <th>std</th>\n",
       "      <td>129.355337</td>\n",
       "      <td>116.498018</td>\n",
       "    </tr>\n",
       "    <tr>\n",
       "      <th>min</th>\n",
       "      <td>24.000000</td>\n",
       "      <td>18.000000</td>\n",
       "    </tr>\n",
       "    <tr>\n",
       "      <th>25%</th>\n",
       "      <td>133.000000</td>\n",
       "      <td>129.000000</td>\n",
       "    </tr>\n",
       "    <tr>\n",
       "      <th>50%</th>\n",
       "      <td>185.000000</td>\n",
       "      <td>178.000000</td>\n",
       "    </tr>\n",
       "    <tr>\n",
       "      <th>75%</th>\n",
       "      <td>259.000000</td>\n",
       "      <td>248.000000</td>\n",
       "    </tr>\n",
       "    <tr>\n",
       "      <th>max</th>\n",
       "      <td>2186.000000</td>\n",
       "      <td>1617.000000</td>\n",
       "    </tr>\n",
       "  </tbody>\n",
       "</table>\n",
       "</div>"
      ],
      "text/plain": [
       "       input_tokens  filtered_input_tokens\n",
       "count  13401.000000           13401.000000\n",
       "mean     213.830162             203.585329\n",
       "std      129.355337             116.498018\n",
       "min       24.000000              18.000000\n",
       "25%      133.000000             129.000000\n",
       "50%      185.000000             178.000000\n",
       "75%      259.000000             248.000000\n",
       "max     2186.000000            1617.000000"
      ]
     },
     "execution_count": 350,
     "metadata": {},
     "output_type": "execute_result"
    }
   ],
   "source": [
    "df_validation[['input_tokens','filtered_input_tokens']].describe()"
   ]
  },
  {
   "cell_type": "code",
   "execution_count": 351,
   "id": "41b43a0d-a189-4d30-a8a0-3cf6d46cdb64",
   "metadata": {},
   "outputs": [
    {
     "data": {
      "text/plain": [
       "628.0"
      ]
     },
     "execution_count": 351,
     "metadata": {},
     "output_type": "execute_result"
    }
   ],
   "source": [
    "df_validation['filtered_input_tokens'].quantile(0.99)"
   ]
  },
  {
   "cell_type": "code",
   "execution_count": null,
   "id": "a47a5190-1449-4c9b-8aef-12bb9f4fe953",
   "metadata": {},
   "outputs": [],
   "source": []
  },
  {
   "cell_type": "code",
   "execution_count": 34,
   "id": "b61450a3-0b3c-4f10-ac34-b426ca4ef630",
   "metadata": {},
   "outputs": [],
   "source": [
    "df_training[['input', 'output']].to_csv(patent_path + '/train.tsv', sep = '\\t', index = False)\n",
    "df_validation[['input', 'output']].to_csv(patent_path + '/test.tsv', sep = '\\t', index = False)"
   ]
  },
  {
   "cell_type": "code",
   "execution_count": null,
   "id": "051a0d3d-f490-4cf7-8130-3d304482aaf0",
   "metadata": {},
   "outputs": [],
   "source": []
  },
  {
   "cell_type": "code",
   "execution_count": 88,
   "id": "5d7f8427-634a-486d-a34d-98e920f265c1",
   "metadata": {},
   "outputs": [],
   "source": [
    "df_training[['요약(Input)', '요약(Output)']].rename({'요약(Input)':'input', '요약(Output)':'output'}, axis = 1).to_csv(patent_path + '/train.tsv', sep = '\\t', index = False)\n",
    "df_validation[['요약(Input)', '요약(Output)']].rename({'요약(Input)':'input', '요약(Output)':'output'}, axis = 1).to_csv(patent_path + '/test.tsv', sep = '\\t', index = False)"
   ]
  },
  {
   "cell_type": "code",
   "execution_count": 89,
   "id": "558cf6a7-3355-4019-9fc1-3f73697dd299",
   "metadata": {},
   "outputs": [],
   "source": []
  },
  {
   "cell_type": "code",
   "execution_count": 352,
   "id": "039dcf88-9a2f-48aa-8c7a-97d39c4407a3",
   "metadata": {},
   "outputs": [],
   "source": [
    "df_training[['filtered_input', 'output']].rename({'filtered_input':'input'}, axis = 1).to_csv(patent_path + '/train.tsv', sep = '\\t', index = False)\n",
    "df_validation[['filtered_input', 'output']].rename({'filtered_input':'input'}, axis = 1).to_csv(patent_path + '/test.tsv', sep = '\\t', index = False)"
   ]
  },
  {
   "cell_type": "code",
   "execution_count": null,
   "id": "4e7d96f9-ec57-4c88-b74d-3591fdc7bb9b",
   "metadata": {},
   "outputs": [],
   "source": []
  },
  {
   "cell_type": "code",
   "execution_count": null,
   "id": "437f2cae-c396-41e2-83be-c66b50138f95",
   "metadata": {},
   "outputs": [],
   "source": []
  },
  {
   "cell_type": "markdown",
   "id": "e9e0a962-93e5-4055-94e2-6559dc651491",
   "metadata": {
    "jp-MarkdownHeadingCollapsed": true,
    "tags": []
   },
   "source": [
    "# Summarization"
   ]
  },
  {
   "cell_type": "code",
   "execution_count": 20,
   "id": "357af71c-410e-4899-b7c6-33ca0c9a1036",
   "metadata": {},
   "outputs": [
    {
     "name": "stderr",
     "output_type": "stream",
     "text": [
      "The tokenizer class you load from this checkpoint is not the same type as the class this function is called from. It may result in unexpected tokenization. \n",
      "The tokenizer class you load from this checkpoint is 'BartTokenizer'. \n",
      "The class this function is called from is 'PreTrainedTokenizerFast'.\n"
     ]
    }
   ],
   "source": [
    "import torch\n",
    "from transformers import BartForConditionalGeneration, PreTrainedTokenizerFast\n",
    "from transformers import T5TokenizerFast, T5ForConditionalGeneration\n",
    "\n",
    "model_b = BartForConditionalGeneration.from_pretrained(args.summarization_model_b)\n",
    "model = BartForConditionalGeneration.from_pretrained(args.summarization_model)\n",
    "tokenizer = PreTrainedTokenizerFast.from_pretrained(args.summarization_pretrain)"
   ]
  },
  {
   "cell_type": "code",
   "execution_count": 21,
   "id": "8aef4a3b-19db-4856-af5f-a1eeb73e9af4",
   "metadata": {},
   "outputs": [
    {
     "data": {
      "text/plain": [
       "(419.0, 628.3199999999997)"
      ]
     },
     "execution_count": 21,
     "metadata": {},
     "output_type": "execute_result"
    }
   ],
   "source": [
    "if 'input_tokens' not in df_training.columns:\n",
    "    df_training['input_tokens'] = df_training['input'].apply(lambda x: len(tokenizer.tokenize(x)))\n",
    "    df_validation['input_tokens'] = df_validation['input'].apply(lambda x: len(tokenizer.tokenize(x)))\n",
    "\n",
    "df_training['input_tokens'].quantile(args.check_percent), df_validation['input_tokens'].quantile(args.check_percent)"
   ]
  },
  {
   "cell_type": "code",
   "execution_count": 22,
   "id": "98e4c778-eea0-4f70-ae28-0db6d9ab88a8",
   "metadata": {},
   "outputs": [],
   "source": [
    "import streamlit as st\n",
    "from streamlit_jupyter import StreamlitPatcher, tqdm"
   ]
  },
  {
   "cell_type": "code",
   "execution_count": 23,
   "id": "e2cd9645-8308-46a8-9827-6042c6f17e43",
   "metadata": {},
   "outputs": [],
   "source": [
    "StreamlitPatcher().jupyter()"
   ]
  },
  {
   "cell_type": "code",
   "execution_count": 24,
   "id": "07b271ca-57ce-42e8-8c35-30e83c8da373",
   "metadata": {},
   "outputs": [
    {
     "data": {
      "text/html": [
       "<div>\n",
       "<style scoped>\n",
       "    .dataframe tbody tr th:only-of-type {\n",
       "        vertical-align: middle;\n",
       "    }\n",
       "\n",
       "    .dataframe tbody tr th {\n",
       "        vertical-align: top;\n",
       "    }\n",
       "\n",
       "    .dataframe thead th {\n",
       "        text-align: right;\n",
       "    }\n",
       "</style>\n",
       "<table border=\"1\" class=\"dataframe\">\n",
       "  <thead>\n",
       "    <tr style=\"text-align: right;\">\n",
       "      <th></th>\n",
       "      <th>input</th>\n",
       "      <th>output</th>\n",
       "      <th>input_length</th>\n",
       "      <th>output_length</th>\n",
       "      <th>input_tokens</th>\n",
       "      <th>output_tokens</th>\n",
       "    </tr>\n",
       "  </thead>\n",
       "  <tbody>\n",
       "    <tr>\n",
       "      <th>4504</th>\n",
       "      <td>본 발명은, 분체혼합처리공법을 시공하기 위해 혼합처리장비의 리더 정면에 설치된 교반...</td>\n",
       "      <td>본 발명은 혼합처리장비의 교반축에 분말형 재료들을 1.5 Shot 방식으로 공급하는...</td>\n",
       "      <td>1663</td>\n",
       "      <td>299</td>\n",
       "      <td>848</td>\n",
       "      <td>142</td>\n",
       "    </tr>\n",
       "    <tr>\n",
       "      <th>8054</th>\n",
       "      <td>GPS 유도 파라포일 공중운송 시스템이 개시된다. 항공기로부터 투하되어 GPS 항법...</td>\n",
       "      <td>본 발명은 GPS 유도 파라포일 공중운송 시스템에 관한 것으로 특히, GPS 신호를...</td>\n",
       "      <td>1745</td>\n",
       "      <td>90</td>\n",
       "      <td>850</td>\n",
       "      <td>40</td>\n",
       "    </tr>\n",
       "    <tr>\n",
       "      <th>2959</th>\n",
       "      <td>본 발명은 바이오차 및 미생물을 이용한 상토 조성물, 토양개량제, 유기질비료 및 그...</td>\n",
       "      <td>본 발명은 바이오차 및 미생물을 이용한 상토 조성물, 토양개량제, 유기질비료 및 그...</td>\n",
       "      <td>1816</td>\n",
       "      <td>185</td>\n",
       "      <td>856</td>\n",
       "      <td>87</td>\n",
       "    </tr>\n",
       "    <tr>\n",
       "      <th>4058</th>\n",
       "      <td>본 발명은 물저장 화분 받침대를 구비한 적층식 식물 재배 장치 에 대한 것이다. 보...</td>\n",
       "      <td>본 발명은 물저장 화분 받침대를 구비한 적층식 식물 재배 장치 에 대한 것이다. 보...</td>\n",
       "      <td>1655</td>\n",
       "      <td>248</td>\n",
       "      <td>856</td>\n",
       "      <td>111</td>\n",
       "    </tr>\n",
       "    <tr>\n",
       "      <th>620</th>\n",
       "      <td>본 발명은, 다이아몬드 파우더를 이용한 연삭공구, 그리고 이의 제조 방법에 관한 것...</td>\n",
       "      <td>본 발명은 다이아몬드 파우더를 이용한 연삭공구, 그리고 이의 제조 방법에 관한 것으...</td>\n",
       "      <td>1755</td>\n",
       "      <td>348</td>\n",
       "      <td>857</td>\n",
       "      <td>162</td>\n",
       "    </tr>\n",
       "    <tr>\n",
       "      <th>5015</th>\n",
       "      <td>본 발명은 활선고리를 갖고 주전력선에 설치되는 분기슬리브의 우측에 설치되는 나팔모양...</td>\n",
       "      <td>본 발명은 배전용 주상변압기 활선고리 안전장치에 관한 것으로서, 보다 상세하게는 활...</td>\n",
       "      <td>1487</td>\n",
       "      <td>195</td>\n",
       "      <td>866</td>\n",
       "      <td>95</td>\n",
       "    </tr>\n",
       "    <tr>\n",
       "      <th>1933</th>\n",
       "      <td>본 발명은 통합된 마이크로 컨트롤러 보드를 이용한 교육 시스템에 관한 것으로서, 아...</td>\n",
       "      <td>본 발명은 통합된 마이크로 컨트롤러 보드를 이용한 교육 시스템에 관한 것으로서, 보...</td>\n",
       "      <td>1829</td>\n",
       "      <td>154</td>\n",
       "      <td>870</td>\n",
       "      <td>63</td>\n",
       "    </tr>\n",
       "    <tr>\n",
       "      <th>13220</th>\n",
       "      <td>본 발명은 돌출 테두리부가 구비된 비구면 광학렌즈의 제조방법 및 그 제조장치에 관한...</td>\n",
       "      <td>본 발명은 돌출 테두리부가 구비된 비구면 광학렌즈의 제조방법 및 그 제조장치에 관한...</td>\n",
       "      <td>1570</td>\n",
       "      <td>246</td>\n",
       "      <td>873</td>\n",
       "      <td>123</td>\n",
       "    </tr>\n",
       "    <tr>\n",
       "      <th>6738</th>\n",
       "      <td>본 발명은 대형의 화분 이동용 핸드 캐리어에 관한 것이다. 본 발명은 상단에 손잡이...</td>\n",
       "      <td>.</td>\n",
       "      <td>1691</td>\n",
       "      <td>1</td>\n",
       "      <td>879</td>\n",
       "      <td>1</td>\n",
       "    </tr>\n",
       "    <tr>\n",
       "      <th>4974</th>\n",
       "      <td>본 개시는 치료사의 눈이나 감각에 의해 측정되어 왔던 환자의 상태를 정량적으로 진단...</td>\n",
       "      <td>본 명세서에 개시된 내용은 하지 재활로봇의 제어장치 및 제어방법에 관한 것으로, 특...</td>\n",
       "      <td>2129</td>\n",
       "      <td>230</td>\n",
       "      <td>885</td>\n",
       "      <td>98</td>\n",
       "    </tr>\n",
       "    <tr>\n",
       "      <th>2556</th>\n",
       "      <td>본 발명은, 히트펌프가 전기에 의하여 구동되어 열원을 생산하는 제1단계; 열병합발전...</td>\n",
       "      <td>본 발명은 지하수 및 폐수를 이용하는 발전 방법에 관한 것으로, 보다 구체적으로 냉...</td>\n",
       "      <td>1753</td>\n",
       "      <td>140</td>\n",
       "      <td>890</td>\n",
       "      <td>55</td>\n",
       "    </tr>\n",
       "    <tr>\n",
       "      <th>5383</th>\n",
       "      <td>본 발명은 지중 매설용 원통형 저장탱크의 조립식 보호방벽 및 조립식 보호방벽의 설치...</td>\n",
       "      <td>본 발명은 지중 매설용 원통형 저장탱크의 조립식 보호방벽 및 조립식 보호방벽의 설치...</td>\n",
       "      <td>1720</td>\n",
       "      <td>180</td>\n",
       "      <td>894</td>\n",
       "      <td>96</td>\n",
       "    </tr>\n",
       "    <tr>\n",
       "      <th>30</th>\n",
       "      <td>본 발명은 좌우 양방향의 2가지 유도선을 이용한, 말단 각도 조절 카테터 장치에 관...</td>\n",
       "      <td>본 발명은 카테터 장치 및 이를 이용하는 방법에 관한 것으로서, 보다 구체적으로는 ...</td>\n",
       "      <td>1835</td>\n",
       "      <td>105</td>\n",
       "      <td>894</td>\n",
       "      <td>44</td>\n",
       "    </tr>\n",
       "    <tr>\n",
       "      <th>5896</th>\n",
       "      <td>본 발명은 배전 선로 분기슬리브에 관한 것이다. 이러한 본 발명은, 배전본선 및 분...</td>\n",
       "      <td>본 발명은 배전 선로 분기슬리브에 관한 것이다.</td>\n",
       "      <td>1591</td>\n",
       "      <td>26</td>\n",
       "      <td>898</td>\n",
       "      <td>14</td>\n",
       "    </tr>\n",
       "    <tr>\n",
       "      <th>513</th>\n",
       "      <td>본 발명은 선바이저 자동 조립장치에 관한 것으로, 더 상세하게는 미러와 피벗 및 힌...</td>\n",
       "      <td>본 발명은 선바이저 자동 조립장치에 관한 것으로, 더 상세하게는 미러와 피벗 및 힌...</td>\n",
       "      <td>1663</td>\n",
       "      <td>106</td>\n",
       "      <td>903</td>\n",
       "      <td>51</td>\n",
       "    </tr>\n",
       "    <tr>\n",
       "      <th>3444</th>\n",
       "      <td>본 발명은 생분해멀칭필름 씨앗 부착장치에 대한 것이다. 보다 상세하게는, 생분해 멀...</td>\n",
       "      <td>본 발명은생분해멀칭필름 씨앗 부착장치에 대한 것이다. 보다 상세하게는, 천공수단과 ...</td>\n",
       "      <td>1574</td>\n",
       "      <td>294</td>\n",
       "      <td>903</td>\n",
       "      <td>143</td>\n",
       "    </tr>\n",
       "    <tr>\n",
       "      <th>7636</th>\n",
       "      <td>본 발명 착용이 용이한 안면마스크는, 안면의 코부분을 감싸는 코걸이, 안면의 입부분...</td>\n",
       "      <td>본 발명은 마스크에 관한 것으로, 상세하게는 코걸이와 턱걸이를 연결하는 형상기억합금...</td>\n",
       "      <td>1571</td>\n",
       "      <td>287</td>\n",
       "      <td>908</td>\n",
       "      <td>137</td>\n",
       "    </tr>\n",
       "    <tr>\n",
       "      <th>36</th>\n",
       "      <td>본 발명은 상하좌우 4방향의 4가지 유도선을 이용한, 말단 각도 조절 카테터 장치에...</td>\n",
       "      <td>본 발명은 카테터 장치 및 이를 이용하는 방법에 관한 것으로서, 보다 구체적으로는 ...</td>\n",
       "      <td>1852</td>\n",
       "      <td>107</td>\n",
       "      <td>911</td>\n",
       "      <td>46</td>\n",
       "    </tr>\n",
       "    <tr>\n",
       "      <th>3464</th>\n",
       "      <td>본 발명은 토큰 아이디를 이용하여 카드 사용을 승인하는 방법에 있어서,  사용자의 ...</td>\n",
       "      <td>본 발명은 블록체인 및 이와 연동되는 머클 트리 기반의 토큰 아이디를 이용하여 카드...</td>\n",
       "      <td>2239</td>\n",
       "      <td>1110</td>\n",
       "      <td>929</td>\n",
       "      <td>461</td>\n",
       "    </tr>\n",
       "    <tr>\n",
       "      <th>10479</th>\n",
       "      <td>본 발명은 의사측 단말기와 연동되는 병원용 마약류 관리 시스템에 관한 것으로서, 보...</td>\n",
       "      <td>본 발명은 병원용 마약류 관리 시스템 및 이를 이용한 관리 방법에 관한 것으로서, ...</td>\n",
       "      <td>2194</td>\n",
       "      <td>108</td>\n",
       "      <td>930</td>\n",
       "      <td>41</td>\n",
       "    </tr>\n",
       "    <tr>\n",
       "      <th>4410</th>\n",
       "      <td>본 발명은 전력구 내 안정적 배전을 위한 지중배전선 연결장치에 관한 것이다. 이러한...</td>\n",
       "      <td>본 발명은 전력구 내 안정적 배전을 위한 지중배전선 연결장치에 관한 것이다.</td>\n",
       "      <td>1764</td>\n",
       "      <td>42</td>\n",
       "      <td>937</td>\n",
       "      <td>20</td>\n",
       "    </tr>\n",
       "    <tr>\n",
       "      <th>5909</th>\n",
       "      <td>본 발명은 단면이 원형상이고 좌우측으로 누운 봉체로, 좌측단면 중심에는 내측중심으로...</td>\n",
       "      <td>본 발명은 공동주택용 전력선 인출용 풀링아이에 관한 것으로서, 보다 상세하게는 간단...</td>\n",
       "      <td>1741</td>\n",
       "      <td>200</td>\n",
       "      <td>938</td>\n",
       "      <td>94</td>\n",
       "    </tr>\n",
       "    <tr>\n",
       "      <th>2241</th>\n",
       "      <td>본 발명은 습기로부터 보호가 가능한 지중배전선 연결장치에 관한 것이다. 이러한 본 ...</td>\n",
       "      <td>본 발명은 습기로부터 보호가 가능한 지중배전선 연결장치에 관한 것이다.</td>\n",
       "      <td>1782</td>\n",
       "      <td>39</td>\n",
       "      <td>944</td>\n",
       "      <td>18</td>\n",
       "    </tr>\n",
       "    <tr>\n",
       "      <th>12609</th>\n",
       "      <td>본 발명은 사물인터넷을 기반으로 사용자가 기지정된 영역에 방문할 경우 사용자 별로 ...</td>\n",
       "      <td>본 발명은 사물인터넷을 기반으로 사용자가 기지정된 영역에 방문할 경우 사용자 별로 ...</td>\n",
       "      <td>2238</td>\n",
       "      <td>388</td>\n",
       "      <td>961</td>\n",
       "      <td>150</td>\n",
       "    </tr>\n",
       "    <tr>\n",
       "      <th>2786</th>\n",
       "      <td>본 발명은 고정 브라켓을 이용한 지중배전용 배전선 거치대에 관한 것이다. 이러한 본...</td>\n",
       "      <td>본 발명은 고정 브라켓을 이용한 지중배전용 배전선 거치대에 관한 것이다.</td>\n",
       "      <td>1838</td>\n",
       "      <td>40</td>\n",
       "      <td>965</td>\n",
       "      <td>19</td>\n",
       "    </tr>\n",
       "    <tr>\n",
       "      <th>5120</th>\n",
       "      <td>본 발명은 양방향 동작이 가능한 누름 작동식 화장품 용기에 관한 것으로서, 보다 상...</td>\n",
       "      <td>본 발명은 양방향 동작이 가능한 누름 작동식 화장품 용기에 관한 것으로서, 보다 상...</td>\n",
       "      <td>1884</td>\n",
       "      <td>127</td>\n",
       "      <td>968</td>\n",
       "      <td>53</td>\n",
       "    </tr>\n",
       "    <tr>\n",
       "      <th>10319</th>\n",
       "      <td>본 발명은 아날로그 접속장치 케이스의 가공방법을 개시한다. 본 발명에 따르면 회전 ...</td>\n",
       "      <td>본 발명은 통신장비 케이스의 가공방법에 관한 것으로, 보다 상세하게는 알루미늄 합금...</td>\n",
       "      <td>1966</td>\n",
       "      <td>121</td>\n",
       "      <td>983</td>\n",
       "      <td>59</td>\n",
       "    </tr>\n",
       "    <tr>\n",
       "      <th>6016</th>\n",
       "      <td>본 발명은 배전선 클램핑 장치에 관한 것이다. 이러한 본 발명은, 분기선삽입부의 중...</td>\n",
       "      <td>본 발명은 배전선 클램핑 장치에 관한 것이다.</td>\n",
       "      <td>1773</td>\n",
       "      <td>25</td>\n",
       "      <td>994</td>\n",
       "      <td>12</td>\n",
       "    </tr>\n",
       "    <tr>\n",
       "      <th>7970</th>\n",
       "      <td>본 발명은 논두렁 조성기에 대한 것으로서, 더욱 상세하게는 두렁을 다지는 다짐수단의...</td>\n",
       "      <td>본 발명은 논두렁 조성기에 대한 것으로서, 더욱 상세하게는 두렁을 측면과 상면을 다...</td>\n",
       "      <td>1879</td>\n",
       "      <td>198</td>\n",
       "      <td>998</td>\n",
       "      <td>104</td>\n",
       "    </tr>\n",
       "    <tr>\n",
       "      <th>11070</th>\n",
       "      <td>본 발명은 파이프 또는 도관이나 선박 구조물 및 산업기계 등의 산업 설비물 표면을 ...</td>\n",
       "      <td>본 발명은 파이프 또는 도관이나 선박 구조물 및 산업기계 등의 산업 설비물 표면을 ...</td>\n",
       "      <td>1810</td>\n",
       "      <td>259</td>\n",
       "      <td>1006</td>\n",
       "      <td>122</td>\n",
       "    </tr>\n",
       "    <tr>\n",
       "      <th>6251</th>\n",
       "      <td>본 발명은 기립된 사각기둥인 비전도체로, 사방면에는 내측으로 각각 삽입요부가 형성되...</td>\n",
       "      <td>본 발명은 전기배선 분배용 버스덕트에 관한 것으로서, 보다 상세하게는 구조가 조립식...</td>\n",
       "      <td>1810</td>\n",
       "      <td>178</td>\n",
       "      <td>1016</td>\n",
       "      <td>79</td>\n",
       "    </tr>\n",
       "    <tr>\n",
       "      <th>6534</th>\n",
       "      <td>본 발명은 뽕잎파인애플음료 및 그 제조방법에 관한 것이다. 본 발명의 뽕잎파인애플음...</td>\n",
       "      <td>본 발명은 뽕잎으로 만든 뽕잎발효식초를 종초로 사용하여 이에 파인애플 발효액을 혼합...</td>\n",
       "      <td>1897</td>\n",
       "      <td>313</td>\n",
       "      <td>1018</td>\n",
       "      <td>160</td>\n",
       "    </tr>\n",
       "    <tr>\n",
       "      <th>10154</th>\n",
       "      <td>본 발명은 가공배전선을 지지하는 배전선로 활선작업용 보조아암에 있어서, 상기 배전선...</td>\n",
       "      <td>본 발명은 배전선로 활선작업용 보조아암에 관한 것이다.</td>\n",
       "      <td>1906</td>\n",
       "      <td>30</td>\n",
       "      <td>1035</td>\n",
       "      <td>16</td>\n",
       "    </tr>\n",
       "    <tr>\n",
       "      <th>10690</th>\n",
       "      <td>본 발명은 초고압 가공 송전선로 탈선방지용 고정장치에 관한 것으로, 좌우로 형성되는...</td>\n",
       "      <td>본 발명은 초고압 가공 송전선로 탈선방지용 고정장치에 관한 것이다.</td>\n",
       "      <td>1920</td>\n",
       "      <td>37</td>\n",
       "      <td>1035</td>\n",
       "      <td>18</td>\n",
       "    </tr>\n",
       "    <tr>\n",
       "      <th>11228</th>\n",
       "      <td>본 발명은 방송자가 매장이나 산지를 직접 찾아가서 고객을 대신하여 상품을 대신 체험...</td>\n",
       "      <td>본 발명은 스마트폰기반 라이브방송 커머스 서비스 플랫폼에 관한 것으로서, 보다 상세...</td>\n",
       "      <td>2483</td>\n",
       "      <td>282</td>\n",
       "      <td>1040</td>\n",
       "      <td>101</td>\n",
       "    </tr>\n",
       "    <tr>\n",
       "      <th>4953</th>\n",
       "      <td>본 발명은 유.무선으로 제어 가능한 컴퓨터 교량 인상장치 및 이를 이용한 교량 인상...</td>\n",
       "      <td>본 발명은 유.무선으로 제어 가능한 컴퓨터 교량 인상장치 및 이를 이용한 교량 인상...</td>\n",
       "      <td>2041</td>\n",
       "      <td>272</td>\n",
       "      <td>1042</td>\n",
       "      <td>123</td>\n",
       "    </tr>\n",
       "    <tr>\n",
       "      <th>11213</th>\n",
       "      <td>본 발명은 안전성이 향상된 공동주택용 전선 고정기구에 관한 것으로, 좌측으로 돌출되...</td>\n",
       "      <td>본 발명은 안전성이 향상된 공동주택용 전선 고정기구에 관한 것이다.</td>\n",
       "      <td>1902</td>\n",
       "      <td>37</td>\n",
       "      <td>1071</td>\n",
       "      <td>17</td>\n",
       "    </tr>\n",
       "    <tr>\n",
       "      <th>10515</th>\n",
       "      <td>본 발명은 다기능 가공배전선 지지대에 관한 것으로, 제1덮개의 상하 방향의 둘레를 ...</td>\n",
       "      <td>본 발명은 다기능 가공배전선 지지대에 관한 것이다.</td>\n",
       "      <td>2047</td>\n",
       "      <td>28</td>\n",
       "      <td>1099</td>\n",
       "      <td>12</td>\n",
       "    </tr>\n",
       "    <tr>\n",
       "      <th>4217</th>\n",
       "      <td>본 발명은 휴대용 용접 건에 대한 것으로서, 막대형 용접봉 또는 와이어형 용접봉을 ...</td>\n",
       "      <td>본 발명은 휴대용 용접 건에 대한 것으로서, 막대형 용접봉 또는 와이어형 용접봉을 ...</td>\n",
       "      <td>2140</td>\n",
       "      <td>85</td>\n",
       "      <td>1099</td>\n",
       "      <td>43</td>\n",
       "    </tr>\n",
       "    <tr>\n",
       "      <th>12552</th>\n",
       "      <td>본 발명은 부러진 뼈를 상호 연결하는 긴 금속제 시술용 와이어를 삽입하는 시술시, ...</td>\n",
       "      <td>본 발명은 부러진 뼈를 상호 연결하는 긴 금속제 시술용 와이어를 삽입하는 시술시, ...</td>\n",
       "      <td>2138</td>\n",
       "      <td>219</td>\n",
       "      <td>1127</td>\n",
       "      <td>100</td>\n",
       "    </tr>\n",
       "    <tr>\n",
       "      <th>11763</th>\n",
       "      <td>본 발명은 육묘상자 적층이송장치에 관한 것으로 육묘상자를 이송하는 컨베이어 상에 구...</td>\n",
       "      <td>본 발명은 육묘상자 적층이송장치에 관한 것으로서 보다 상세하게는 지속적으로 공급되는...</td>\n",
       "      <td>2282</td>\n",
       "      <td>174</td>\n",
       "      <td>1152</td>\n",
       "      <td>82</td>\n",
       "    </tr>\n",
       "    <tr>\n",
       "      <th>1798</th>\n",
       "      <td>일실시예는 우드 버닝기에 관한 것으로서, 하우징의 내부에는 전원 공급부와 제어부와 ...</td>\n",
       "      <td>일실시예는 목재를 태워 그림이나 글씨 등을 새기는 우드 버닝에 사용되는 우드 버닝기...</td>\n",
       "      <td>2442</td>\n",
       "      <td>72</td>\n",
       "      <td>1169</td>\n",
       "      <td>38</td>\n",
       "    </tr>\n",
       "    <tr>\n",
       "      <th>794</th>\n",
       "      <td>본 발명은 가공배전용 가공 배전선 설치대에 관한 것이다. 이러한 본 발명은, 전주의...</td>\n",
       "      <td>본 발명은 가공배전용 가공 배전선 설치대에 관한 것이다.</td>\n",
       "      <td>2252</td>\n",
       "      <td>31</td>\n",
       "      <td>1182</td>\n",
       "      <td>13</td>\n",
       "    </tr>\n",
       "    <tr>\n",
       "      <th>12815</th>\n",
       "      <td>본 발명은 공동주택의 전기 배관 보호장치에 관한 것으로, 좌측으로 돌출되며 상하로 ...</td>\n",
       "      <td>본 발명은 공동주택의 전기 배관 보호장치에 관한 것이다.</td>\n",
       "      <td>2163</td>\n",
       "      <td>31</td>\n",
       "      <td>1185</td>\n",
       "      <td>14</td>\n",
       "    </tr>\n",
       "    <tr>\n",
       "      <th>12691</th>\n",
       "      <td>본 발명은 완충기능을 갖춘 공동주택용 전선 보호기구에 관한 것으로, 좌측으로 돌출되...</td>\n",
       "      <td>본 발명은 완충기능을 갖춘 공동주택용 전선 보호기구에 관한 것이다.</td>\n",
       "      <td>2161</td>\n",
       "      <td>37</td>\n",
       "      <td>1188</td>\n",
       "      <td>18</td>\n",
       "    </tr>\n",
       "    <tr>\n",
       "      <th>5881</th>\n",
       "      <td>본 발명은 기능성 김치에 관한 것으로 보다 구체적으로는 제1공정에서 추출된 고로쇠 ...</td>\n",
       "      <td>본 발명은 기능성 김치에 관한 것으로 보다 구체적으로는 제1공정에서 추출된 고로쇠 ...</td>\n",
       "      <td>2296</td>\n",
       "      <td>146</td>\n",
       "      <td>1205</td>\n",
       "      <td>70</td>\n",
       "    </tr>\n",
       "    <tr>\n",
       "      <th>6409</th>\n",
       "      <td>본 발명은 가공배전라인의 안정적 연결을 위한 연결 장치에 관한 것이다. 이러한 본 ...</td>\n",
       "      <td>본 발명은 가공배전라인의 안정적 연결을 위한 연결 장치에 관한 것이다.</td>\n",
       "      <td>2280</td>\n",
       "      <td>39</td>\n",
       "      <td>1264</td>\n",
       "      <td>18</td>\n",
       "    </tr>\n",
       "    <tr>\n",
       "      <th>6180</th>\n",
       "      <td>본 발명은 가공배전선로의 케이블 탈선 방지용 거치대에 관한 것이다. 이러한 본 발명...</td>\n",
       "      <td>본 발명은 가공배전선로의 케이블 탈선 방지용 거치대에 관한 것이다.</td>\n",
       "      <td>2361</td>\n",
       "      <td>37</td>\n",
       "      <td>1314</td>\n",
       "      <td>17</td>\n",
       "    </tr>\n",
       "    <tr>\n",
       "      <th>1686</th>\n",
       "      <td>본 발명은 육묘상자 적층장치에 관한 것으로 흙과 씨앗이 파종된 육묘상자를 컨베이어를...</td>\n",
       "      <td>본 발명은 육묘상자 적층장치에 관한 것으로서 보다 상세하게는 파종기에서 흙과 씨앗이...</td>\n",
       "      <td>2844</td>\n",
       "      <td>99</td>\n",
       "      <td>1553</td>\n",
       "      <td>53</td>\n",
       "    </tr>\n",
       "    <tr>\n",
       "      <th>457</th>\n",
       "      <td>본 발명은 화재방지기능을 갖춘 가공배전선 연결대에 관한 것이다. 이러한 본 발명은,...</td>\n",
       "      <td>본 발명은 화재방지기능을 갖춘 가공배전선 연결대에 관한 것이다.</td>\n",
       "      <td>3079</td>\n",
       "      <td>35</td>\n",
       "      <td>1617</td>\n",
       "      <td>16</td>\n",
       "    </tr>\n",
       "  </tbody>\n",
       "</table>\n",
       "</div>"
      ],
      "text/plain": [
       "                                                   input  \\\n",
       "4504   본 발명은, 분체혼합처리공법을 시공하기 위해 혼합처리장비의 리더 정면에 설치된 교반...   \n",
       "8054   GPS 유도 파라포일 공중운송 시스템이 개시된다. 항공기로부터 투하되어 GPS 항법...   \n",
       "2959   본 발명은 바이오차 및 미생물을 이용한 상토 조성물, 토양개량제, 유기질비료 및 그...   \n",
       "4058   본 발명은 물저장 화분 받침대를 구비한 적층식 식물 재배 장치 에 대한 것이다. 보...   \n",
       "620    본 발명은, 다이아몬드 파우더를 이용한 연삭공구, 그리고 이의 제조 방법에 관한 것...   \n",
       "5015   본 발명은 활선고리를 갖고 주전력선에 설치되는 분기슬리브의 우측에 설치되는 나팔모양...   \n",
       "1933   본 발명은 통합된 마이크로 컨트롤러 보드를 이용한 교육 시스템에 관한 것으로서, 아...   \n",
       "13220  본 발명은 돌출 테두리부가 구비된 비구면 광학렌즈의 제조방법 및 그 제조장치에 관한...   \n",
       "6738   본 발명은 대형의 화분 이동용 핸드 캐리어에 관한 것이다. 본 발명은 상단에 손잡이...   \n",
       "4974   본 개시는 치료사의 눈이나 감각에 의해 측정되어 왔던 환자의 상태를 정량적으로 진단...   \n",
       "2556   본 발명은, 히트펌프가 전기에 의하여 구동되어 열원을 생산하는 제1단계; 열병합발전...   \n",
       "5383   본 발명은 지중 매설용 원통형 저장탱크의 조립식 보호방벽 및 조립식 보호방벽의 설치...   \n",
       "30     본 발명은 좌우 양방향의 2가지 유도선을 이용한, 말단 각도 조절 카테터 장치에 관...   \n",
       "5896   본 발명은 배전 선로 분기슬리브에 관한 것이다. 이러한 본 발명은, 배전본선 및 분...   \n",
       "513    본 발명은 선바이저 자동 조립장치에 관한 것으로, 더 상세하게는 미러와 피벗 및 힌...   \n",
       "3444   본 발명은 생분해멀칭필름 씨앗 부착장치에 대한 것이다. 보다 상세하게는, 생분해 멀...   \n",
       "7636   본 발명 착용이 용이한 안면마스크는, 안면의 코부분을 감싸는 코걸이, 안면의 입부분...   \n",
       "36     본 발명은 상하좌우 4방향의 4가지 유도선을 이용한, 말단 각도 조절 카테터 장치에...   \n",
       "3464   본 발명은 토큰 아이디를 이용하여 카드 사용을 승인하는 방법에 있어서,  사용자의 ...   \n",
       "10479  본 발명은 의사측 단말기와 연동되는 병원용 마약류 관리 시스템에 관한 것으로서, 보...   \n",
       "4410   본 발명은 전력구 내 안정적 배전을 위한 지중배전선 연결장치에 관한 것이다. 이러한...   \n",
       "5909   본 발명은 단면이 원형상이고 좌우측으로 누운 봉체로, 좌측단면 중심에는 내측중심으로...   \n",
       "2241   본 발명은 습기로부터 보호가 가능한 지중배전선 연결장치에 관한 것이다. 이러한 본 ...   \n",
       "12609  본 발명은 사물인터넷을 기반으로 사용자가 기지정된 영역에 방문할 경우 사용자 별로 ...   \n",
       "2786   본 발명은 고정 브라켓을 이용한 지중배전용 배전선 거치대에 관한 것이다. 이러한 본...   \n",
       "5120   본 발명은 양방향 동작이 가능한 누름 작동식 화장품 용기에 관한 것으로서, 보다 상...   \n",
       "10319  본 발명은 아날로그 접속장치 케이스의 가공방법을 개시한다. 본 발명에 따르면 회전 ...   \n",
       "6016   본 발명은 배전선 클램핑 장치에 관한 것이다. 이러한 본 발명은, 분기선삽입부의 중...   \n",
       "7970   본 발명은 논두렁 조성기에 대한 것으로서, 더욱 상세하게는 두렁을 다지는 다짐수단의...   \n",
       "11070  본 발명은 파이프 또는 도관이나 선박 구조물 및 산업기계 등의 산업 설비물 표면을 ...   \n",
       "6251   본 발명은 기립된 사각기둥인 비전도체로, 사방면에는 내측으로 각각 삽입요부가 형성되...   \n",
       "6534   본 발명은 뽕잎파인애플음료 및 그 제조방법에 관한 것이다. 본 발명의 뽕잎파인애플음...   \n",
       "10154  본 발명은 가공배전선을 지지하는 배전선로 활선작업용 보조아암에 있어서, 상기 배전선...   \n",
       "10690  본 발명은 초고압 가공 송전선로 탈선방지용 고정장치에 관한 것으로, 좌우로 형성되는...   \n",
       "11228  본 발명은 방송자가 매장이나 산지를 직접 찾아가서 고객을 대신하여 상품을 대신 체험...   \n",
       "4953   본 발명은 유.무선으로 제어 가능한 컴퓨터 교량 인상장치 및 이를 이용한 교량 인상...   \n",
       "11213  본 발명은 안전성이 향상된 공동주택용 전선 고정기구에 관한 것으로, 좌측으로 돌출되...   \n",
       "10515  본 발명은 다기능 가공배전선 지지대에 관한 것으로, 제1덮개의 상하 방향의 둘레를 ...   \n",
       "4217   본 발명은 휴대용 용접 건에 대한 것으로서, 막대형 용접봉 또는 와이어형 용접봉을 ...   \n",
       "12552  본 발명은 부러진 뼈를 상호 연결하는 긴 금속제 시술용 와이어를 삽입하는 시술시, ...   \n",
       "11763  본 발명은 육묘상자 적층이송장치에 관한 것으로 육묘상자를 이송하는 컨베이어 상에 구...   \n",
       "1798   일실시예는 우드 버닝기에 관한 것으로서, 하우징의 내부에는 전원 공급부와 제어부와 ...   \n",
       "794    본 발명은 가공배전용 가공 배전선 설치대에 관한 것이다. 이러한 본 발명은, 전주의...   \n",
       "12815  본 발명은 공동주택의 전기 배관 보호장치에 관한 것으로, 좌측으로 돌출되며 상하로 ...   \n",
       "12691  본 발명은 완충기능을 갖춘 공동주택용 전선 보호기구에 관한 것으로, 좌측으로 돌출되...   \n",
       "5881   본 발명은 기능성 김치에 관한 것으로 보다 구체적으로는 제1공정에서 추출된 고로쇠 ...   \n",
       "6409   본 발명은 가공배전라인의 안정적 연결을 위한 연결 장치에 관한 것이다. 이러한 본 ...   \n",
       "6180   본 발명은 가공배전선로의 케이블 탈선 방지용 거치대에 관한 것이다. 이러한 본 발명...   \n",
       "1686   본 발명은 육묘상자 적층장치에 관한 것으로 흙과 씨앗이 파종된 육묘상자를 컨베이어를...   \n",
       "457    본 발명은 화재방지기능을 갖춘 가공배전선 연결대에 관한 것이다. 이러한 본 발명은,...   \n",
       "\n",
       "                                                  output  input_length  \\\n",
       "4504   본 발명은 혼합처리장비의 교반축에 분말형 재료들을 1.5 Shot 방식으로 공급하는...          1663   \n",
       "8054   본 발명은 GPS 유도 파라포일 공중운송 시스템에 관한 것으로 특히, GPS 신호를...          1745   \n",
       "2959   본 발명은 바이오차 및 미생물을 이용한 상토 조성물, 토양개량제, 유기질비료 및 그...          1816   \n",
       "4058   본 발명은 물저장 화분 받침대를 구비한 적층식 식물 재배 장치 에 대한 것이다. 보...          1655   \n",
       "620    본 발명은 다이아몬드 파우더를 이용한 연삭공구, 그리고 이의 제조 방법에 관한 것으...          1755   \n",
       "5015   본 발명은 배전용 주상변압기 활선고리 안전장치에 관한 것으로서, 보다 상세하게는 활...          1487   \n",
       "1933   본 발명은 통합된 마이크로 컨트롤러 보드를 이용한 교육 시스템에 관한 것으로서, 보...          1829   \n",
       "13220  본 발명은 돌출 테두리부가 구비된 비구면 광학렌즈의 제조방법 및 그 제조장치에 관한...          1570   \n",
       "6738                                                   .          1691   \n",
       "4974   본 명세서에 개시된 내용은 하지 재활로봇의 제어장치 및 제어방법에 관한 것으로, 특...          2129   \n",
       "2556   본 발명은 지하수 및 폐수를 이용하는 발전 방법에 관한 것으로, 보다 구체적으로 냉...          1753   \n",
       "5383   본 발명은 지중 매설용 원통형 저장탱크의 조립식 보호방벽 및 조립식 보호방벽의 설치...          1720   \n",
       "30     본 발명은 카테터 장치 및 이를 이용하는 방법에 관한 것으로서, 보다 구체적으로는 ...          1835   \n",
       "5896                          본 발명은 배전 선로 분기슬리브에 관한 것이다.          1591   \n",
       "513    본 발명은 선바이저 자동 조립장치에 관한 것으로, 더 상세하게는 미러와 피벗 및 힌...          1663   \n",
       "3444   본 발명은생분해멀칭필름 씨앗 부착장치에 대한 것이다. 보다 상세하게는, 천공수단과 ...          1574   \n",
       "7636   본 발명은 마스크에 관한 것으로, 상세하게는 코걸이와 턱걸이를 연결하는 형상기억합금...          1571   \n",
       "36     본 발명은 카테터 장치 및 이를 이용하는 방법에 관한 것으로서, 보다 구체적으로는 ...          1852   \n",
       "3464   본 발명은 블록체인 및 이와 연동되는 머클 트리 기반의 토큰 아이디를 이용하여 카드...          2239   \n",
       "10479  본 발명은 병원용 마약류 관리 시스템 및 이를 이용한 관리 방법에 관한 것으로서, ...          2194   \n",
       "4410          본 발명은 전력구 내 안정적 배전을 위한 지중배전선 연결장치에 관한 것이다.          1764   \n",
       "5909   본 발명은 공동주택용 전력선 인출용 풀링아이에 관한 것으로서, 보다 상세하게는 간단...          1741   \n",
       "2241             본 발명은 습기로부터 보호가 가능한 지중배전선 연결장치에 관한 것이다.          1782   \n",
       "12609  본 발명은 사물인터넷을 기반으로 사용자가 기지정된 영역에 방문할 경우 사용자 별로 ...          2238   \n",
       "2786            본 발명은 고정 브라켓을 이용한 지중배전용 배전선 거치대에 관한 것이다.          1838   \n",
       "5120   본 발명은 양방향 동작이 가능한 누름 작동식 화장품 용기에 관한 것으로서, 보다 상...          1884   \n",
       "10319  본 발명은 통신장비 케이스의 가공방법에 관한 것으로, 보다 상세하게는 알루미늄 합금...          1966   \n",
       "6016                           본 발명은 배전선 클램핑 장치에 관한 것이다.          1773   \n",
       "7970   본 발명은 논두렁 조성기에 대한 것으로서, 더욱 상세하게는 두렁을 측면과 상면을 다...          1879   \n",
       "11070  본 발명은 파이프 또는 도관이나 선박 구조물 및 산업기계 등의 산업 설비물 표면을 ...          1810   \n",
       "6251   본 발명은 전기배선 분배용 버스덕트에 관한 것으로서, 보다 상세하게는 구조가 조립식...          1810   \n",
       "6534   본 발명은 뽕잎으로 만든 뽕잎발효식초를 종초로 사용하여 이에 파인애플 발효액을 혼합...          1897   \n",
       "10154                     본 발명은 배전선로 활선작업용 보조아암에 관한 것이다.          1906   \n",
       "10690              본 발명은 초고압 가공 송전선로 탈선방지용 고정장치에 관한 것이다.          1920   \n",
       "11228  본 발명은 스마트폰기반 라이브방송 커머스 서비스 플랫폼에 관한 것으로서, 보다 상세...          2483   \n",
       "4953   본 발명은 유.무선으로 제어 가능한 컴퓨터 교량 인상장치 및 이를 이용한 교량 인상...          2041   \n",
       "11213              본 발명은 안전성이 향상된 공동주택용 전선 고정기구에 관한 것이다.          1902   \n",
       "10515                       본 발명은 다기능 가공배전선 지지대에 관한 것이다.          2047   \n",
       "4217   본 발명은 휴대용 용접 건에 대한 것으로서, 막대형 용접봉 또는 와이어형 용접봉을 ...          2140   \n",
       "12552  본 발명은 부러진 뼈를 상호 연결하는 긴 금속제 시술용 와이어를 삽입하는 시술시, ...          2138   \n",
       "11763  본 발명은 육묘상자 적층이송장치에 관한 것으로서 보다 상세하게는 지속적으로 공급되는...          2282   \n",
       "1798   일실시예는 목재를 태워 그림이나 글씨 등을 새기는 우드 버닝에 사용되는 우드 버닝기...          2442   \n",
       "794                      본 발명은 가공배전용 가공 배전선 설치대에 관한 것이다.          2252   \n",
       "12815                    본 발명은 공동주택의 전기 배관 보호장치에 관한 것이다.          2163   \n",
       "12691              본 발명은 완충기능을 갖춘 공동주택용 전선 보호기구에 관한 것이다.          2161   \n",
       "5881   본 발명은 기능성 김치에 관한 것으로 보다 구체적으로는 제1공정에서 추출된 고로쇠 ...          2296   \n",
       "6409             본 발명은 가공배전라인의 안정적 연결을 위한 연결 장치에 관한 것이다.          2280   \n",
       "6180               본 발명은 가공배전선로의 케이블 탈선 방지용 거치대에 관한 것이다.          2361   \n",
       "1686   본 발명은 육묘상자 적층장치에 관한 것으로서 보다 상세하게는 파종기에서 흙과 씨앗이...          2844   \n",
       "457                  본 발명은 화재방지기능을 갖춘 가공배전선 연결대에 관한 것이다.          3079   \n",
       "\n",
       "       output_length  input_tokens  output_tokens  \n",
       "4504             299           848            142  \n",
       "8054              90           850             40  \n",
       "2959             185           856             87  \n",
       "4058             248           856            111  \n",
       "620              348           857            162  \n",
       "5015             195           866             95  \n",
       "1933             154           870             63  \n",
       "13220            246           873            123  \n",
       "6738               1           879              1  \n",
       "4974             230           885             98  \n",
       "2556             140           890             55  \n",
       "5383             180           894             96  \n",
       "30               105           894             44  \n",
       "5896              26           898             14  \n",
       "513              106           903             51  \n",
       "3444             294           903            143  \n",
       "7636             287           908            137  \n",
       "36               107           911             46  \n",
       "3464            1110           929            461  \n",
       "10479            108           930             41  \n",
       "4410              42           937             20  \n",
       "5909             200           938             94  \n",
       "2241              39           944             18  \n",
       "12609            388           961            150  \n",
       "2786              40           965             19  \n",
       "5120             127           968             53  \n",
       "10319            121           983             59  \n",
       "6016              25           994             12  \n",
       "7970             198           998            104  \n",
       "11070            259          1006            122  \n",
       "6251             178          1016             79  \n",
       "6534             313          1018            160  \n",
       "10154             30          1035             16  \n",
       "10690             37          1035             18  \n",
       "11228            282          1040            101  \n",
       "4953             272          1042            123  \n",
       "11213             37          1071             17  \n",
       "10515             28          1099             12  \n",
       "4217              85          1099             43  \n",
       "12552            219          1127            100  \n",
       "11763            174          1152             82  \n",
       "1798              72          1169             38  \n",
       "794               31          1182             13  \n",
       "12815             31          1185             14  \n",
       "12691             37          1188             18  \n",
       "5881             146          1205             70  \n",
       "6409              39          1264             18  \n",
       "6180              37          1314             17  \n",
       "1686              99          1553             53  \n",
       "457               35          1617             16  "
      ]
     },
     "execution_count": 24,
     "metadata": {},
     "output_type": "execute_result"
    }
   ],
   "source": [
    "df_validation.sort_values('input_tokens').tail(50)"
   ]
  },
  {
   "cell_type": "code",
   "execution_count": 25,
   "id": "0ef536a1-5a1b-4dbb-be73-bb4e1474f3ac",
   "metadata": {},
   "outputs": [],
   "source": [
    "temp = df_validation.loc[6180] # 6409, 6180\n",
    "# temp = df_training.loc[4126]\n",
    "text = temp['input']\n",
    "target = temp['output']\n",
    "\n",
    "# text = filtering_text(text)"
   ]
  },
  {
   "cell_type": "code",
   "execution_count": 26,
   "id": "09eab03d-1b78-4c04-abf0-0e3f63ca18b0",
   "metadata": {},
   "outputs": [
    {
     "data": {
      "text/markdown": [
       "# KoBART 요약 Test"
      ],
      "text/plain": [
       "<IPython.core.display.Markdown object>"
      ]
     },
     "metadata": {},
     "output_type": "display_data"
    },
    {
     "data": {
      "text/markdown": [
       "## 특허 요약 원문"
      ],
      "text/plain": [
       "<IPython.core.display.Markdown object>"
      ]
     },
     "metadata": {},
     "output_type": "display_data"
    },
    {
     "data": {
      "text/markdown": [
       "본 발명은 가공배전선로의 케이블 탈선 방지용 거치대에 관한 것이다. 이러한 본 발명은, 완철에 착탈가능하게 설치되는 지지부와, 원호 방향을 따라 형성되는 다수 개의 관통홀을 갖추고서 지지부의 상부에 구비되되, 서로 대향되게 구비되는 한 쌍의 지탱부를 갖춘 지지체와; 원호 방향을 따라 형성되어 지탱부의 관통홀과 연통되는 다수 개의 고정홀을 구비하여 지탱부 사이에 회전가능하게 삽입되는 삽입체와, 상기 삽입체의 상단에 구비되는 제1볼트체와, 일방향으로 회전 시 제1볼트체 및 제2볼트체가 가까워지고 타방향으로 회전 시 제1볼트체 및 제2볼트체가 멀어지도록 양단이 제1볼트체 및 제2볼트체에 각각 나사산 결합되는 길이조절너트체 및, 길이조절너트체에 이동가능하게 나사산 결합되는 제2볼트체를 갖춘 길이조절기구 및; 지지체의 관통홀 및 길이조절기구의 고정홀을 관통하는 고정볼트와, 고정볼트에 나사산 결합되며, 고정볼트의 헤드부에 대향되도록 지탱부의 외측에 배치되는 고정너트를 갖춘 고정기구를 구비한 지지기구, 지지기구의 제2볼트체의 상부에 착탈가능하게 설치되는 분기슬리브커버, 분기선삽입부의 중앙부에 전후 방향으로 개구되게 형성되고 좌측이 개구되는 안착홀과, 분기선삽입부의 하부에 전후 방향으로 개구되게 형성되고 상측이 개구되어 상기 안착홀과 연통되며 상기 안착홀의 하방에 구비되는 제1삽입홈과, 우측이 개구되어 분기선삽입부의 둘레를 따라 형성되는 제2삽입홈과, 분기선삽입부의 우측부에 좌우 방향으로 개구되게 형성되며 좌측이 상기 안착홀과 연통되고 우측이 상기 제2삽입홈과 연통되는 삽입홀과, 분기선삽입부의 하부에 좌우 방향으로 개구되게 형성되고 우측이 상기 제1삽입홈과 연통되며 제1중간부재을 가압하기 위한 볼트가 이동가능하게 나사산 결합되는 제1나사홀과, 분기선삽입부의 상부에 전후 방향으로 개구되게 형성되고 상측이 개구되는 제3삽입홈 및, 분기선삽입부의 상부 우측부에 좌우로 개구되게 형성되고 좌측이 상기 제3삽입홈과 연통되며 우측이 상기 제2삽입홈과 연통되어 제2중간부재을 가압하기 위한 볼트가 이동가능하게 나사산 결합되는 제2나사홀을 갖춘 분기선삽입부와; 점퍼선삽입부의 중앙부에 전후 방향으로 개구되게 형성되고 우측이 개구되는 안착홀과, 우측이 개구되어 점퍼선삽입부의 둘레를 따라 형성되는 삽입홈 및, 점퍼선삽입부의 우측부에 좌우 방향으로 개구되게 형성되며 좌측이 상기 안착홀과 연통되고 우측이 상기 삽입홈과 연통되는 삽입홀을 구비하여, 분기선삽입부의 상부에 위치하는 점퍼선삽입부를 갖춘 분기슬리브본체와: 좌우 방향으로 개구된 걸림홀을 구비하여 분기선삽입부의 제1삽입홈에 슬라이딩가능하게 삽입되는 삽입부와, 상기 삽입부로부터 연장되어 분기선삽입부의 안착홀에 삽입되는 곡판 형상의 곡판부를 구비하며, 분기슬리브본체와 동일 재질로 이루어진 제1판재와; 좌우 방향으로 개구되어 분기선삽입부의 제1나사홀 및 상기 제1판재의 걸림홀과 연통되는 걸림홀을 구비하여 분기선삽입부의 제1삽입홈에 슬라이딩가능하게 삽입되는 삽입부와, 상기 삽입부로부터 연장되며 분기선삽입부의 안착홀에 삽입되는 곡판 형상의 곡판부를 구비하며, 제1판재의 내측에 고정배치되는 구리 재질의 제2판재를 갖춘 제1중간부재과: 좌우 방향으로 개구된 걸림홀을 구비하여 분기선삽입부의 제3삽입홈에 슬라이딩가능하게 삽입되는 삽입부와, 상기 삽입부로부터 연장되며 점퍼선삽입부의 안착홀에 삽입되는 곡판 형상의 곡판부를 구비하며, 분기슬리브본체와 동일 재질로 이루어진 제1판재와; 좌우 방향으로 개구되어 분기선삽입부의 제2나사홀 및 상기 제1판재의 걸림홀과 연통되는 걸림홀을 구비하여 분기선삽입부의 제3삽입홈에 슬라이딩가능하게 삽입되는 삽입부와, 상기 삽입부로부터 연장되며 점퍼선삽입부의 안착홀에 삽입되는 곡판 형상의 곡판부를 구비하며, 제1판재의 내측에 고정배치되는 구리 재질의 제2판재를 갖춘 제2중간부재와: 표면에 스크래치가 형성되며 분기선삽입부의 제2삽입홈 및 점퍼선삽입부의 삽입홈에 삽입되는 탄성재질의 고정밴드와; 돌기를 구비하여 고정밴드에 이동가능하게 삽입되는 다수의 제1연결체와; 고정밴드의 좌측에 구비되는 볼트체와; 고정밴드의 우측에 구비되는 제2연결체 및; 좌측이 제2연결체에 회전가능하게 설치되며 우측이 볼트체에 나사산 결합되는 너트체를 갖춘 밴딩기구 및: 제1연결체의 돌기에 착탈가능하게 나사산 결합되는 제1삽입홀과, 상기 제1삽입홀과 대향되게 구비되어 제1연결체의 돌기에 착탈가능하게 나사산 결합되는 제2삽입홀을 갖추고서, 분기선삽입부의 삽입홀 및 점퍼선삽입부의 삽입홀에 각각 삽입되어, 제1중간부재의 제1판재의 곡판부 및 제2중간부재의 제1판재의 곡판부를 각각 가압하는 탄성재질인 각각의 가압기구를 갖추고서, 분기슬리브커버의 내부에 설치되는 분기슬리브, 분기슬리브커버의 상부에 설치되어 초음파를 출력하는 초음파발생기 를 포함하는 것을 특징으로 한다."
      ],
      "text/plain": [
       "<IPython.core.display.Markdown object>"
      ]
     },
     "metadata": {},
     "output_type": "display_data"
    },
    {
     "name": "stderr",
     "output_type": "stream",
     "text": [
      "2023-07-28 01:06:18.756 \n",
      "  \u001b[33m\u001b[1mWarning:\u001b[0m to view this Streamlit app on a browser, run it with the following\n",
      "  command:\n",
      "\n",
      "    streamlit run /opt/conda/lib/python3.8/site-packages/ipykernel_launcher.py [ARGUMENTS]\n"
     ]
    },
    {
     "data": {
      "text/markdown": [
       "## Token 개수"
      ],
      "text/plain": [
       "<IPython.core.display.Markdown object>"
      ]
     },
     "metadata": {},
     "output_type": "display_data"
    },
    {
     "data": {
      "text/plain": [
       "1314"
      ]
     },
     "metadata": {},
     "output_type": "display_data"
    },
    {
     "data": {
      "text/markdown": [
       "## KoBART 요약 결과(before)"
      ],
      "text/plain": [
       "<IPython.core.display.Markdown object>"
      ]
     },
     "metadata": {},
     "output_type": "display_data"
    },
    {
     "data": {
      "text/markdown": [
       "본 발명은 가공배전선로의 케이블 탈선 방지용 거치대에 관한 것으로서, 보다 상세하게는, 완철에 착탈가능하게 설치되는 지지부와, 원호 방향을 따라 형성되는 다수 개의 관통홀을 갖추고서 지지부의 상부에 구비되되, 서로 대향되게 구비되는 한 쌍의 지탱부를 갖춘 지지체와, 고정볼트에 나사산 결합되는 제2볼트체를 갖춘 길이조절기구와, 상기 안착홀과 길이조절기구의 고정홀을 관통하는 고정볼트와, 고정볼트에 나사산 결합되며, 고정볼트의 헤드부에 대향되도록 지탱부의 외측에 배치되는 고정너트를 갖춘 고정기구를 구비한 분기슬리브본체와, 상기 삽입부의 중앙부에 전후 방향으로 개구되게 형성되고 좌측이 개구되는 안착홀과, 분기선삽입부의 하부에 전후 방향으로 개구되게 형성되고 상측이 개구되어 상기 안착홀과 연통되는 제1삽입홈과, 우측이 개구되어 분기선삽입부의 둘레를 따라 형성되는 제2삽입홈과, 분기선삽입부의 좌우 방향으로 개구되게 형성되며 좌측이 상기 안착홀과 연통되고, 우측이 상기 안착홀과 연통되는 제1삽입홈과, 분기선삽입부의 상하부에 좌우 방향으로 개구되게 형성되고 좌측이 상기 안착홀과 연통된 제1삽입홈과, 분기선삽입부의 하부에 좌우 방향으로 개구되게 형성되고 우측이 상기 안착홀과 연통되는 제1삽입홈과, 분기선삽입부의 하부에 좌우 방향으로 개구되게 형성되고 우측이 상기 제1삽입홈과 연통되는 제1중간부재을 가압하기 위한 볼트가 이동가능하게 나사산 결합되는 제1나사홀과, 분기선삽입부의 상부에 전후 방향으로 개구되게 형성되고 상측이 개구되는 제3삽입홈 및, 분기선삽입부의 상부 우측부에 좌우로 개구되게 형성되고 좌측이 상기 제3삽입홈과 연통되며 우측이 상기 제3삽입홈과 연통되며 우측이 상기 제2삽입홈과 연통되는 제1가사홀과, 우측이 상기 제2삽입홈과 연통되어 점퍼선삽입부의 하부에 전후 방향으로 개구되게 형성되고 상측이 개구되어 상기 안착홀과 연통되는 제2삽입홈과, 상기 안착홀과 연통되는 제1삽입홈과,"
      ],
      "text/plain": [
       "<IPython.core.display.Markdown object>"
      ]
     },
     "metadata": {},
     "output_type": "display_data"
    },
    {
     "data": {
      "text/markdown": [
       "## KoBART 요약 결과(after)"
      ],
      "text/plain": [
       "<IPython.core.display.Markdown object>"
      ]
     },
     "metadata": {},
     "output_type": "display_data"
    },
    {
     "data": {
      "text/markdown": [
       "본 발명은 가공배전선로의 케이블 탈선 방지용 거치대에 관한 것으로서, 보다 상세하게는, 완철에 착탈가능하게 설치되는 지지부와, 원호 방향을 따라 형성되는 다수 개의 관통홀을 갖추고서 지지부의 상부에 구비되되, 서로 대향되게 구비되는 한 쌍의 지탱부를 갖춘 지지체와, 길이조절너트체 및 길이조절너트체에 이동가능하게 나사산 결합되는 제2볼트체를 갖춘 길이조절기구 및 이를 포함하는 고정기구에 관한 것이다."
      ],
      "text/plain": [
       "<IPython.core.display.Markdown object>"
      ]
     },
     "metadata": {},
     "output_type": "display_data"
    },
    {
     "data": {
      "text/markdown": [
       "## 특허 실제 요약"
      ],
      "text/plain": [
       "<IPython.core.display.Markdown object>"
      ]
     },
     "metadata": {},
     "output_type": "display_data"
    },
    {
     "data": {
      "text/markdown": [
       "본 발명은 가공배전선로의 케이블 탈선 방지용 거치대에 관한 것이다."
      ],
      "text/plain": [
       "<IPython.core.display.Markdown object>"
      ]
     },
     "metadata": {},
     "output_type": "display_data"
    }
   ],
   "source": [
    "st.title(\"KoBART 요약 Test\")\n",
    "st.markdown(\"## 특허 요약 원문\")\n",
    "st.write(text)\n",
    "\n",
    "if text:\n",
    "    with st.spinner('processing..'):\n",
    "        input_ids = tokenizer.encode(text)\n",
    "        st.markdown(\"## Token 개수\")\n",
    "        st.write(len(input_ids))\n",
    "        input_ids = add_padding_data(input_ids)\n",
    "        # input_ids = [tokenizer.bos_token_id] + input_ids + [tokenizer.eos_token_id]\n",
    "        input_ids = torch.tensor(input_ids).unsqueeze(0)\n",
    "        attention_mask = input_ids.ne(3).float()\n",
    "        \n",
    "        if args.isBefore:\n",
    "            summary_ids_b = model_b.generate(input_ids,  num_beams=args.num_beams,  max_length=args.max_length,  bos_token_id = args.bos_token_id, eos_token_id=args.eos_token_id, \\\n",
    "                                             pad_token_id = args.pad_token_id, attention_mask = attention_mask, decoder_start_token_id = args.decoder_start_token_id, \\\n",
    "                                             repetition_penalty = args.repetition_penalty, length_penalty = args.length_penalty)\n",
    "            output_b = tokenizer.decode(summary_ids_b.squeeze().tolist(), skip_special_tokens=True)\n",
    "    \n",
    "        summary_ids = model.generate(input_ids,  num_beams=args.num_beams,  max_length=args.max_length,  bos_token_id = args.bos_token_id, eos_token_id=args.eos_token_id, \\\n",
    "                                             pad_token_id = args.pad_token_id, attention_mask = attention_mask, decoder_start_token_id = args.decoder_start_token_id, \\\n",
    "                                             repetition_penalty = args.repetition_penalty, length_penalty = args.length_penalty)\n",
    "        output = tokenizer.decode(summary_ids.squeeze().tolist(), skip_special_tokens=True)\n",
    "    \n",
    "    if args.isBefore:\n",
    "        st.markdown(\"## KoBART 요약 결과(before)\")\n",
    "        st.write(output_b)\n",
    "    \n",
    "        st.markdown(\"## KoBART 요약 결과(after)\")\n",
    "    else:\n",
    "        st.markdown(\"## KoBART 요약 결과\")\n",
    "    st.write(output)\n",
    "    \n",
    "st.markdown(\"## 특허 실제 요약\")\n",
    "st.write(target)"
   ]
  },
  {
   "cell_type": "code",
   "execution_count": 27,
   "id": "81b05b3f-239e-4fae-a388-67c53ef50ee9",
   "metadata": {},
   "outputs": [],
   "source": [
    "def kobart_summarization(text):\n",
    "    input_ids = tokenizer.encode(text)\n",
    "    input_ids = add_padding_data(input_ids)\n",
    "    input_ids = torch.tensor(input_ids).unsqueeze(0)\n",
    "    attention_mask = input_ids.ne(3).float()\n",
    "\n",
    "    summary_ids = model.generate(input_ids,  num_beams=args.num_beams,  max_length=args.max_length,  bos_token_id = args.bos_token_id, eos_token_id=args.eos_token_id, \\\n",
    "                                             pad_token_id = args.pad_token_id, attention_mask = attention_mask, decoder_start_token_id = args.decoder_start_token_id, \\\n",
    "                                             repetition_penalty = args.repetition_penalty, length_penalty = args.length_penalty)\n",
    "    output = tokenizer.decode(summary_ids.squeeze().tolist(), skip_special_tokens=True)\n",
    "    \n",
    "    return output"
   ]
  },
  {
   "cell_type": "code",
   "execution_count": 21,
   "id": "3fbd08c5-ddec-435e-b162-cfcffb90d6ea",
   "metadata": {},
   "outputs": [],
   "source": [
    "# df_validation['summarized'] = df_validation['input'].progress_apply(kobart_summarization) #   2%|▏         | 269/13369 [09:17<7:32:32,  2.07s/it] "
   ]
  },
  {
   "cell_type": "code",
   "execution_count": 22,
   "id": "26ced7db-7dbc-4a0f-9541-13f9a37e9172",
   "metadata": {},
   "outputs": [
    {
     "name": "stderr",
     "output_type": "stream",
     "text": [
      "100%|██████████| 13369/13369 [00:06<00:00, 2053.01it/s]\n"
     ]
    }
   ],
   "source": [
    "df_validation['encoded_input'] = df_validation['input'].progress_apply(tokenizer.encode)"
   ]
  },
  {
   "cell_type": "code",
   "execution_count": 23,
   "id": "7cb1c047-e225-44ce-b7d4-6158e3841c6f",
   "metadata": {},
   "outputs": [
    {
     "name": "stderr",
     "output_type": "stream",
     "text": [
      "100%|██████████| 13369/13369 [00:00<00:00, 15173.03it/s]\n"
     ]
    },
    {
     "name": "stdout",
     "output_type": "stream",
     "text": [
      "torch.Size([13369, 1024])\n"
     ]
    }
   ],
   "source": [
    "total = df_validation['encoded_input'].progress_apply(add_padding_data)\n",
    "total = torch.tensor([list(value) for value in total.values])\n",
    "print(total.shape)"
   ]
  },
  {
   "cell_type": "code",
   "execution_count": 24,
   "id": "d6a79653-32c2-499b-be6e-fc78abf8c810",
   "metadata": {},
   "outputs": [
    {
     "data": {
      "application/vnd.jupyter.widget-view+json": {
       "model_id": "4a5e45f481a04430af8b284b6411b57e",
       "version_major": 2,
       "version_minor": 0
      },
      "text/plain": [
       "  0%|          | 0/418 [00:00<?, ?it/s]"
      ]
     },
     "metadata": {},
     "output_type": "display_data"
    }
   ],
   "source": [
    "from math import ceil\n",
    "\n",
    "model = BartForConditionalGeneration.from_pretrained(args.summarization_model).to('cuda')\n",
    "\n",
    "batch_size = 32\n",
    "outputs = list()\n",
    "\n",
    "for i in tqdm(range(ceil(total.shape[0] / batch_size))):\n",
    "    batch = total[i*batch_size:(i+1)*batch_size].to('cuda')\n",
    "    attention_mask = batch.ne(3).float()\n",
    "    summary_ids = model.generate(batch,  num_beams=args.num_beams,  max_length=args.max_length,  bos_token_id = args.bos_token_id, eos_token_id=args.eos_token_id, \\\n",
    "                                         pad_token_id = args.pad_token_id, attention_mask = attention_mask, decoder_start_token_id = args.decoder_start_token_id, \\\n",
    "                                         repetition_penalty = args.repetition_penalty, length_penalty = args.length_penalty)\n",
    "    outputs += summary_ids.detach().cpu().tolist()"
   ]
  },
  {
   "cell_type": "code",
   "execution_count": 26,
   "id": "e7938028-4357-458f-a153-8920311ac9ab",
   "metadata": {},
   "outputs": [
    {
     "data": {
      "text/html": [
       "<div>\n",
       "<style scoped>\n",
       "    .dataframe tbody tr th:only-of-type {\n",
       "        vertical-align: middle;\n",
       "    }\n",
       "\n",
       "    .dataframe tbody tr th {\n",
       "        vertical-align: top;\n",
       "    }\n",
       "\n",
       "    .dataframe thead th {\n",
       "        text-align: right;\n",
       "    }\n",
       "</style>\n",
       "<table border=\"1\" class=\"dataframe\">\n",
       "  <thead>\n",
       "    <tr style=\"text-align: right;\">\n",
       "      <th></th>\n",
       "      <th>input</th>\n",
       "      <th>output</th>\n",
       "      <th>input_length</th>\n",
       "      <th>output_length</th>\n",
       "      <th>input_tokens</th>\n",
       "      <th>output_tokens</th>\n",
       "      <th>encoded_input</th>\n",
       "      <th>summarized</th>\n",
       "    </tr>\n",
       "  </thead>\n",
       "  <tbody>\n",
       "    <tr>\n",
       "      <th>0</th>\n",
       "      <td>이 고안은 특정인들이 이용하는 이동수단에 승차한 장애인을 위해 상체 보호 구성부를 ...</td>\n",
       "      <td>본 발명은 장애인 전용 차량에 관한 것으로서, 보다 자세하게는 보장구를 이용하여 이...</td>\n",
       "      <td>154</td>\n",
       "      <td>143</td>\n",
       "      <td>61</td>\n",
       "      <td>59</td>\n",
       "      <td>[14025, 14068, 17662, 16886, 16707, 21229, 155...</td>\n",
       "      <td>[0, 14025, 14068, 17662, 16886, 16707, 21229, ...</td>\n",
       "    </tr>\n",
       "    <tr>\n",
       "      <th>1</th>\n",
       "      <td>본 발명은 물 없이 샴푸가 가능한 드라이 샴푸 조성물에 관한 것으로, 더욱 구체적으...</td>\n",
       "      <td>본 발명은 물 없이도 샴푸가 가능한 드라이 샴푸 조성물에 관한 것이다.</td>\n",
       "      <td>272</td>\n",
       "      <td>39</td>\n",
       "      <td>132</td>\n",
       "      <td>19</td>\n",
       "      <td>[14285, 14103, 16237, 14198, 14807, 1700, 1124...</td>\n",
       "      <td>[0, 14285, 14103, 16237, 14198, 14807, 1700, 1...</td>\n",
       "    </tr>\n",
       "    <tr>\n",
       "      <th>2</th>\n",
       "      <td>본 발명은 점검자가 쉽게 접근할 수 없는 장소 및 원거리에 균열이 발생되어 있을 때...</td>\n",
       "      <td>본 발명은 구조물 점검자가 간편하게 접근할 수 없는 원거리에  발생된 균열의 폭을 ...</td>\n",
       "      <td>438</td>\n",
       "      <td>386</td>\n",
       "      <td>200</td>\n",
       "      <td>180</td>\n",
       "      <td>[14285, 14103, 16237, 16832, 14401, 15993, 293...</td>\n",
       "      <td>[0, 14285, 14103, 16237, 16832, 14401, 15993, ...</td>\n",
       "    </tr>\n",
       "    <tr>\n",
       "      <th>3</th>\n",
       "      <td>본 발명에 따르는, 무안경 입체영상시청을 위해 사용자 단말과 렌티큘러 렌즈 간 정렬...</td>\n",
       "      <td>본 발명은 무안경 입체영상시청을 위해 사용자 단말과 렌티큘러 렌즈 간 정렬 오차를 ...</td>\n",
       "      <td>515</td>\n",
       "      <td>190</td>\n",
       "      <td>240</td>\n",
       "      <td>87</td>\n",
       "      <td>[14285, 14103, 16926, 28727, 243, 14113, 11699...</td>\n",
       "      <td>[0, 14285, 14103, 16237, 14113, 11699, 9085, 1...</td>\n",
       "    </tr>\n",
       "    <tr>\n",
       "      <th>4</th>\n",
       "      <td>본 발명은 친환경성 , 인체무해성, 내후성  및 대면적 코팅이 가능하면서도 플라스틱...</td>\n",
       "      <td>본 발명은 플라스틱 소재용 유기-무기 복합코팅제 조성물 및 그의 제조방법에 관한 것...</td>\n",
       "      <td>165</td>\n",
       "      <td>133</td>\n",
       "      <td>84</td>\n",
       "      <td>62</td>\n",
       "      <td>[14285, 14103, 16237, 18043, 11280, 15004, 140...</td>\n",
       "      <td>[0, 14285, 14103, 16237, 19224, 244, 24433, 18...</td>\n",
       "    </tr>\n",
       "    <tr>\n",
       "      <th>...</th>\n",
       "      <td>...</td>\n",
       "      <td>...</td>\n",
       "      <td>...</td>\n",
       "      <td>...</td>\n",
       "      <td>...</td>\n",
       "      <td>...</td>\n",
       "      <td>...</td>\n",
       "      <td>...</td>\n",
       "    </tr>\n",
       "    <tr>\n",
       "      <th>13364</th>\n",
       "      <td>본 발명에 따른 타일 시공 장치는 길게 형성되고 길이가 조절되도록 일부에 신축부가 ...</td>\n",
       "      <td>본 발명은 대상 벽면에 타일을 시공하기 위한 장치와 이를 이용하여 시공하는 방법에 ...</td>\n",
       "      <td>293</td>\n",
       "      <td>130</td>\n",
       "      <td>129</td>\n",
       "      <td>56</td>\n",
       "      <td>[14285, 14103, 16926, 15176, 14339, 12041, 228...</td>\n",
       "      <td>[0, 14285, 14103, 16237, 14339, 12041, 22895, ...</td>\n",
       "    </tr>\n",
       "    <tr>\n",
       "      <th>13365</th>\n",
       "      <td>얼룩 검사 장치가 제공된다. 얼룩 검사 장치는 제1 색 성분의 파장대의 투과율이 제...</td>\n",
       "      <td>본 발명은 기판의 얼룩 검사 장치 및 검사 방법에 관한 것이다.</td>\n",
       "      <td>236</td>\n",
       "      <td>35</td>\n",
       "      <td>120</td>\n",
       "      <td>16</td>\n",
       "      <td>[14479, 10397, 17535, 14137, 15787, 14626, 990...</td>\n",
       "      <td>[0, 14285, 14103, 16237, 14479, 10397, 17535, ...</td>\n",
       "    </tr>\n",
       "    <tr>\n",
       "      <th>13366</th>\n",
       "      <td>본 발명은 하이 스피드 영상 컬리브레이션이 가능한 LED 전광판에 관한 것으로, 그...</td>\n",
       "      <td>본 발명은 하이 스피드 영상 컬리브레이션이 가능한 LED 전광판에 관한 것으로, 보...</td>\n",
       "      <td>597</td>\n",
       "      <td>304</td>\n",
       "      <td>292</td>\n",
       "      <td>143</td>\n",
       "      <td>[14285, 14103, 16237, 17239, 19840, 9989, 1689...</td>\n",
       "      <td>[0, 14285, 14103, 16237, 17239, 19840, 9989, 1...</td>\n",
       "    </tr>\n",
       "    <tr>\n",
       "      <th>13367</th>\n",
       "      <td>본 발명은 현재 주로 사용되고 있는 움직임보상-변환부호화 영상압축기술을, 컴퓨터영상...</td>\n",
       "      <td>본 발명은 영상의 부호화/복호화에 관한 것으로, 보다 상세하게는 변환 생략 여부를 ...</td>\n",
       "      <td>396</td>\n",
       "      <td>81</td>\n",
       "      <td>181</td>\n",
       "      <td>39</td>\n",
       "      <td>[14285, 14103, 16237, 14475, 16471, 14442, 145...</td>\n",
       "      <td>[0, 14285, 14103, 16237, 18524, 28764, 244, 10...</td>\n",
       "    </tr>\n",
       "    <tr>\n",
       "      <th>13368</th>\n",
       "      <td>본 발명은 키다마이신 유도체 L1-95-1 및 이를 유효성분으로 함유하는 암 예방 ...</td>\n",
       "      <td>본 발명은 키다마이신 유도체 L1-95-1 및 이를 유효성분으로 함유하는 암 예방 ...</td>\n",
       "      <td>306</td>\n",
       "      <td>65</td>\n",
       "      <td>155</td>\n",
       "      <td>30</td>\n",
       "      <td>[14285, 14103, 16237, 14947, 9754, 20920, 1146...</td>\n",
       "      <td>[0, 14285, 14103, 16237, 14947, 9754, 20920, 1...</td>\n",
       "    </tr>\n",
       "  </tbody>\n",
       "</table>\n",
       "<p>13369 rows × 8 columns</p>\n",
       "</div>"
      ],
      "text/plain": [
       "                                                   input  \\\n",
       "0      이 고안은 특정인들이 이용하는 이동수단에 승차한 장애인을 위해 상체 보호 구성부를 ...   \n",
       "1      본 발명은 물 없이 샴푸가 가능한 드라이 샴푸 조성물에 관한 것으로, 더욱 구체적으...   \n",
       "2      본 발명은 점검자가 쉽게 접근할 수 없는 장소 및 원거리에 균열이 발생되어 있을 때...   \n",
       "3      본 발명에 따르는, 무안경 입체영상시청을 위해 사용자 단말과 렌티큘러 렌즈 간 정렬...   \n",
       "4      본 발명은 친환경성 , 인체무해성, 내후성  및 대면적 코팅이 가능하면서도 플라스틱...   \n",
       "...                                                  ...   \n",
       "13364  본 발명에 따른 타일 시공 장치는 길게 형성되고 길이가 조절되도록 일부에 신축부가 ...   \n",
       "13365  얼룩 검사 장치가 제공된다. 얼룩 검사 장치는 제1 색 성분의 파장대의 투과율이 제...   \n",
       "13366  본 발명은 하이 스피드 영상 컬리브레이션이 가능한 LED 전광판에 관한 것으로, 그...   \n",
       "13367  본 발명은 현재 주로 사용되고 있는 움직임보상-변환부호화 영상압축기술을, 컴퓨터영상...   \n",
       "13368  본 발명은 키다마이신 유도체 L1-95-1 및 이를 유효성분으로 함유하는 암 예방 ...   \n",
       "\n",
       "                                                  output  input_length  \\\n",
       "0      본 발명은 장애인 전용 차량에 관한 것으로서, 보다 자세하게는 보장구를 이용하여 이...           154   \n",
       "1                본 발명은 물 없이도 샴푸가 가능한 드라이 샴푸 조성물에 관한 것이다.           272   \n",
       "2      본 발명은 구조물 점검자가 간편하게 접근할 수 없는 원거리에  발생된 균열의 폭을 ...           438   \n",
       "3      본 발명은 무안경 입체영상시청을 위해 사용자 단말과 렌티큘러 렌즈 간 정렬 오차를 ...           515   \n",
       "4      본 발명은 플라스틱 소재용 유기-무기 복합코팅제 조성물 및 그의 제조방법에 관한 것...           165   \n",
       "...                                                  ...           ...   \n",
       "13364  본 발명은 대상 벽면에 타일을 시공하기 위한 장치와 이를 이용하여 시공하는 방법에 ...           293   \n",
       "13365                본 발명은 기판의 얼룩 검사 장치 및 검사 방법에 관한 것이다.           236   \n",
       "13366  본 발명은 하이 스피드 영상 컬리브레이션이 가능한 LED 전광판에 관한 것으로, 보...           597   \n",
       "13367  본 발명은 영상의 부호화/복호화에 관한 것으로, 보다 상세하게는 변환 생략 여부를 ...           396   \n",
       "13368  본 발명은 키다마이신 유도체 L1-95-1 및 이를 유효성분으로 함유하는 암 예방 ...           306   \n",
       "\n",
       "       output_length  input_tokens  output_tokens  \\\n",
       "0                143            61             59   \n",
       "1                 39           132             19   \n",
       "2                386           200            180   \n",
       "3                190           240             87   \n",
       "4                133            84             62   \n",
       "...              ...           ...            ...   \n",
       "13364            130           129             56   \n",
       "13365             35           120             16   \n",
       "13366            304           292            143   \n",
       "13367             81           181             39   \n",
       "13368             65           155             30   \n",
       "\n",
       "                                           encoded_input  \\\n",
       "0      [14025, 14068, 17662, 16886, 16707, 21229, 155...   \n",
       "1      [14285, 14103, 16237, 14198, 14807, 1700, 1124...   \n",
       "2      [14285, 14103, 16237, 16832, 14401, 15993, 293...   \n",
       "3      [14285, 14103, 16926, 28727, 243, 14113, 11699...   \n",
       "4      [14285, 14103, 16237, 18043, 11280, 15004, 140...   \n",
       "...                                                  ...   \n",
       "13364  [14285, 14103, 16926, 15176, 14339, 12041, 228...   \n",
       "13365  [14479, 10397, 17535, 14137, 15787, 14626, 990...   \n",
       "13366  [14285, 14103, 16237, 17239, 19840, 9989, 1689...   \n",
       "13367  [14285, 14103, 16237, 14475, 16471, 14442, 145...   \n",
       "13368  [14285, 14103, 16237, 14947, 9754, 20920, 1146...   \n",
       "\n",
       "                                              summarized  \n",
       "0      [0, 14025, 14068, 17662, 16886, 16707, 21229, ...  \n",
       "1      [0, 14285, 14103, 16237, 14198, 14807, 1700, 1...  \n",
       "2      [0, 14285, 14103, 16237, 16832, 14401, 15993, ...  \n",
       "3      [0, 14285, 14103, 16237, 14113, 11699, 9085, 1...  \n",
       "4      [0, 14285, 14103, 16237, 19224, 244, 24433, 18...  \n",
       "...                                                  ...  \n",
       "13364  [0, 14285, 14103, 16237, 14339, 12041, 22895, ...  \n",
       "13365  [0, 14285, 14103, 16237, 14479, 10397, 17535, ...  \n",
       "13366  [0, 14285, 14103, 16237, 17239, 19840, 9989, 1...  \n",
       "13367  [0, 14285, 14103, 16237, 18524, 28764, 244, 10...  \n",
       "13368  [0, 14285, 14103, 16237, 14947, 9754, 20920, 1...  \n",
       "\n",
       "[13369 rows x 8 columns]"
      ]
     },
     "execution_count": 26,
     "metadata": {},
     "output_type": "execute_result"
    }
   ],
   "source": [
    "df_validation['summarized'] = outputs\n",
    "df_validation"
   ]
  },
  {
   "cell_type": "code",
   "execution_count": 27,
   "id": "21149bca-cdaf-4350-917e-a64ad8ddeac6",
   "metadata": {},
   "outputs": [
    {
     "data": {
      "text/html": [
       "<div>\n",
       "<style scoped>\n",
       "    .dataframe tbody tr th:only-of-type {\n",
       "        vertical-align: middle;\n",
       "    }\n",
       "\n",
       "    .dataframe tbody tr th {\n",
       "        vertical-align: top;\n",
       "    }\n",
       "\n",
       "    .dataframe thead th {\n",
       "        text-align: right;\n",
       "    }\n",
       "</style>\n",
       "<table border=\"1\" class=\"dataframe\">\n",
       "  <thead>\n",
       "    <tr style=\"text-align: right;\">\n",
       "      <th></th>\n",
       "      <th>input</th>\n",
       "      <th>output</th>\n",
       "      <th>input_length</th>\n",
       "      <th>output_length</th>\n",
       "      <th>input_tokens</th>\n",
       "      <th>output_tokens</th>\n",
       "      <th>encoded_input</th>\n",
       "      <th>summarized</th>\n",
       "      <th>summarized_abstract</th>\n",
       "    </tr>\n",
       "  </thead>\n",
       "  <tbody>\n",
       "    <tr>\n",
       "      <th>0</th>\n",
       "      <td>이 고안은 특정인들이 이용하는 이동수단에 승차한 장애인을 위해 상체 보호 구성부를 ...</td>\n",
       "      <td>본 발명은 장애인 전용 차량에 관한 것으로서, 보다 자세하게는 보장구를 이용하여 이...</td>\n",
       "      <td>154</td>\n",
       "      <td>143</td>\n",
       "      <td>61</td>\n",
       "      <td>59</td>\n",
       "      <td>[14025, 14068, 17662, 16886, 16707, 21229, 155...</td>\n",
       "      <td>[0, 14025, 14068, 17662, 16886, 16707, 21229, ...</td>\n",
       "      <td>이 고안은 특정인들이 이용하는 이동수단에 승차한 장애인을 위해 상체 보호 구성부를 ...</td>\n",
       "    </tr>\n",
       "    <tr>\n",
       "      <th>1</th>\n",
       "      <td>본 발명은 물 없이 샴푸가 가능한 드라이 샴푸 조성물에 관한 것으로, 더욱 구체적으...</td>\n",
       "      <td>본 발명은 물 없이도 샴푸가 가능한 드라이 샴푸 조성물에 관한 것이다.</td>\n",
       "      <td>272</td>\n",
       "      <td>39</td>\n",
       "      <td>132</td>\n",
       "      <td>19</td>\n",
       "      <td>[14285, 14103, 16237, 14198, 14807, 1700, 1124...</td>\n",
       "      <td>[0, 14285, 14103, 16237, 14198, 14807, 1700, 1...</td>\n",
       "      <td>본 발명은 물 없이 샴푸가 가능한 드라이 샴푸 조성물에 관한 것으로, 더욱 구체적으...</td>\n",
       "    </tr>\n",
       "    <tr>\n",
       "      <th>2</th>\n",
       "      <td>본 발명은 점검자가 쉽게 접근할 수 없는 장소 및 원거리에 균열이 발생되어 있을 때...</td>\n",
       "      <td>본 발명은 구조물 점검자가 간편하게 접근할 수 없는 원거리에  발생된 균열의 폭을 ...</td>\n",
       "      <td>438</td>\n",
       "      <td>386</td>\n",
       "      <td>200</td>\n",
       "      <td>180</td>\n",
       "      <td>[14285, 14103, 16237, 16832, 14401, 15993, 293...</td>\n",
       "      <td>[0, 14285, 14103, 16237, 16832, 14401, 15993, ...</td>\n",
       "      <td>본 발명은 점검자가 쉽게 접근할 수 없는 장소 및 원거리에 균열이 발생되어 있을 때...</td>\n",
       "    </tr>\n",
       "    <tr>\n",
       "      <th>3</th>\n",
       "      <td>본 발명에 따르는, 무안경 입체영상시청을 위해 사용자 단말과 렌티큘러 렌즈 간 정렬...</td>\n",
       "      <td>본 발명은 무안경 입체영상시청을 위해 사용자 단말과 렌티큘러 렌즈 간 정렬 오차를 ...</td>\n",
       "      <td>515</td>\n",
       "      <td>190</td>\n",
       "      <td>240</td>\n",
       "      <td>87</td>\n",
       "      <td>[14285, 14103, 16926, 28727, 243, 14113, 11699...</td>\n",
       "      <td>[0, 14285, 14103, 16237, 14113, 11699, 9085, 1...</td>\n",
       "      <td>본 발명은 무안경 입체영상시청을 위해 사용자 단말과 렌티큘러 렌즈 간 정렬 오차를 ...</td>\n",
       "    </tr>\n",
       "    <tr>\n",
       "      <th>4</th>\n",
       "      <td>본 발명은 친환경성 , 인체무해성, 내후성  및 대면적 코팅이 가능하면서도 플라스틱...</td>\n",
       "      <td>본 발명은 플라스틱 소재용 유기-무기 복합코팅제 조성물 및 그의 제조방법에 관한 것...</td>\n",
       "      <td>165</td>\n",
       "      <td>133</td>\n",
       "      <td>84</td>\n",
       "      <td>62</td>\n",
       "      <td>[14285, 14103, 16237, 18043, 11280, 15004, 140...</td>\n",
       "      <td>[0, 14285, 14103, 16237, 19224, 244, 24433, 18...</td>\n",
       "      <td>본 발명은 유기-무기 복합 코팅제 조성물과 그의 제조방법에 관한 것으로, 보다 상세...</td>\n",
       "    </tr>\n",
       "    <tr>\n",
       "      <th>...</th>\n",
       "      <td>...</td>\n",
       "      <td>...</td>\n",
       "      <td>...</td>\n",
       "      <td>...</td>\n",
       "      <td>...</td>\n",
       "      <td>...</td>\n",
       "      <td>...</td>\n",
       "      <td>...</td>\n",
       "      <td>...</td>\n",
       "    </tr>\n",
       "    <tr>\n",
       "      <th>13364</th>\n",
       "      <td>본 발명에 따른 타일 시공 장치는 길게 형성되고 길이가 조절되도록 일부에 신축부가 ...</td>\n",
       "      <td>본 발명은 대상 벽면에 타일을 시공하기 위한 장치와 이를 이용하여 시공하는 방법에 ...</td>\n",
       "      <td>293</td>\n",
       "      <td>130</td>\n",
       "      <td>129</td>\n",
       "      <td>56</td>\n",
       "      <td>[14285, 14103, 16926, 15176, 14339, 12041, 228...</td>\n",
       "      <td>[0, 14285, 14103, 16237, 14339, 12041, 22895, ...</td>\n",
       "      <td>본 발명은 타일 시공 장치 및 이를 이용한 타일 시공방법에 관한 것으로서, 보다 상...</td>\n",
       "    </tr>\n",
       "    <tr>\n",
       "      <th>13365</th>\n",
       "      <td>얼룩 검사 장치가 제공된다. 얼룩 검사 장치는 제1 색 성분의 파장대의 투과율이 제...</td>\n",
       "      <td>본 발명은 기판의 얼룩 검사 장치 및 검사 방법에 관한 것이다.</td>\n",
       "      <td>236</td>\n",
       "      <td>35</td>\n",
       "      <td>120</td>\n",
       "      <td>16</td>\n",
       "      <td>[14479, 10397, 17535, 14137, 15787, 14626, 990...</td>\n",
       "      <td>[0, 14285, 14103, 16237, 14479, 10397, 17535, ...</td>\n",
       "      <td>본 발명은 얼룩 검사 장치에 관한 것으로서, 보다 상세하게는 포토 레지스트가 도포된...</td>\n",
       "    </tr>\n",
       "    <tr>\n",
       "      <th>13366</th>\n",
       "      <td>본 발명은 하이 스피드 영상 컬리브레이션이 가능한 LED 전광판에 관한 것으로, 그...</td>\n",
       "      <td>본 발명은 하이 스피드 영상 컬리브레이션이 가능한 LED 전광판에 관한 것으로, 보...</td>\n",
       "      <td>597</td>\n",
       "      <td>304</td>\n",
       "      <td>292</td>\n",
       "      <td>143</td>\n",
       "      <td>[14285, 14103, 16237, 17239, 19840, 9989, 1689...</td>\n",
       "      <td>[0, 14285, 14103, 16237, 17239, 19840, 9989, 1...</td>\n",
       "      <td>본 발명은 하이 스피드 영상 컬리브레이션이 가능한 LED 전광판에 관한 것으로, 더...</td>\n",
       "    </tr>\n",
       "    <tr>\n",
       "      <th>13367</th>\n",
       "      <td>본 발명은 현재 주로 사용되고 있는 움직임보상-변환부호화 영상압축기술을, 컴퓨터영상...</td>\n",
       "      <td>본 발명은 영상의 부호화/복호화에 관한 것으로, 보다 상세하게는 변환 생략 여부를 ...</td>\n",
       "      <td>396</td>\n",
       "      <td>81</td>\n",
       "      <td>181</td>\n",
       "      <td>39</td>\n",
       "      <td>[14285, 14103, 16237, 14475, 16471, 14442, 145...</td>\n",
       "      <td>[0, 14285, 14103, 16237, 18524, 28764, 244, 10...</td>\n",
       "      <td>본 발명은 움직임보상-변환부호화 영상압축기술에 관한 것으로, 더욱 상세하게는 현재 ...</td>\n",
       "    </tr>\n",
       "    <tr>\n",
       "      <th>13368</th>\n",
       "      <td>본 발명은 키다마이신 유도체 L1-95-1 및 이를 유효성분으로 함유하는 암 예방 ...</td>\n",
       "      <td>본 발명은 키다마이신 유도체 L1-95-1 및 이를 유효성분으로 함유하는 암 예방 ...</td>\n",
       "      <td>306</td>\n",
       "      <td>65</td>\n",
       "      <td>155</td>\n",
       "      <td>30</td>\n",
       "      <td>[14285, 14103, 16237, 14947, 9754, 20920, 1146...</td>\n",
       "      <td>[0, 14285, 14103, 16237, 14947, 9754, 20920, 1...</td>\n",
       "      <td>본 발명은 키다마이신 유도체 L1-95-1 및 이를 유효성분으로 함유하는 암 예방 ...</td>\n",
       "    </tr>\n",
       "  </tbody>\n",
       "</table>\n",
       "<p>13369 rows × 9 columns</p>\n",
       "</div>"
      ],
      "text/plain": [
       "                                                   input  \\\n",
       "0      이 고안은 특정인들이 이용하는 이동수단에 승차한 장애인을 위해 상체 보호 구성부를 ...   \n",
       "1      본 발명은 물 없이 샴푸가 가능한 드라이 샴푸 조성물에 관한 것으로, 더욱 구체적으...   \n",
       "2      본 발명은 점검자가 쉽게 접근할 수 없는 장소 및 원거리에 균열이 발생되어 있을 때...   \n",
       "3      본 발명에 따르는, 무안경 입체영상시청을 위해 사용자 단말과 렌티큘러 렌즈 간 정렬...   \n",
       "4      본 발명은 친환경성 , 인체무해성, 내후성  및 대면적 코팅이 가능하면서도 플라스틱...   \n",
       "...                                                  ...   \n",
       "13364  본 발명에 따른 타일 시공 장치는 길게 형성되고 길이가 조절되도록 일부에 신축부가 ...   \n",
       "13365  얼룩 검사 장치가 제공된다. 얼룩 검사 장치는 제1 색 성분의 파장대의 투과율이 제...   \n",
       "13366  본 발명은 하이 스피드 영상 컬리브레이션이 가능한 LED 전광판에 관한 것으로, 그...   \n",
       "13367  본 발명은 현재 주로 사용되고 있는 움직임보상-변환부호화 영상압축기술을, 컴퓨터영상...   \n",
       "13368  본 발명은 키다마이신 유도체 L1-95-1 및 이를 유효성분으로 함유하는 암 예방 ...   \n",
       "\n",
       "                                                  output  input_length  \\\n",
       "0      본 발명은 장애인 전용 차량에 관한 것으로서, 보다 자세하게는 보장구를 이용하여 이...           154   \n",
       "1                본 발명은 물 없이도 샴푸가 가능한 드라이 샴푸 조성물에 관한 것이다.           272   \n",
       "2      본 발명은 구조물 점검자가 간편하게 접근할 수 없는 원거리에  발생된 균열의 폭을 ...           438   \n",
       "3      본 발명은 무안경 입체영상시청을 위해 사용자 단말과 렌티큘러 렌즈 간 정렬 오차를 ...           515   \n",
       "4      본 발명은 플라스틱 소재용 유기-무기 복합코팅제 조성물 및 그의 제조방법에 관한 것...           165   \n",
       "...                                                  ...           ...   \n",
       "13364  본 발명은 대상 벽면에 타일을 시공하기 위한 장치와 이를 이용하여 시공하는 방법에 ...           293   \n",
       "13365                본 발명은 기판의 얼룩 검사 장치 및 검사 방법에 관한 것이다.           236   \n",
       "13366  본 발명은 하이 스피드 영상 컬리브레이션이 가능한 LED 전광판에 관한 것으로, 보...           597   \n",
       "13367  본 발명은 영상의 부호화/복호화에 관한 것으로, 보다 상세하게는 변환 생략 여부를 ...           396   \n",
       "13368  본 발명은 키다마이신 유도체 L1-95-1 및 이를 유효성분으로 함유하는 암 예방 ...           306   \n",
       "\n",
       "       output_length  input_tokens  output_tokens  \\\n",
       "0                143            61             59   \n",
       "1                 39           132             19   \n",
       "2                386           200            180   \n",
       "3                190           240             87   \n",
       "4                133            84             62   \n",
       "...              ...           ...            ...   \n",
       "13364            130           129             56   \n",
       "13365             35           120             16   \n",
       "13366            304           292            143   \n",
       "13367             81           181             39   \n",
       "13368             65           155             30   \n",
       "\n",
       "                                           encoded_input  \\\n",
       "0      [14025, 14068, 17662, 16886, 16707, 21229, 155...   \n",
       "1      [14285, 14103, 16237, 14198, 14807, 1700, 1124...   \n",
       "2      [14285, 14103, 16237, 16832, 14401, 15993, 293...   \n",
       "3      [14285, 14103, 16926, 28727, 243, 14113, 11699...   \n",
       "4      [14285, 14103, 16237, 18043, 11280, 15004, 140...   \n",
       "...                                                  ...   \n",
       "13364  [14285, 14103, 16926, 15176, 14339, 12041, 228...   \n",
       "13365  [14479, 10397, 17535, 14137, 15787, 14626, 990...   \n",
       "13366  [14285, 14103, 16237, 17239, 19840, 9989, 1689...   \n",
       "13367  [14285, 14103, 16237, 14475, 16471, 14442, 145...   \n",
       "13368  [14285, 14103, 16237, 14947, 9754, 20920, 1146...   \n",
       "\n",
       "                                              summarized  \\\n",
       "0      [0, 14025, 14068, 17662, 16886, 16707, 21229, ...   \n",
       "1      [0, 14285, 14103, 16237, 14198, 14807, 1700, 1...   \n",
       "2      [0, 14285, 14103, 16237, 16832, 14401, 15993, ...   \n",
       "3      [0, 14285, 14103, 16237, 14113, 11699, 9085, 1...   \n",
       "4      [0, 14285, 14103, 16237, 19224, 244, 24433, 18...   \n",
       "...                                                  ...   \n",
       "13364  [0, 14285, 14103, 16237, 14339, 12041, 22895, ...   \n",
       "13365  [0, 14285, 14103, 16237, 14479, 10397, 17535, ...   \n",
       "13366  [0, 14285, 14103, 16237, 17239, 19840, 9989, 1...   \n",
       "13367  [0, 14285, 14103, 16237, 18524, 28764, 244, 10...   \n",
       "13368  [0, 14285, 14103, 16237, 14947, 9754, 20920, 1...   \n",
       "\n",
       "                                     summarized_abstract  \n",
       "0      이 고안은 특정인들이 이용하는 이동수단에 승차한 장애인을 위해 상체 보호 구성부를 ...  \n",
       "1      본 발명은 물 없이 샴푸가 가능한 드라이 샴푸 조성물에 관한 것으로, 더욱 구체적으...  \n",
       "2      본 발명은 점검자가 쉽게 접근할 수 없는 장소 및 원거리에 균열이 발생되어 있을 때...  \n",
       "3      본 발명은 무안경 입체영상시청을 위해 사용자 단말과 렌티큘러 렌즈 간 정렬 오차를 ...  \n",
       "4      본 발명은 유기-무기 복합 코팅제 조성물과 그의 제조방법에 관한 것으로, 보다 상세...  \n",
       "...                                                  ...  \n",
       "13364  본 발명은 타일 시공 장치 및 이를 이용한 타일 시공방법에 관한 것으로서, 보다 상...  \n",
       "13365  본 발명은 얼룩 검사 장치에 관한 것으로서, 보다 상세하게는 포토 레지스트가 도포된...  \n",
       "13366  본 발명은 하이 스피드 영상 컬리브레이션이 가능한 LED 전광판에 관한 것으로, 더...  \n",
       "13367  본 발명은 움직임보상-변환부호화 영상압축기술에 관한 것으로, 더욱 상세하게는 현재 ...  \n",
       "13368  본 발명은 키다마이신 유도체 L1-95-1 및 이를 유효성분으로 함유하는 암 예방 ...  \n",
       "\n",
       "[13369 rows x 9 columns]"
      ]
     },
     "execution_count": 27,
     "metadata": {},
     "output_type": "execute_result"
    }
   ],
   "source": [
    "df_validation['summarized_abstract'] = df_validation['summarized'].apply(tokenizer.decode, skip_special_tokens=True)\n",
    "df_validation"
   ]
  },
  {
   "cell_type": "code",
   "execution_count": 28,
   "id": "d1b87070-05ee-420f-9821-585d8ad615cb",
   "metadata": {},
   "outputs": [
    {
     "name": "stderr",
     "output_type": "stream",
     "text": [
      "  8%|▊         | 1006/13369 [00:01<00:14, 849.02it/s]"
     ]
    },
    {
     "name": "stdout",
     "output_type": "stream",
     "text": [
      "본 발명은 컷아웃스위치 또는 피뢰기 고정용 경완금의 제조방법에 관한 것으로, 더욱 상세하게는 종래의 경완금에 비하여 부식이 없이 반영구적인 수명을 유지할 수 있고 중량이 가벼워 작업하기가 용이하며 강도와 탄성이 향상된 컷아웃스위치 또는 피뢰기 고정용 경완금의 제조방법에 관한 것이다. .\n"
     ]
    },
    {
     "name": "stderr",
     "output_type": "stream",
     "text": [
      " 25%|██▌       | 3395/13369 [00:04<00:12, 816.43it/s]"
     ]
    },
    {
     "name": "stdout",
     "output_type": "stream",
     "text": [
      "본 발명은 물건 지지팔의 폭 조절이 가능한 핸드 캐리어에 관한 것으로서, 더욱 상세하게는 손잡이가 고정되고 좌우 대칭으로 직립되는 수직 파이프와 보강 파이프의 위쪽과 중앙에 용접으로 고정되는 보강쇠, 보강쇠에 용접으로 고정되는 최소 2개의 보강 파이프, 수직 파이프의 하단 후방에 용접으로 고정되어 바퀴 지지축을 지지하는 브라키트로 되는 프레임과 브라키트 사이에 수평으로 조립되는 바퀴 지지축 및 바퀴 지지축의 양쪽 끝에 조립되는 바퀴와 보스의 역할을 겸하는 버팀쇠가 구비된다. .\n"
     ]
    },
    {
     "name": "stderr",
     "output_type": "stream",
     "text": [
      " 50%|█████     | 6712/13369 [00:08<00:07, 848.46it/s]"
     ]
    },
    {
     "name": "stdout",
     "output_type": "stream",
     "text": [
      "본 발명은 대형의 화분 이동용 핸드 캐리어에 관한 것으로서, 더욱 상세하게는 상단에 손잡이가 구비되고 좌우 대칭으로 직립되는 수직 파이프, 수직 파이프의 안쪽에 용접으로 고정되는 최소 2개의 보강 파이프, 수직 파이프와 보강 파이프에 용접으로 고정되는 보강대, 수직 파이프의 후방에 용접으로 고정되며 후방 캐스터를 조립하기 위한 보강쇠가 용접으로 고정된 제 1 브라키트, 수직 파이프의 전방에 용접으로 고정되며 전방 캐스터를 조립하기 위한 보강쇠가 용접으로 고정된 제 2 브라키트, 제 2 브라키트 사이에 수평으로 용접되어 유압잭을 조립하기 위한 수평 브라키트로 되는 프레임과 그 프레임의 수직 파이프와 보강 파이프의 전방에 위치하며 중앙에는 워엄이 삽입되는 절개구멍이 형성되고 하단에는 제 1 수평단과 제 2 수평단이 용접으로 고정된 지지판과 반원 홈을 통해 보강 파이프에 삽입되고 보강 파이프의 앞면에 위치하는 지지판에 나사로 고정되어 지지판이 보강 파이프를 타고 상하로 이동하는 가이드 역할을 하는 지지판 홀더 및 이를 이용한 소형의 화분 이동용 핸드 캐리어에 관한 것이다. .\n"
     ]
    },
    {
     "name": "stderr",
     "output_type": "stream",
     "text": [
      " 57%|█████▋    | 7577/13369 [00:09<00:07, 769.93it/s]"
     ]
    },
    {
     "name": "stdout",
     "output_type": "stream",
     "text": [
      "본 발명은 고정 핀이 박혀 있는 기계구조물을 해체하여 공장 안으로 간단히 이동시킬 수 없는 상황에 있는 특수장치에 사용되는 고정 핀 빼기 및 박음장치에 관한 것으로, 더욱 상세하게는 유압실린더의 작동으로 봉체가 기계구조물에 억지끼움이 되어 있는 고정 핀에 압력을 가함과 동시에 유압브레이커의 작동에 의하여 봉체가 고정 핀이 기계구조물로부터 빠질 때까지 타격하는 고정 핀 빼기 및 박음장치에 관한 것이다. .\n"
     ]
    },
    {
     "name": "stderr",
     "output_type": "stream",
     "text": [
      " 89%|████████▊ | 11835/13369 [00:14<00:01, 896.05it/s]"
     ]
    },
    {
     "name": "stdout",
     "output_type": "stream",
     "text": [
      "본 발명은 엘이디투광등에 관한 것으로서, 보다 상세하게는 나사에 의해 하우징에 조립되는 탑 커버의 돌출 턱이 투명 커버의 돌출단을 누르고 투명 커버의 돌출단은 엘이디모듈의 가장자리 전체를 눌러서 하우징의 함몰부의 바닥 면에 고정된 엘이디모듈의 가장자리가 휘어져 위쪽으로 변형되지 않고 엘이디모듈의 저면 전체가 바닥 면에 거의 고르게 접촉된 상태가 유지되도록 하여 엘이디모듈로부터 발생된 열이 하우징에 잘 전달되어 엘이디모듈의 열이 양호하게 식을 수 있도록 함에 따라 엘이디모듈의 열이 더욱 크게 향상될 수 있는 엘이디투광등에 관한 것이다. .\n"
     ]
    },
    {
     "name": "stderr",
     "output_type": "stream",
     "text": [
      "100%|██████████| 13369/13369 [00:16<00:00, 821.82it/s]\n",
      "  8%|▊         | 1032/13369 [00:01<00:14, 835.73it/s]"
     ]
    },
    {
     "name": "stdout",
     "output_type": "stream",
     "text": [
      "본 발명은 컷아웃스위치 또는 피뢰기 고정용 경완금의 제조방법에 관한 것으로, 더욱 상세하게는 종래의 경완금에 비하여 부식이 없이 반영구적인 수명을 유지할 수 있고 중량이 가벼워 작업하기가 용이하며 강도와 탄성이 향상된 컷아웃스위치 또는 피뢰기 고정용 경완금의 제조방법에 관한 것이다. .\n"
     ]
    },
    {
     "name": "stderr",
     "output_type": "stream",
     "text": [
      " 26%|██▌       | 3434/13369 [00:04<00:13, 739.83it/s]"
     ]
    },
    {
     "name": "stdout",
     "output_type": "stream",
     "text": [
      "본 발명은 물건 지지팔의 폭 조절이 가능한 핸드 캐리어에 관한 것으로서, 더욱 상세하게는 손잡이가 고정되고 좌우 대칭으로 직립되는 수직 파이프와 보강 파이프의 위쪽과 중앙에 용접으로 고정되는 보강쇠, 보강쇠에 용접으로 고정되는 최소 2개의 보강 파이프, 수직 파이프의 하단 후방에 용접으로 고정되어 바퀴 지지축을 지지하는 브라키트로 되는 프레임과 브라키트 사이에 수평으로 조립되는 바퀴 지지축 및 바퀴 지지축의 양쪽 끝에 조립되는 바퀴와 보스의 역할을 겸하는 버팀쇠가 구비된다. .\n"
     ]
    },
    {
     "name": "stderr",
     "output_type": "stream",
     "text": [
      " 52%|█████▏    | 6894/13369 [00:08<00:07, 859.40it/s]"
     ]
    },
    {
     "name": "stdout",
     "output_type": "stream",
     "text": [
      "본 발명은 대형의 화분 이동용 핸드 캐리어에 관한 것으로서, 더욱 상세하게는 상단에 손잡이가 구비되고 좌우 대칭으로 직립되는 수직 파이프, 수직 파이프의 안쪽에 용접으로 고정되는 최소 2개의 보강 파이프, 수직 파이프와 보강 파이프에 용접으로 고정되는 보강대, 수직 파이프의 후방에 용접으로 고정되며 후방 캐스터를 조립하기 위한 보강쇠가 용접으로 고정된 제 1 브라키트, 수직 파이프의 전방에 용접으로 고정되며 전방 캐스터를 조립하기 위한 보강쇠가 용접으로 고정된 제 2 브라키트, 제 2 브라키트 사이에 수평으로 용접되어 유압잭을 조립하기 위한 수평 브라키트로 되는 프레임과 그 프레임의 수직 파이프와 보강 파이프의 전방에 위치하며 중앙에는 워엄이 삽입되는 절개구멍이 형성되고 하단에는 제 1 수평단과 제 2 수평단이 용접으로 고정된 지지판과 반원 홈을 통해 보강 파이프에 삽입되고 보강 파이프의 앞면에 위치하는 지지판에 나사로 고정되어 지지판이 보강 파이프를 타고 상하로 이동하는 가이드 역할을 하는 지지판 홀더 및 이를 이용한 소형의 화분 이동용 핸드 캐리어에 관한 것이다. .\n"
     ]
    },
    {
     "name": "stderr",
     "output_type": "stream",
     "text": [
      " 57%|█████▋    | 7588/13369 [00:09<00:07, 803.82it/s]"
     ]
    },
    {
     "name": "stdout",
     "output_type": "stream",
     "text": [
      "본 발명은 고정 핀이 박혀 있는 기계구조물을 해체하여 공장 안으로 간단히 이동시킬 수 없는 상황에 있는 특수장치에 사용되는 고정 핀 빼기 및 박음장치에 관한 것으로, 더욱 상세하게는 유압실린더의 작동으로 봉체가 기계구조물에 억지끼움이 되어 있는 고정 핀에 압력을 가함과 동시에 유압브레이커의 작동에 의하여 봉체가 고정 핀이 기계구조물로부터 빠질 때까지 타격하는 고정 핀 빼기 및 박음장치에 관한 것이다. .\n"
     ]
    },
    {
     "name": "stderr",
     "output_type": "stream",
     "text": [
      " 89%|████████▊ | 11833/13369 [00:14<00:01, 891.77it/s]"
     ]
    },
    {
     "name": "stdout",
     "output_type": "stream",
     "text": [
      "본 발명은 엘이디투광등에 관한 것으로서, 보다 상세하게는 나사에 의해 하우징에 조립되는 탑 커버의 돌출 턱이 투명 커버의 돌출단을 누르고 투명 커버의 돌출단은 엘이디모듈의 가장자리 전체를 눌러서 하우징의 함몰부의 바닥 면에 고정된 엘이디모듈의 가장자리가 휘어져 위쪽으로 변형되지 않고 엘이디모듈의 저면 전체가 바닥 면에 거의 고르게 접촉된 상태가 유지되도록 하여 엘이디모듈로부터 발생된 열이 하우징에 잘 전달되어 엘이디모듈의 열이 양호하게 식을 수 있도록 함에 따라 엘이디모듈의 열이 더욱 크게 향상될 수 있는 엘이디투광등에 관한 것이다. .\n"
     ]
    },
    {
     "name": "stderr",
     "output_type": "stream",
     "text": [
      "100%|██████████| 13369/13369 [00:15<00:00, 837.99it/s]\n",
      "  8%|▊         | 1048/13369 [00:01<00:14, 827.47it/s]"
     ]
    },
    {
     "name": "stdout",
     "output_type": "stream",
     "text": [
      "본 발명은 컷아웃스위치 또는 피뢰기 고정용 경완금의 제조방법에 관한 것으로, 더욱 상세하게는 종래의 경완금에 비하여 부식이 없이 반영구적인 수명을 유지할 수 있고 중량이 가벼워 작업하기가 용이하며 강도와 탄성이 향상된 컷아웃스위치 또는 피뢰기 고정용 경완금의 제조방법에 관한 것이다. .\n"
     ]
    },
    {
     "name": "stderr",
     "output_type": "stream",
     "text": [
      " 26%|██▌       | 3434/13369 [00:04<00:13, 739.56it/s]"
     ]
    },
    {
     "name": "stdout",
     "output_type": "stream",
     "text": [
      "본 발명은 물건 지지팔의 폭 조절이 가능한 핸드 캐리어에 관한 것으로서, 더욱 상세하게는 손잡이가 고정되고 좌우 대칭으로 직립되는 수직 파이프와 보강 파이프의 위쪽과 중앙에 용접으로 고정되는 보강쇠, 보강쇠에 용접으로 고정되는 최소 2개의 보강 파이프, 수직 파이프의 하단 후방에 용접으로 고정되어 바퀴 지지축을 지지하는 브라키트로 되는 프레임과 브라키트 사이에 수평으로 조립되는 바퀴 지지축 및 바퀴 지지축의 양쪽 끝에 조립되는 바퀴와 보스의 역할을 겸하는 버팀쇠가 구비된다. .\n"
     ]
    },
    {
     "name": "stderr",
     "output_type": "stream",
     "text": [
      " 52%|█████▏    | 6907/13369 [00:08<00:07, 865.34it/s]"
     ]
    },
    {
     "name": "stdout",
     "output_type": "stream",
     "text": [
      "본 발명은 대형의 화분 이동용 핸드 캐리어에 관한 것으로서, 더욱 상세하게는 상단에 손잡이가 구비되고 좌우 대칭으로 직립되는 수직 파이프, 수직 파이프의 안쪽에 용접으로 고정되는 최소 2개의 보강 파이프, 수직 파이프와 보강 파이프에 용접으로 고정되는 보강대, 수직 파이프의 후방에 용접으로 고정되며 후방 캐스터를 조립하기 위한 보강쇠가 용접으로 고정된 제 1 브라키트, 수직 파이프의 전방에 용접으로 고정되며 전방 캐스터를 조립하기 위한 보강쇠가 용접으로 고정된 제 2 브라키트, 제 2 브라키트 사이에 수평으로 용접되어 유압잭을 조립하기 위한 수평 브라키트로 되는 프레임과 그 프레임의 수직 파이프와 보강 파이프의 전방에 위치하며 중앙에는 워엄이 삽입되는 절개구멍이 형성되고 하단에는 제 1 수평단과 제 2 수평단이 용접으로 고정된 지지판과 반원 홈을 통해 보강 파이프에 삽입되고 보강 파이프의 앞면에 위치하는 지지판에 나사로 고정되어 지지판이 보강 파이프를 타고 상하로 이동하는 가이드 역할을 하는 지지판 홀더 및 이를 이용한 소형의 화분 이동용 핸드 캐리어에 관한 것이다. .\n"
     ]
    },
    {
     "name": "stderr",
     "output_type": "stream",
     "text": [
      " 57%|█████▋    | 7591/13369 [00:09<00:07, 804.61it/s]"
     ]
    },
    {
     "name": "stdout",
     "output_type": "stream",
     "text": [
      "본 발명은 고정 핀이 박혀 있는 기계구조물을 해체하여 공장 안으로 간단히 이동시킬 수 없는 상황에 있는 특수장치에 사용되는 고정 핀 빼기 및 박음장치에 관한 것으로, 더욱 상세하게는 유압실린더의 작동으로 봉체가 기계구조물에 억지끼움이 되어 있는 고정 핀에 압력을 가함과 동시에 유압브레이커의 작동에 의하여 봉체가 고정 핀이 기계구조물로부터 빠질 때까지 타격하는 고정 핀 빼기 및 박음장치에 관한 것이다. .\n"
     ]
    },
    {
     "name": "stderr",
     "output_type": "stream",
     "text": [
      " 89%|████████▊ | 11835/13369 [00:14<00:01, 893.15it/s]"
     ]
    },
    {
     "name": "stdout",
     "output_type": "stream",
     "text": [
      "본 발명은 엘이디투광등에 관한 것으로서, 보다 상세하게는 나사에 의해 하우징에 조립되는 탑 커버의 돌출 턱이 투명 커버의 돌출단을 누르고 투명 커버의 돌출단은 엘이디모듈의 가장자리 전체를 눌러서 하우징의 함몰부의 바닥 면에 고정된 엘이디모듈의 가장자리가 휘어져 위쪽으로 변형되지 않고 엘이디모듈의 저면 전체가 바닥 면에 거의 고르게 접촉된 상태가 유지되도록 하여 엘이디모듈로부터 발생된 열이 하우징에 잘 전달되어 엘이디모듈의 열이 양호하게 식을 수 있도록 함에 따라 엘이디모듈의 열이 더욱 크게 향상될 수 있는 엘이디투광등에 관한 것이다. .\n"
     ]
    },
    {
     "name": "stderr",
     "output_type": "stream",
     "text": [
      "100%|██████████| 13369/13369 [00:16<00:00, 810.52it/s]\n"
     ]
    }
   ],
   "source": [
    "from rouge import Rouge\n",
    "\n",
    "def calculate_rouge(output, target, measure, case):\n",
    "    try:\n",
    "        rouge = Rouge()\n",
    "        scores = rouge.get_scores(output, target, avg=True)\n",
    "        return scores[f'rouge-{case}'][measure]\n",
    "    except:\n",
    "        print(output, target)\n",
    "        return np.nan\n",
    "\n",
    "df_validation['rouge_r_l'] = df_validation[['summarized_abstract', 'output']].progress_apply(lambda x : calculate_rouge(x[0], x[1], 'r', 'l'), axis = 1)\n",
    "df_validation['rouge_p_l'] = df_validation[['summarized_abstract', 'output']].progress_apply(lambda x : calculate_rouge(x[0], x[1], 'p', 'l'), axis = 1)\n",
    "df_validation['rouge_f_l'] = df_validation[['summarized_abstract', 'output']].progress_apply(lambda x : calculate_rouge(x[0], x[1], 'f', 'l'), axis = 1)"
   ]
  },
  {
   "cell_type": "code",
   "execution_count": 30,
   "id": "7a9899ce-f45e-411f-a11c-01bc3edd387f",
   "metadata": {},
   "outputs": [
    {
     "data": {
      "text/html": [
       "<div>\n",
       "<style scoped>\n",
       "    .dataframe tbody tr th:only-of-type {\n",
       "        vertical-align: middle;\n",
       "    }\n",
       "\n",
       "    .dataframe tbody tr th {\n",
       "        vertical-align: top;\n",
       "    }\n",
       "\n",
       "    .dataframe thead th {\n",
       "        text-align: right;\n",
       "    }\n",
       "</style>\n",
       "<table border=\"1\" class=\"dataframe\">\n",
       "  <thead>\n",
       "    <tr style=\"text-align: right;\">\n",
       "      <th></th>\n",
       "      <th>rouge_r_l</th>\n",
       "      <th>rouge_p_l</th>\n",
       "      <th>rouge_f_l</th>\n",
       "    </tr>\n",
       "  </thead>\n",
       "  <tbody>\n",
       "    <tr>\n",
       "      <th>mean</th>\n",
       "      <td>0.624578</td>\n",
       "      <td>0.600332</td>\n",
       "      <td>0.583205</td>\n",
       "    </tr>\n",
       "    <tr>\n",
       "      <th>std</th>\n",
       "      <td>0.262716</td>\n",
       "      <td>0.288986</td>\n",
       "      <td>0.257278</td>\n",
       "    </tr>\n",
       "  </tbody>\n",
       "</table>\n",
       "</div>"
      ],
      "text/plain": [
       "      rouge_r_l  rouge_p_l  rouge_f_l\n",
       "mean   0.624578   0.600332   0.583205\n",
       "std    0.262716   0.288986   0.257278"
      ]
     },
     "execution_count": 30,
     "metadata": {},
     "output_type": "execute_result"
    }
   ],
   "source": [
    "df_validation[['rouge_r_l', 'rouge_p_l', 'rouge_f_l']].agg(['mean', 'std'])"
   ]
  },
  {
   "cell_type": "code",
   "execution_count": 28,
   "id": "7a282e55-66bf-407b-aa62-63493dd697d4",
   "metadata": {},
   "outputs": [
    {
     "data": {
      "text/html": [
       "<div>\n",
       "<style scoped>\n",
       "    .dataframe tbody tr th:only-of-type {\n",
       "        vertical-align: middle;\n",
       "    }\n",
       "\n",
       "    .dataframe tbody tr th {\n",
       "        vertical-align: top;\n",
       "    }\n",
       "\n",
       "    .dataframe thead th {\n",
       "        text-align: right;\n",
       "    }\n",
       "</style>\n",
       "<table border=\"1\" class=\"dataframe\">\n",
       "  <thead>\n",
       "    <tr style=\"text-align: right;\">\n",
       "      <th></th>\n",
       "      <th>rouge_r_l</th>\n",
       "      <th>rouge_p_l</th>\n",
       "      <th>rouge_f_l</th>\n",
       "    </tr>\n",
       "  </thead>\n",
       "  <tbody>\n",
       "    <tr>\n",
       "      <th>mean</th>\n",
       "      <td>0.624578</td>\n",
       "      <td>0.600332</td>\n",
       "      <td>0.583205</td>\n",
       "    </tr>\n",
       "    <tr>\n",
       "      <th>std</th>\n",
       "      <td>0.262716</td>\n",
       "      <td>0.288986</td>\n",
       "      <td>0.257278</td>\n",
       "    </tr>\n",
       "  </tbody>\n",
       "</table>\n",
       "</div>"
      ],
      "text/plain": [
       "      rouge_r_l  rouge_p_l  rouge_f_l\n",
       "mean   0.624578   0.600332   0.583205\n",
       "std    0.262716   0.288986   0.257278"
      ]
     },
     "execution_count": 28,
     "metadata": {},
     "output_type": "execute_result"
    }
   ],
   "source": [
    "pd.read_csv(data_path + f'/valid_backup8.tsv', sep = '\\t')[['rouge_r_l', 'rouge_p_l', 'rouge_f_l']].agg(['mean', 'std'])"
   ]
  },
  {
   "cell_type": "code",
   "execution_count": 29,
   "id": "4af33273-285d-43d7-8296-2c91e3913207",
   "metadata": {},
   "outputs": [
    {
     "data": {
      "text/html": [
       "<div>\n",
       "<style scoped>\n",
       "    .dataframe tbody tr th:only-of-type {\n",
       "        vertical-align: middle;\n",
       "    }\n",
       "\n",
       "    .dataframe tbody tr th {\n",
       "        vertical-align: top;\n",
       "    }\n",
       "\n",
       "    .dataframe thead th {\n",
       "        text-align: right;\n",
       "    }\n",
       "</style>\n",
       "<table border=\"1\" class=\"dataframe\">\n",
       "  <thead>\n",
       "    <tr style=\"text-align: right;\">\n",
       "      <th></th>\n",
       "      <th>rouge_r_l</th>\n",
       "      <th>rouge_p_l</th>\n",
       "      <th>rouge_f_l</th>\n",
       "    </tr>\n",
       "  </thead>\n",
       "  <tbody>\n",
       "    <tr>\n",
       "      <th>mean</th>\n",
       "      <td>0.623840</td>\n",
       "      <td>0.597862</td>\n",
       "      <td>0.582203</td>\n",
       "    </tr>\n",
       "    <tr>\n",
       "      <th>std</th>\n",
       "      <td>0.261779</td>\n",
       "      <td>0.287908</td>\n",
       "      <td>0.256280</td>\n",
       "    </tr>\n",
       "  </tbody>\n",
       "</table>\n",
       "</div>"
      ],
      "text/plain": [
       "      rouge_r_l  rouge_p_l  rouge_f_l\n",
       "mean   0.623840   0.597862   0.582203\n",
       "std    0.261779   0.287908   0.256280"
      ]
     },
     "execution_count": 29,
     "metadata": {},
     "output_type": "execute_result"
    }
   ],
   "source": [
    "pd.read_csv(data_path + f'/valid_backup7.tsv', sep = '\\t')[['rouge_r_l', 'rouge_p_l', 'rouge_f_l']].agg(['mean', 'std'])"
   ]
  },
  {
   "cell_type": "code",
   "execution_count": 30,
   "id": "1ca418dd-8849-4974-be4d-e980913a2d89",
   "metadata": {},
   "outputs": [
    {
     "data": {
      "text/html": [
       "<div>\n",
       "<style scoped>\n",
       "    .dataframe tbody tr th:only-of-type {\n",
       "        vertical-align: middle;\n",
       "    }\n",
       "\n",
       "    .dataframe tbody tr th {\n",
       "        vertical-align: top;\n",
       "    }\n",
       "\n",
       "    .dataframe thead th {\n",
       "        text-align: right;\n",
       "    }\n",
       "</style>\n",
       "<table border=\"1\" class=\"dataframe\">\n",
       "  <thead>\n",
       "    <tr style=\"text-align: right;\">\n",
       "      <th></th>\n",
       "      <th>rouge_r_l</th>\n",
       "      <th>rouge_p_l</th>\n",
       "      <th>rouge_f_l</th>\n",
       "    </tr>\n",
       "  </thead>\n",
       "  <tbody>\n",
       "    <tr>\n",
       "      <th>mean</th>\n",
       "      <td>0.608929</td>\n",
       "      <td>0.650642</td>\n",
       "      <td>0.582582</td>\n",
       "    </tr>\n",
       "    <tr>\n",
       "      <th>std</th>\n",
       "      <td>0.270517</td>\n",
       "      <td>0.319690</td>\n",
       "      <td>0.272051</td>\n",
       "    </tr>\n",
       "  </tbody>\n",
       "</table>\n",
       "</div>"
      ],
      "text/plain": [
       "      rouge_r_l  rouge_p_l  rouge_f_l\n",
       "mean   0.608929   0.650642   0.582582\n",
       "std    0.270517   0.319690   0.272051"
      ]
     },
     "execution_count": 30,
     "metadata": {},
     "output_type": "execute_result"
    }
   ],
   "source": [
    "pd.read_csv(data_path + f'/valid_backup6.tsv', sep = '\\t')[['rouge_r_l', 'rouge_p_l', 'rouge_f_l']].agg(['mean', 'std'])"
   ]
  },
  {
   "cell_type": "code",
   "execution_count": 31,
   "id": "40dcee9e-74bc-49ed-b12c-6c2a3fcbf3b1",
   "metadata": {},
   "outputs": [
    {
     "data": {
      "text/html": [
       "<div>\n",
       "<style scoped>\n",
       "    .dataframe tbody tr th:only-of-type {\n",
       "        vertical-align: middle;\n",
       "    }\n",
       "\n",
       "    .dataframe tbody tr th {\n",
       "        vertical-align: top;\n",
       "    }\n",
       "\n",
       "    .dataframe thead th {\n",
       "        text-align: right;\n",
       "    }\n",
       "</style>\n",
       "<table border=\"1\" class=\"dataframe\">\n",
       "  <thead>\n",
       "    <tr style=\"text-align: right;\">\n",
       "      <th></th>\n",
       "      <th>rouge_r_l</th>\n",
       "      <th>rouge_p_l</th>\n",
       "      <th>rouge_f_l</th>\n",
       "    </tr>\n",
       "  </thead>\n",
       "  <tbody>\n",
       "    <tr>\n",
       "      <th>mean</th>\n",
       "      <td>0.610929</td>\n",
       "      <td>0.652523</td>\n",
       "      <td>0.585522</td>\n",
       "    </tr>\n",
       "    <tr>\n",
       "      <th>std</th>\n",
       "      <td>0.273706</td>\n",
       "      <td>0.321880</td>\n",
       "      <td>0.275179</td>\n",
       "    </tr>\n",
       "  </tbody>\n",
       "</table>\n",
       "</div>"
      ],
      "text/plain": [
       "      rouge_r_l  rouge_p_l  rouge_f_l\n",
       "mean   0.610929   0.652523   0.585522\n",
       "std    0.273706   0.321880   0.275179"
      ]
     },
     "execution_count": 31,
     "metadata": {},
     "output_type": "execute_result"
    }
   ],
   "source": [
    "pd.read_csv(data_path + f'/valid_backup4.tsv', sep = '\\t')[['rouge_r_l', 'rouge_p_l', 'rouge_f_l']].agg(['mean', 'std'])"
   ]
  },
  {
   "cell_type": "code",
   "execution_count": 31,
   "id": "f8ffa813-30e2-45c8-8861-af9e0942be8d",
   "metadata": {},
   "outputs": [],
   "source": [
    "df_validation.to_csv(data_path + f'/valid_{args.version}.tsv', sep = '\\t', index = False)"
   ]
  },
  {
   "cell_type": "code",
   "execution_count": 33,
   "id": "7396abb7-284d-409f-a328-0cdfff73c250",
   "metadata": {},
   "outputs": [
    {
     "name": "stdout",
     "output_type": "stream",
     "text": [
      "--------------------------Rouge-F1_Score---------------------------\n",
      "Rouge-F_1: 0.3508771900892583\n",
      "Rouge-F_2: 0.31578947102493077\n",
      "Rouge-F_L: 0.3508771900892583\n",
      "\n",
      "--------------------------Rouge-Recall---------------------------\n",
      "Rouge-R_1: 1.0\n",
      "Rouge-R_2: 1.0\n",
      "Rouge-R_L: 1.0\n",
      "--------------------------Rouge-Precision---------------------------\n",
      "Rouge-P_1: 0.2127659574468085\n",
      "Rouge-P_2: 0.1875\n",
      "Rouge-P_L: 0.2127659574468085\n"
     ]
    }
   ],
   "source": [
    "from rouge import Rouge\n",
    "\n",
    "def rouge_f_r_summary(hypotheses, references):\n",
    "    rouge = Rouge()\n",
    "\n",
    "    scores = rouge.get_scores(hypotheses, references, avg=True)\n",
    "    rouge_f_1 = scores['rouge-1']['f']\n",
    "    rouge_r_1 = scores['rouge-1']['r']\n",
    "    rouge_p_1 = scores['rouge-1']['p']\n",
    "    rouge_f_2 = scores['rouge-2']['f']\n",
    "    rouge_r_2 = scores['rouge-2']['r']\n",
    "    rouge_p_2 = scores['rouge-2']['p']\n",
    "    rouge_f_L = scores['rouge-l']['f']\n",
    "    rouge_r_L = scores['rouge-l']['r']\n",
    "    rouge_p_L = scores['rouge-l']['p']\n",
    "    return rouge_f_1, rouge_f_2, rouge_f_L, rouge_r_1, rouge_r_2, rouge_r_L, rouge_p_1, rouge_p_2, rouge_p_L\n",
    "\n",
    "rouge_f_1, rouge_f_2, rouge_f_L, rouge_r_1, rouge_r_2, rouge_r_L, rouge_p_1, rouge_p_2, rouge_p_L = rouge_f_r_summary(output, target)\n",
    "print(\"--------------------------Rouge-F1_Score---------------------------\")\n",
    "print(\"Rouge-F_1:\", rouge_f_1)\n",
    "print(\"Rouge-F_2:\", rouge_f_2)\n",
    "print(\"Rouge-F_L:\", rouge_f_L)\n",
    "print(\"\")\n",
    "print(\"--------------------------Rouge-Recall---------------------------\")\n",
    "print(\"Rouge-R_1:\", rouge_r_1)\n",
    "print(\"Rouge-R_2:\", rouge_r_2)\n",
    "print(\"Rouge-R_L:\", rouge_r_L)\n",
    "print(\"--------------------------Rouge-Precision---------------------------\")\n",
    "print(\"Rouge-P_1:\", rouge_p_1)\n",
    "print(\"Rouge-P_2:\", rouge_p_2)\n",
    "print(\"Rouge-P_L:\", rouge_p_L)"
   ]
  },
  {
   "cell_type": "code",
   "execution_count": null,
   "id": "cdeb7795-ea8c-49cd-9ffc-90b06060ff52",
   "metadata": {},
   "outputs": [],
   "source": [
    "# 백업 / 실험환경 / 정체성을 까먹음 / Measure 설정"
   ]
  },
  {
   "cell_type": "code",
   "execution_count": null,
   "id": "f32326c6-0348-4492-94a5-1e1d87ee86f9",
   "metadata": {},
   "outputs": [],
   "source": []
  },
  {
   "cell_type": "code",
   "execution_count": null,
   "id": "bc576f7d-2882-466d-b6eb-9d3f83a13446",
   "metadata": {},
   "outputs": [],
   "source": []
  }
 ],
 "metadata": {
  "kernelspec": {
   "display_name": "Python 3 (ipykernel)",
   "language": "python",
   "name": "python3"
  },
  "language_info": {
   "codemirror_mode": {
    "name": "ipython",
    "version": 3
   },
   "file_extension": ".py",
   "mimetype": "text/x-python",
   "name": "python",
   "nbconvert_exporter": "python",
   "pygments_lexer": "ipython3",
   "version": "3.8.5"
  }
 },
 "nbformat": 4,
 "nbformat_minor": 5
}
